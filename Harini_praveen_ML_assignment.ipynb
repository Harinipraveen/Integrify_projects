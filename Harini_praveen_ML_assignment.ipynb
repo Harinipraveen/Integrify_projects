{
 "cells": [
  {
   "cell_type": "markdown",
   "id": "8c3d79df",
   "metadata": {},
   "source": [
    "# Classification and Regression"
   ]
  },
  {
   "cell_type": "markdown",
   "id": "04858937",
   "metadata": {},
   "source": [
    "## Fraud detection in account transactions using supervised classification techniques"
   ]
  },
  {
   "cell_type": "markdown",
   "id": "2908c6d1",
   "metadata": {},
   "source": [
    "### Performance comparison of Logistic and decisiontree classifier "
   ]
  },
  {
   "cell_type": "code",
   "execution_count": 2,
   "id": "d387db46",
   "metadata": {
    "ExecuteTime": {
     "end_time": "2022-05-26T12:16:57.755102Z",
     "start_time": "2022-05-26T12:16:29.206337Z"
    }
   },
   "outputs": [],
   "source": [
    "#importing necessary libraries\n",
    "import pandas as pd\n",
    "import numpy as np\n",
    "import matplotlib.pyplot as plt\n",
    "import seaborn as sns\n",
    "%matplotlib inline\n",
    "\n",
    "import warnings\n",
    "warnings.filterwarnings('ignore')"
   ]
  },
  {
   "cell_type": "code",
   "execution_count": 158,
   "id": "ac6e2194",
   "metadata": {
    "ExecuteTime": {
     "end_time": "2022-05-26T14:22:32.731547Z",
     "start_time": "2022-05-26T14:22:32.727206Z"
    }
   },
   "outputs": [],
   "source": [
    "#importing models and metrics from sklearn\n",
    "from sklearn.linear_model import LogisticRegression\n",
    "from sklearn.tree import DecisionTreeClassifier\n",
    "from sklearn.model_selection import cross_val_score, train_test_split\n",
    "from sklearn.preprocessing import StandardScaler\n",
    "from sklearn.model_selection import GridSearchCV\n",
    "from sklearn.metrics import classification_report,confusion_matrix\n",
    "from sklearn.metrics import mean_squared_error,accuracy_score,r2_score"
   ]
  },
  {
   "cell_type": "code",
   "execution_count": 126,
   "id": "e136b87d",
   "metadata": {
    "ExecuteTime": {
     "end_time": "2022-05-26T13:55:08.450082Z",
     "start_time": "2022-05-26T13:55:08.445704Z"
    }
   },
   "outputs": [],
   "source": [
    "#imporing preproccesors and sampling and dimensionality reduction from sklearn\n",
    "from sklearn import model_selection\n",
    "from sklearn import preprocessing\n",
    "from sklearn.preprocessing import LabelEncoder\n",
    "from imblearn.combine import SMOTETomek\n",
    "from sklearn.model_selection import train_test_split\n",
    "from sklearn.decomposition import PCA"
   ]
  },
  {
   "cell_type": "code",
   "execution_count": 5,
   "id": "03829b9a",
   "metadata": {
    "ExecuteTime": {
     "end_time": "2022-05-26T12:24:01.992051Z",
     "start_time": "2022-05-26T12:24:01.987978Z"
    }
   },
   "outputs": [],
   "source": [
    "#importing linear regression supervised ML models from sklearn\n",
    "from sklearn.linear_model import LinearRegression,Lasso,Ridge,ElasticNetCV,SGDRegressor"
   ]
  },
  {
   "cell_type": "code",
   "execution_count": 4,
   "id": "6d512c0d",
   "metadata": {
    "ExecuteTime": {
     "end_time": "2022-05-25T09:11:44.386733Z",
     "start_time": "2022-05-25T09:11:44.382035Z"
    }
   },
   "outputs": [],
   "source": [
    "#!pip install -U imbalanced-learn"
   ]
  },
  {
   "cell_type": "code",
   "execution_count": 5,
   "id": "1b66d691",
   "metadata": {
    "ExecuteTime": {
     "end_time": "2022-05-25T09:11:44.599083Z",
     "start_time": "2022-05-25T09:11:44.402078Z"
    }
   },
   "outputs": [],
   "source": [
    "#!pip install sklearn"
   ]
  },
  {
   "cell_type": "markdown",
   "id": "964a79fc",
   "metadata": {},
   "source": [
    "**Payments csv contains transaction history of several records of payment from source to destination account**"
   ]
  },
  {
   "cell_type": "code",
   "execution_count": 6,
   "id": "b82aecc0",
   "metadata": {
    "ExecuteTime": {
     "end_time": "2022-05-25T09:12:05.666014Z",
     "start_time": "2022-05-25T09:11:44.609084Z"
    }
   },
   "outputs": [],
   "source": [
    "payments = pd.read_csv('payment_transactions.csv')"
   ]
  },
  {
   "cell_type": "code",
   "execution_count": 7,
   "id": "1dfc5964",
   "metadata": {
    "ExecuteTime": {
     "end_time": "2022-05-25T09:12:05.964755Z",
     "start_time": "2022-05-25T09:12:05.918467Z"
    }
   },
   "outputs": [
    {
     "data": {
      "text/html": [
       "<div>\n",
       "<style scoped>\n",
       "    .dataframe tbody tr th:only-of-type {\n",
       "        vertical-align: middle;\n",
       "    }\n",
       "\n",
       "    .dataframe tbody tr th {\n",
       "        vertical-align: top;\n",
       "    }\n",
       "\n",
       "    .dataframe thead th {\n",
       "        text-align: right;\n",
       "    }\n",
       "</style>\n",
       "<table border=\"1\" class=\"dataframe\">\n",
       "  <thead>\n",
       "    <tr style=\"text-align: right;\">\n",
       "      <th></th>\n",
       "      <th>step</th>\n",
       "      <th>type</th>\n",
       "      <th>amount</th>\n",
       "      <th>nameOrig</th>\n",
       "      <th>oldbalanceOrg</th>\n",
       "      <th>newbalanceOrig</th>\n",
       "      <th>nameDest</th>\n",
       "      <th>oldbalanceDest</th>\n",
       "      <th>newbalanceDest</th>\n",
       "      <th>isFraud</th>\n",
       "      <th>isFlaggedFraud</th>\n",
       "    </tr>\n",
       "  </thead>\n",
       "  <tbody>\n",
       "    <tr>\n",
       "      <th>0</th>\n",
       "      <td>1</td>\n",
       "      <td>PAYMENT</td>\n",
       "      <td>9839.64</td>\n",
       "      <td>C1231006815</td>\n",
       "      <td>170136.0</td>\n",
       "      <td>160296.36</td>\n",
       "      <td>M1979787155</td>\n",
       "      <td>0.0</td>\n",
       "      <td>0.0</td>\n",
       "      <td>0</td>\n",
       "      <td>0</td>\n",
       "    </tr>\n",
       "    <tr>\n",
       "      <th>1</th>\n",
       "      <td>1</td>\n",
       "      <td>PAYMENT</td>\n",
       "      <td>1864.28</td>\n",
       "      <td>C1666544295</td>\n",
       "      <td>21249.0</td>\n",
       "      <td>19384.72</td>\n",
       "      <td>M2044282225</td>\n",
       "      <td>0.0</td>\n",
       "      <td>0.0</td>\n",
       "      <td>0</td>\n",
       "      <td>0</td>\n",
       "    </tr>\n",
       "    <tr>\n",
       "      <th>2</th>\n",
       "      <td>1</td>\n",
       "      <td>TRANSFER</td>\n",
       "      <td>181.00</td>\n",
       "      <td>C1305486145</td>\n",
       "      <td>181.0</td>\n",
       "      <td>0.00</td>\n",
       "      <td>C553264065</td>\n",
       "      <td>0.0</td>\n",
       "      <td>0.0</td>\n",
       "      <td>1</td>\n",
       "      <td>0</td>\n",
       "    </tr>\n",
       "    <tr>\n",
       "      <th>3</th>\n",
       "      <td>1</td>\n",
       "      <td>CASH_OUT</td>\n",
       "      <td>181.00</td>\n",
       "      <td>C840083671</td>\n",
       "      <td>181.0</td>\n",
       "      <td>0.00</td>\n",
       "      <td>C38997010</td>\n",
       "      <td>21182.0</td>\n",
       "      <td>0.0</td>\n",
       "      <td>1</td>\n",
       "      <td>0</td>\n",
       "    </tr>\n",
       "    <tr>\n",
       "      <th>4</th>\n",
       "      <td>1</td>\n",
       "      <td>PAYMENT</td>\n",
       "      <td>11668.14</td>\n",
       "      <td>C2048537720</td>\n",
       "      <td>41554.0</td>\n",
       "      <td>29885.86</td>\n",
       "      <td>M1230701703</td>\n",
       "      <td>0.0</td>\n",
       "      <td>0.0</td>\n",
       "      <td>0</td>\n",
       "      <td>0</td>\n",
       "    </tr>\n",
       "  </tbody>\n",
       "</table>\n",
       "</div>"
      ],
      "text/plain": [
       "   step      type    amount     nameOrig  oldbalanceOrg  newbalanceOrig  \\\n",
       "0     1   PAYMENT   9839.64  C1231006815       170136.0       160296.36   \n",
       "1     1   PAYMENT   1864.28  C1666544295        21249.0        19384.72   \n",
       "2     1  TRANSFER    181.00  C1305486145          181.0            0.00   \n",
       "3     1  CASH_OUT    181.00   C840083671          181.0            0.00   \n",
       "4     1   PAYMENT  11668.14  C2048537720        41554.0        29885.86   \n",
       "\n",
       "      nameDest  oldbalanceDest  newbalanceDest  isFraud  isFlaggedFraud  \n",
       "0  M1979787155             0.0             0.0        0               0  \n",
       "1  M2044282225             0.0             0.0        0               0  \n",
       "2   C553264065             0.0             0.0        1               0  \n",
       "3    C38997010         21182.0             0.0        1               0  \n",
       "4  M1230701703             0.0             0.0        0               0  "
      ]
     },
     "execution_count": 7,
     "metadata": {},
     "output_type": "execute_result"
    }
   ],
   "source": [
    "payments.head()"
   ]
  },
  {
   "cell_type": "code",
   "execution_count": 8,
   "id": "1deb7558",
   "metadata": {
    "ExecuteTime": {
     "end_time": "2022-05-25T09:12:08.696778Z",
     "start_time": "2022-05-25T09:12:05.983547Z"
    }
   },
   "outputs": [
    {
     "data": {
      "text/html": [
       "<div>\n",
       "<style scoped>\n",
       "    .dataframe tbody tr th:only-of-type {\n",
       "        vertical-align: middle;\n",
       "    }\n",
       "\n",
       "    .dataframe tbody tr th {\n",
       "        vertical-align: top;\n",
       "    }\n",
       "\n",
       "    .dataframe thead th {\n",
       "        text-align: right;\n",
       "    }\n",
       "</style>\n",
       "<table border=\"1\" class=\"dataframe\">\n",
       "  <thead>\n",
       "    <tr style=\"text-align: right;\">\n",
       "      <th></th>\n",
       "      <th>step</th>\n",
       "      <th>amount</th>\n",
       "      <th>oldbalanceOrg</th>\n",
       "      <th>newbalanceOrig</th>\n",
       "      <th>oldbalanceDest</th>\n",
       "      <th>newbalanceDest</th>\n",
       "      <th>isFraud</th>\n",
       "      <th>isFlaggedFraud</th>\n",
       "    </tr>\n",
       "  </thead>\n",
       "  <tbody>\n",
       "    <tr>\n",
       "      <th>count</th>\n",
       "      <td>6.362620e+06</td>\n",
       "      <td>6.362620e+06</td>\n",
       "      <td>6.362620e+06</td>\n",
       "      <td>6.362620e+06</td>\n",
       "      <td>6.362620e+06</td>\n",
       "      <td>6.362620e+06</td>\n",
       "      <td>6.362620e+06</td>\n",
       "      <td>6.362620e+06</td>\n",
       "    </tr>\n",
       "    <tr>\n",
       "      <th>mean</th>\n",
       "      <td>2.433972e+02</td>\n",
       "      <td>1.798619e+05</td>\n",
       "      <td>8.338831e+05</td>\n",
       "      <td>8.551137e+05</td>\n",
       "      <td>1.100702e+06</td>\n",
       "      <td>1.224996e+06</td>\n",
       "      <td>1.290820e-03</td>\n",
       "      <td>2.514687e-06</td>\n",
       "    </tr>\n",
       "    <tr>\n",
       "      <th>std</th>\n",
       "      <td>1.423320e+02</td>\n",
       "      <td>6.038582e+05</td>\n",
       "      <td>2.888243e+06</td>\n",
       "      <td>2.924049e+06</td>\n",
       "      <td>3.399180e+06</td>\n",
       "      <td>3.674129e+06</td>\n",
       "      <td>3.590480e-02</td>\n",
       "      <td>1.585775e-03</td>\n",
       "    </tr>\n",
       "    <tr>\n",
       "      <th>min</th>\n",
       "      <td>1.000000e+00</td>\n",
       "      <td>0.000000e+00</td>\n",
       "      <td>0.000000e+00</td>\n",
       "      <td>0.000000e+00</td>\n",
       "      <td>0.000000e+00</td>\n",
       "      <td>0.000000e+00</td>\n",
       "      <td>0.000000e+00</td>\n",
       "      <td>0.000000e+00</td>\n",
       "    </tr>\n",
       "    <tr>\n",
       "      <th>25%</th>\n",
       "      <td>1.560000e+02</td>\n",
       "      <td>1.338957e+04</td>\n",
       "      <td>0.000000e+00</td>\n",
       "      <td>0.000000e+00</td>\n",
       "      <td>0.000000e+00</td>\n",
       "      <td>0.000000e+00</td>\n",
       "      <td>0.000000e+00</td>\n",
       "      <td>0.000000e+00</td>\n",
       "    </tr>\n",
       "    <tr>\n",
       "      <th>50%</th>\n",
       "      <td>2.390000e+02</td>\n",
       "      <td>7.487194e+04</td>\n",
       "      <td>1.420800e+04</td>\n",
       "      <td>0.000000e+00</td>\n",
       "      <td>1.327057e+05</td>\n",
       "      <td>2.146614e+05</td>\n",
       "      <td>0.000000e+00</td>\n",
       "      <td>0.000000e+00</td>\n",
       "    </tr>\n",
       "    <tr>\n",
       "      <th>75%</th>\n",
       "      <td>3.350000e+02</td>\n",
       "      <td>2.087215e+05</td>\n",
       "      <td>1.073152e+05</td>\n",
       "      <td>1.442584e+05</td>\n",
       "      <td>9.430367e+05</td>\n",
       "      <td>1.111909e+06</td>\n",
       "      <td>0.000000e+00</td>\n",
       "      <td>0.000000e+00</td>\n",
       "    </tr>\n",
       "    <tr>\n",
       "      <th>max</th>\n",
       "      <td>7.430000e+02</td>\n",
       "      <td>9.244552e+07</td>\n",
       "      <td>5.958504e+07</td>\n",
       "      <td>4.958504e+07</td>\n",
       "      <td>3.560159e+08</td>\n",
       "      <td>3.561793e+08</td>\n",
       "      <td>1.000000e+00</td>\n",
       "      <td>1.000000e+00</td>\n",
       "    </tr>\n",
       "  </tbody>\n",
       "</table>\n",
       "</div>"
      ],
      "text/plain": [
       "               step        amount  oldbalanceOrg  newbalanceOrig  \\\n",
       "count  6.362620e+06  6.362620e+06   6.362620e+06    6.362620e+06   \n",
       "mean   2.433972e+02  1.798619e+05   8.338831e+05    8.551137e+05   \n",
       "std    1.423320e+02  6.038582e+05   2.888243e+06    2.924049e+06   \n",
       "min    1.000000e+00  0.000000e+00   0.000000e+00    0.000000e+00   \n",
       "25%    1.560000e+02  1.338957e+04   0.000000e+00    0.000000e+00   \n",
       "50%    2.390000e+02  7.487194e+04   1.420800e+04    0.000000e+00   \n",
       "75%    3.350000e+02  2.087215e+05   1.073152e+05    1.442584e+05   \n",
       "max    7.430000e+02  9.244552e+07   5.958504e+07    4.958504e+07   \n",
       "\n",
       "       oldbalanceDest  newbalanceDest       isFraud  isFlaggedFraud  \n",
       "count    6.362620e+06    6.362620e+06  6.362620e+06    6.362620e+06  \n",
       "mean     1.100702e+06    1.224996e+06  1.290820e-03    2.514687e-06  \n",
       "std      3.399180e+06    3.674129e+06  3.590480e-02    1.585775e-03  \n",
       "min      0.000000e+00    0.000000e+00  0.000000e+00    0.000000e+00  \n",
       "25%      0.000000e+00    0.000000e+00  0.000000e+00    0.000000e+00  \n",
       "50%      1.327057e+05    2.146614e+05  0.000000e+00    0.000000e+00  \n",
       "75%      9.430367e+05    1.111909e+06  0.000000e+00    0.000000e+00  \n",
       "max      3.560159e+08    3.561793e+08  1.000000e+00    1.000000e+00  "
      ]
     },
     "execution_count": 8,
     "metadata": {},
     "output_type": "execute_result"
    }
   ],
   "source": [
    "payments.describe()"
   ]
  },
  {
   "cell_type": "code",
   "execution_count": 9,
   "id": "cace7bbc",
   "metadata": {
    "ExecuteTime": {
     "end_time": "2022-05-25T09:12:08.740751Z",
     "start_time": "2022-05-25T09:12:08.723806Z"
    }
   },
   "outputs": [
    {
     "data": {
      "text/plain": [
       "(6362620, 11)"
      ]
     },
     "execution_count": 9,
     "metadata": {},
     "output_type": "execute_result"
    }
   ],
   "source": [
    "payments.shape"
   ]
  },
  {
   "cell_type": "code",
   "execution_count": 10,
   "id": "3dd8a5ef",
   "metadata": {
    "ExecuteTime": {
     "end_time": "2022-05-25T09:12:09.348650Z",
     "start_time": "2022-05-25T09:12:08.763922Z"
    }
   },
   "outputs": [
    {
     "name": "stdout",
     "output_type": "stream",
     "text": [
      "<class 'pandas.core.frame.DataFrame'>\n",
      "RangeIndex: 6362620 entries, 0 to 6362619\n",
      "Data columns (total 11 columns):\n",
      " #   Column          Dtype  \n",
      "---  ------          -----  \n",
      " 0   step            int64  \n",
      " 1   type            object \n",
      " 2   amount          float64\n",
      " 3   nameOrig        object \n",
      " 4   oldbalanceOrg   float64\n",
      " 5   newbalanceOrig  float64\n",
      " 6   nameDest        object \n",
      " 7   oldbalanceDest  float64\n",
      " 8   newbalanceDest  float64\n",
      " 9   isFraud         int64  \n",
      " 10  isFlaggedFraud  int64  \n",
      "dtypes: float64(5), int64(3), object(3)\n",
      "memory usage: 534.0+ MB\n"
     ]
    }
   ],
   "source": [
    "payments.info()"
   ]
  },
  {
   "cell_type": "code",
   "execution_count": 11,
   "id": "dbee09f4",
   "metadata": {
    "ExecuteTime": {
     "end_time": "2022-05-25T09:12:11.910346Z",
     "start_time": "2022-05-25T09:12:09.370560Z"
    }
   },
   "outputs": [
    {
     "data": {
      "text/plain": [
       "step              0\n",
       "type              0\n",
       "amount            0\n",
       "nameOrig          0\n",
       "oldbalanceOrg     0\n",
       "newbalanceOrig    0\n",
       "nameDest          0\n",
       "oldbalanceDest    0\n",
       "newbalanceDest    0\n",
       "isFraud           0\n",
       "isFlaggedFraud    0\n",
       "dtype: int64"
      ]
     },
     "execution_count": 11,
     "metadata": {},
     "output_type": "execute_result"
    }
   ],
   "source": [
    "payments.isnull().sum()"
   ]
  },
  {
   "cell_type": "markdown",
   "id": "ac3bbde7",
   "metadata": {},
   "source": [
    "**The classes are imbalanced. We need to balance the classes using sampling techniques from imblearn package from scikit learn**"
   ]
  },
  {
   "cell_type": "code",
   "execution_count": 12,
   "id": "f41b5bce",
   "metadata": {
    "ExecuteTime": {
     "end_time": "2022-05-25T09:12:12.016211Z",
     "start_time": "2022-05-25T09:12:11.952617Z"
    }
   },
   "outputs": [
    {
     "data": {
      "text/plain": [
       "0    6354407\n",
       "1       8213\n",
       "Name: isFraud, dtype: int64"
      ]
     },
     "execution_count": 12,
     "metadata": {},
     "output_type": "execute_result"
    }
   ],
   "source": [
    "payments['isFraud'].value_counts()"
   ]
  },
  {
   "cell_type": "code",
   "execution_count": 13,
   "id": "2cff3560",
   "metadata": {
    "ExecuteTime": {
     "end_time": "2022-05-25T09:12:14.333433Z",
     "start_time": "2022-05-25T09:12:12.041294Z"
    }
   },
   "outputs": [
    {
     "data": {
      "text/plain": [
       "<AxesSubplot:xlabel='isFraud', ylabel='count'>"
      ]
     },
     "execution_count": 13,
     "metadata": {},
     "output_type": "execute_result"
    },
    {
     "data": {
      "image/png": "[encoded data removed]",
      "text/plain": [
       "<Figure size 432x288 with 1 Axes>"
      ]
     },
     "metadata": {
      "needs_background": "light"
     },
     "output_type": "display_data"
    }
   ],
   "source": [
    "sns.countplot(x='isFraud',data=payments)"
   ]
  },
  {
   "cell_type": "code",
   "execution_count": 14,
   "id": "a409e7cd",
   "metadata": {
    "ExecuteTime": {
     "end_time": "2022-05-25T09:12:19.804224Z",
     "start_time": "2022-05-25T09:12:14.354720Z"
    }
   },
   "outputs": [
    {
     "data": {
      "text/plain": [
       "<AxesSubplot:xlabel='isFraud', ylabel='count'>"
      ]
     },
     "execution_count": 14,
     "metadata": {},
     "output_type": "execute_result"
    },
    {
     "data": {
      "image/png": "[encoded data removed]",
      "text/plain": [
       "<Figure size 432x288 with 1 Axes>"
      ]
     },
     "metadata": {
      "needs_background": "light"
     },
     "output_type": "display_data"
    }
   ],
   "source": [
    "sns.countplot(x='isFraud',data=payments,hue='type')"
   ]
  },
  {
   "cell_type": "code",
   "execution_count": 24,
   "id": "7991869d",
   "metadata": {
    "ExecuteTime": {
     "end_time": "2022-05-20T12:17:38.339644Z",
     "start_time": "2022-05-20T12:13:09.690861Z"
    }
   },
   "outputs": [
    {
     "data": {
      "text/plain": [
       "<AxesSubplot:xlabel='amount', ylabel='isFraud'>"
      ]
     },
     "execution_count": 24,
     "metadata": {},
     "output_type": "execute_result"
    },
    {
     "data": {
      "image/png": "[encoded data removed]",
      "text/plain": [
       "<Figure size 432x288 with 1 Axes>"
      ]
     },
     "metadata": {
      "needs_background": "light"
     },
     "output_type": "display_data"
    }
   ],
   "source": [
    "sns.scatterplot(x='amount',y='isFraud',data=payments,hue='type')"
   ]
  },
  {
   "cell_type": "markdown",
   "id": "f7560b23",
   "metadata": {},
   "source": [
    "**The distribution of values for each attribute in the payments dataframe. We need to scale the values down to be in the same range**"
   ]
  },
  {
   "cell_type": "code",
   "execution_count": 15,
   "id": "8967c86a",
   "metadata": {
    "ExecuteTime": {
     "end_time": "2022-05-25T09:12:22.653552Z",
     "start_time": "2022-05-25T09:12:19.840943Z"
    }
   },
   "outputs": [
    {
     "data": {
      "image/png": "[encoded data removed]",
      "text/plain": [
       "<Figure size 1080x1080 with 9 Axes>"
      ]
     },
     "metadata": {
      "needs_background": "light"
     },
     "output_type": "display_data"
    }
   ],
   "source": [
    "payments.hist(bins=12, figsize=(15,15),color='#86bf91', zorder=2, rwidth=0.9);\n",
    "plt.show()"
   ]
  },
  {
   "cell_type": "markdown",
   "id": "12434754",
   "metadata": {},
   "source": [
    "**The below heatmap shows the correlation between the attributes in the dataframe. There is no correlation between amount transferred to isFraud(target variable). Also there is no correleation between the account numbers and target variable. This shows that a transaction cannot be judged as fraud based on the amount of money transferred or based on the account numbers doing the transactions**"
   ]
  },
  {
   "cell_type": "code",
   "execution_count": 16,
   "id": "b2ee4cec",
   "metadata": {
    "ExecuteTime": {
     "end_time": "2022-05-25T09:12:25.274092Z",
     "start_time": "2022-05-25T09:12:22.680797Z"
    }
   },
   "outputs": [
    {
     "data": {
      "image/png": "[encoded data removed]",
      "text/plain": [
       "<Figure size 720x720 with 2 Axes>"
      ]
     },
     "metadata": {
      "needs_background": "light"
     },
     "output_type": "display_data"
    }
   ],
   "source": [
    "fig= plt.figure(figsize=(10,10))\n",
    "cor = payments.corr()\n",
    "sns.heatmap(cor,annot=True)\n",
    "plt.show()"
   ]
  },
  {
   "cell_type": "markdown",
   "id": "918ce623",
   "metadata": {},
   "source": [
    "**Using label encoders to convert categorical values to numerical**"
   ]
  },
  {
   "cell_type": "code",
   "execution_count": 17,
   "id": "2cf1872c",
   "metadata": {
    "ExecuteTime": {
     "end_time": "2022-05-25T09:12:26.921323Z",
     "start_time": "2022-05-25T09:12:25.331513Z"
    }
   },
   "outputs": [],
   "source": [
    " #label encoder to encode catergorical values to numerical values\n",
    "le = preprocessing.LabelEncoder()\n",
    "payments['type'] = le.fit_transform(payments['type'])"
   ]
  },
  {
   "cell_type": "code",
   "execution_count": 18,
   "id": "554b5e38",
   "metadata": {
    "ExecuteTime": {
     "end_time": "2022-05-25T09:12:28.346604Z",
     "start_time": "2022-05-25T09:12:26.964736Z"
    }
   },
   "outputs": [],
   "source": [
    "X = payments.drop(columns=['isFraud','nameOrig','nameDest'])\n",
    "y= payments['isFraud']"
   ]
  },
  {
   "cell_type": "markdown",
   "id": "be7d1b37",
   "metadata": {},
   "source": [
    "**Since there is high imbalance in the target classes 0 and 1, we will be using the SMOTETomek sampler to increase the samples of minority classes. Over-sampling using SMOTE and cleaning using Tomek links. Combine over- and under-sampling using SMOTE and Tomek links.**"
   ]
  },
  {
   "cell_type": "code",
   "execution_count": 19,
   "id": "0b2e1670",
   "metadata": {
    "ExecuteTime": {
     "end_time": "2022-05-25T09:31:57.754382Z",
     "start_time": "2022-05-25T09:12:28.387455Z"
    }
   },
   "outputs": [],
   "source": [
    "sampler=SMOTETomek(sampling_strategy='minority',random_state=100)\n",
    "X_sampled,y_sampled = sampler.fit_resample(X,y)"
   ]
  },
  {
   "cell_type": "code",
   "execution_count": 20,
   "id": "ddca4498",
   "metadata": {
    "ExecuteTime": {
     "end_time": "2022-05-25T09:31:57.901634Z",
     "start_time": "2022-05-25T09:31:57.806327Z"
    }
   },
   "outputs": [
    {
     "data": {
      "text/plain": [
       "0    6353883\n",
       "1    6353883\n",
       "Name: isFraud, dtype: int64"
      ]
     },
     "execution_count": 20,
     "metadata": {},
     "output_type": "execute_result"
    }
   ],
   "source": [
    "y_sampled.value_counts()"
   ]
  },
  {
   "cell_type": "code",
   "execution_count": 21,
   "id": "831b7cc0",
   "metadata": {
    "ExecuteTime": {
     "end_time": "2022-05-25T09:31:58.075687Z",
     "start_time": "2022-05-25T09:31:57.945792Z"
    }
   },
   "outputs": [
    {
     "name": "stdout",
     "output_type": "stream",
     "text": [
      "(12707766, 8)\n",
      "(12707766,)\n"
     ]
    }
   ],
   "source": [
    "print(X_sampled.shape)\n",
    "print(y_sampled.shape)"
   ]
  },
  {
   "cell_type": "markdown",
   "id": "b8f97f9b",
   "metadata": {},
   "source": [
    "**Scaling down values using z-score standardisation from StandardScaler**"
   ]
  },
  {
   "cell_type": "code",
   "execution_count": 22,
   "id": "c2c5c272",
   "metadata": {
    "ExecuteTime": {
     "end_time": "2022-05-25T09:32:07.385670Z",
     "start_time": "2022-05-25T09:31:58.111145Z"
    }
   },
   "outputs": [],
   "source": [
    "sc = StandardScaler()\n",
    "X_scaled = sc.fit_transform(X_sampled)"
   ]
  },
  {
   "cell_type": "code",
   "execution_count": 23,
   "id": "9873fd48",
   "metadata": {
    "ExecuteTime": {
     "end_time": "2022-05-25T09:32:13.026142Z",
     "start_time": "2022-05-25T09:32:07.430100Z"
    }
   },
   "outputs": [],
   "source": [
    "X_train,X_test,y_train,y_test= train_test_split(X_scaled,y_sampled,test_size=0.2,random_state=47)"
   ]
  },
  {
   "cell_type": "code",
   "execution_count": 61,
   "id": "5dbe4ca7",
   "metadata": {
    "ExecuteTime": {
     "end_time": "2022-05-24T20:01:23.145835Z",
     "start_time": "2022-05-24T20:01:23.140897Z"
    }
   },
   "outputs": [
    {
     "data": {
      "text/plain": [
       "(10166212,)"
      ]
     },
     "execution_count": 61,
     "metadata": {},
     "output_type": "execute_result"
    }
   ],
   "source": [
    "y_train.shape"
   ]
  },
  {
   "cell_type": "markdown",
   "id": "91bb0d9a",
   "metadata": {},
   "source": [
    "**Defining the param dict for Logistic regression using Gridsearch cross validation method**"
   ]
  },
  {
   "cell_type": "code",
   "execution_count": 24,
   "id": "0bd49311",
   "metadata": {
    "ExecuteTime": {
     "end_time": "2022-05-25T12:33:42.299668Z",
     "start_time": "2022-05-25T12:17:02.014662Z"
    }
   },
   "outputs": [
    {
     "data": {
      "text/html": [
       "<style>#sk-container-id-1 {color: black;background-color: white;}#sk-container-id-1 pre{padding: 0;}#sk-container-id-1 div.sk-toggleable {background-color: white;}#sk-container-id-1 label.sk-toggleable__label {cursor: pointer;display: block;width: 100%;margin-bottom: 0;padding: 0.3em;box-sizing: border-box;text-align: center;}#sk-container-id-1 label.sk-toggleable__label-arrow:before {content: \"▸\";float: left;margin-right: 0.25em;color: #696969;}#sk-container-id-1 label.sk-toggleable__label-arrow:hover:before {color: black;}#sk-container-id-1 div.sk-estimator:hover label.sk-toggleable__label-arrow:before {color: black;}#sk-container-id-1 div.sk-toggleable__content {max-height: 0;max-width: 0;overflow: hidden;text-align: left;background-color: #f0f8ff;}#sk-container-id-1 div.sk-toggleable__content pre {margin: 0.2em;color: black;border-radius: 0.25em;background-color: #f0f8ff;}#sk-container-id-1 input.sk-toggleable__control:checked~div.sk-toggleable__content {max-height: 200px;max-width: 100%;overflow: auto;}#sk-container-id-1 input.sk-toggleable__control:checked~label.sk-toggleable__label-arrow:before {content: \"▾\";}#sk-container-id-1 div.sk-estimator input.sk-toggleable__control:checked~label.sk-toggleable__label {background-color: #d4ebff;}#sk-container-id-1 div.sk-label input.sk-toggleable__control:checked~label.sk-toggleable__label {background-color: #d4ebff;}#sk-container-id-1 input.sk-hidden--visually {border: 0;clip: rect(1px 1px 1px 1px);clip: rect(1px, 1px, 1px, 1px);height: 1px;margin: -1px;overflow: hidden;padding: 0;position: absolute;width: 1px;}#sk-container-id-1 div.sk-estimator {font-family: monospace;background-color: #f0f8ff;border: 1px dotted black;border-radius: 0.25em;box-sizing: border-box;margin-bottom: 0.5em;}#sk-container-id-1 div.sk-estimator:hover {background-color: #d4ebff;}#sk-container-id-1 div.sk-parallel-item::after {content: \"\";width: 100%;border-bottom: 1px solid gray;flex-grow: 1;}#sk-container-id-1 div.sk-label:hover label.sk-toggleable__label {background-color: #d4ebff;}#sk-container-id-1 div.sk-serial::before {content: \"\";position: absolute;border-left: 1px solid gray;box-sizing: border-box;top: 0;bottom: 0;left: 50%;z-index: 0;}#sk-container-id-1 div.sk-serial {display: flex;flex-direction: column;align-items: center;background-color: white;padding-right: 0.2em;padding-left: 0.2em;position: relative;}#sk-container-id-1 div.sk-item {position: relative;z-index: 1;}#sk-container-id-1 div.sk-parallel {display: flex;align-items: stretch;justify-content: center;background-color: white;position: relative;}#sk-container-id-1 div.sk-item::before, #sk-container-id-1 div.sk-parallel-item::before {content: \"\";position: absolute;border-left: 1px solid gray;box-sizing: border-box;top: 0;bottom: 0;left: 50%;z-index: -1;}#sk-container-id-1 div.sk-parallel-item {display: flex;flex-direction: column;z-index: 1;position: relative;background-color: white;}#sk-container-id-1 div.sk-parallel-item:first-child::after {align-self: flex-end;width: 50%;}#sk-container-id-1 div.sk-parallel-item:last-child::after {align-self: flex-start;width: 50%;}#sk-container-id-1 div.sk-parallel-item:only-child::after {width: 0;}#sk-container-id-1 div.sk-dashed-wrapped {border: 1px dashed gray;margin: 0 0.4em 0.5em 0.4em;box-sizing: border-box;padding-bottom: 0.4em;background-color: white;}#sk-container-id-1 div.sk-label label {font-family: monospace;font-weight: bold;display: inline-block;line-height: 1.2em;}#sk-container-id-1 div.sk-label-container {text-align: center;}#sk-container-id-1 div.sk-container {/* jupyter's `normalize.less` sets `[hidden] { display: none; }` but bootstrap.min.css set `[hidden] { display: none !important; }` so we also need the `!important` here to be able to override the default hidden behavior on the sphinx rendered scikit-learn.org. See: https://github.com/scikit-learn/scikit-learn/issues/21755 */display: inline-block !important;position: relative;}#sk-container-id-1 div.sk-text-repr-fallback {display: none;}</style><div id=\"sk-container-id-1\" class=\"sk-top-container\"><div class=\"sk-text-repr-fallback\"><pre>GridSearchCV(cv=3, estimator=LogisticRegression(),\n",
       "             param_grid=[{&#x27;C&#x27;: array([1.000000e-04, 2.500075e+00, 5.000050e+00, 7.500025e+00,\n",
       "       1.000000e+01]),\n",
       "                          &#x27;penalty&#x27;: [&#x27;l1&#x27;]},\n",
       "                         {&#x27;C&#x27;: array([1.000000e-04, 2.500075e+00, 5.000050e+00, 7.500025e+00,\n",
       "       1.000000e+01]),\n",
       "                          &#x27;penalty&#x27;: [&#x27;l2&#x27;]}])</pre><b>In a Jupyter environment, please rerun this cell to show the HTML representation or trust the notebook. <br />On GitHub, the HTML representation is unable to render, please try loading this page with nbviewer.org.</b></div><div class=\"sk-container\" hidden><div class=\"sk-item sk-dashed-wrapped\"><div class=\"sk-label-container\"><div class=\"sk-label sk-toggleable\"><input class=\"sk-toggleable__control sk-hidden--visually\" id=\"sk-estimator-id-1\" type=\"checkbox\" ><label for=\"sk-estimator-id-1\" class=\"sk-toggleable__label sk-toggleable__label-arrow\">GridSearchCV</label><div class=\"sk-toggleable__content\"><pre>GridSearchCV(cv=3, estimator=LogisticRegression(),\n",
       "             param_grid=[{&#x27;C&#x27;: array([1.000000e-04, 2.500075e+00, 5.000050e+00, 7.500025e+00,\n",
       "       1.000000e+01]),\n",
       "                          &#x27;penalty&#x27;: [&#x27;l1&#x27;]},\n",
       "                         {&#x27;C&#x27;: array([1.000000e-04, 2.500075e+00, 5.000050e+00, 7.500025e+00,\n",
       "       1.000000e+01]),\n",
       "                          &#x27;penalty&#x27;: [&#x27;l2&#x27;]}])</pre></div></div></div><div class=\"sk-parallel\"><div class=\"sk-parallel-item\"><div class=\"sk-item\"><div class=\"sk-label-container\"><div class=\"sk-label sk-toggleable\"><input class=\"sk-toggleable__control sk-hidden--visually\" id=\"sk-estimator-id-2\" type=\"checkbox\" ><label for=\"sk-estimator-id-2\" class=\"sk-toggleable__label sk-toggleable__label-arrow\">estimator: LogisticRegression</label><div class=\"sk-toggleable__content\"><pre>LogisticRegression()</pre></div></div></div><div class=\"sk-serial\"><div class=\"sk-item\"><div class=\"sk-estimator sk-toggleable\"><input class=\"sk-toggleable__control sk-hidden--visually\" id=\"sk-estimator-id-3\" type=\"checkbox\" ><label for=\"sk-estimator-id-3\" class=\"sk-toggleable__label sk-toggleable__label-arrow\">LogisticRegression</label><div class=\"sk-toggleable__content\"><pre>LogisticRegression()</pre></div></div></div></div></div></div></div></div></div></div>"
      ],
      "text/plain": [
       "GridSearchCV(cv=3, estimator=LogisticRegression(),\n",
       "             param_grid=[{'C': array([1.000000e-04, 2.500075e+00, 5.000050e+00, 7.500025e+00,\n",
       "       1.000000e+01]),\n",
       "                          'penalty': ['l1']},\n",
       "                         {'C': array([1.000000e-04, 2.500075e+00, 5.000050e+00, 7.500025e+00,\n",
       "       1.000000e+01]),\n",
       "                          'penalty': ['l2']}])"
      ]
     },
     "execution_count": 24,
     "metadata": {},
     "output_type": "execute_result"
    }
   ],
   "source": [
    "param_grid = [\n",
    "{'penalty': ['l1'],'C': np.linspace(0.0001, 10, 5 )},\n",
    "{'penalty': ['l2'],'C': np.linspace(0.0001, 10, 5 )}]\n",
    "grid_log = GridSearchCV(LogisticRegression(), param_grid, cv=3)\n",
    "grid_log.fit(X_train,y_train)"
   ]
  },
  {
   "cell_type": "code",
   "execution_count": 25,
   "id": "9f1a3bfc",
   "metadata": {
    "ExecuteTime": {
     "end_time": "2022-05-25T12:45:12.039240Z",
     "start_time": "2022-05-25T12:45:08.503840Z"
    }
   },
   "outputs": [
    {
     "name": "stdout",
     "output_type": "stream",
     "text": [
      "Test set score: 0.94\n",
      "Best parameters: {'C': 10.0, 'penalty': 'l2'}\n",
      "Best cross-validation score: 0.94\n",
      "Best estimator:\n",
      "LogisticRegression(C=10.0)\n"
     ]
    }
   ],
   "source": [
    "print(\"Test set score: {:.2f}\".format(grid_log.score(X_test,y_test)))\n",
    "print(\"Best parameters: {}\".format(grid_log.best_params_))\n",
    "print(\"Best cross-validation score: {:.2f}\".format(grid_log.best_score_))\n",
    "print(\"Best estimator:\\n{}\".format(grid_log.best_estimator_))"
   ]
  },
  {
   "cell_type": "markdown",
   "id": "3a45d7d6",
   "metadata": {},
   "source": [
    "**Using the best estimator for prediction**"
   ]
  },
  {
   "cell_type": "code",
   "execution_count": 26,
   "id": "f472b3eb",
   "metadata": {
    "ExecuteTime": {
     "end_time": "2022-05-25T12:46:31.693669Z",
     "start_time": "2022-05-25T12:46:31.690139Z"
    }
   },
   "outputs": [],
   "source": [
    "model = LogisticRegression(penalty= 'l2',C=10.0)"
   ]
  },
  {
   "cell_type": "code",
   "execution_count": 27,
   "id": "4712bfa1",
   "metadata": {
    "ExecuteTime": {
     "end_time": "2022-05-25T12:48:25.818244Z",
     "start_time": "2022-05-25T12:46:57.204344Z"
    }
   },
   "outputs": [
    {
     "data": {
      "text/html": [
       "<style>#sk-container-id-2 {color: black;background-color: white;}#sk-container-id-2 pre{padding: 0;}#sk-container-id-2 div.sk-toggleable {background-color: white;}#sk-container-id-2 label.sk-toggleable__label {cursor: pointer;display: block;width: 100%;margin-bottom: 0;padding: 0.3em;box-sizing: border-box;text-align: center;}#sk-container-id-2 label.sk-toggleable__label-arrow:before {content: \"▸\";float: left;margin-right: 0.25em;color: #696969;}#sk-container-id-2 label.sk-toggleable__label-arrow:hover:before {color: black;}#sk-container-id-2 div.sk-estimator:hover label.sk-toggleable__label-arrow:before {color: black;}#sk-container-id-2 div.sk-toggleable__content {max-height: 0;max-width: 0;overflow: hidden;text-align: left;background-color: #f0f8ff;}#sk-container-id-2 div.sk-toggleable__content pre {margin: 0.2em;color: black;border-radius: 0.25em;background-color: #f0f8ff;}#sk-container-id-2 input.sk-toggleable__control:checked~div.sk-toggleable__content {max-height: 200px;max-width: 100%;overflow: auto;}#sk-container-id-2 input.sk-toggleable__control:checked~label.sk-toggleable__label-arrow:before {content: \"▾\";}#sk-container-id-2 div.sk-estimator input.sk-toggleable__control:checked~label.sk-toggleable__label {background-color: #d4ebff;}#sk-container-id-2 div.sk-label input.sk-toggleable__control:checked~label.sk-toggleable__label {background-color: #d4ebff;}#sk-container-id-2 input.sk-hidden--visually {border: 0;clip: rect(1px 1px 1px 1px);clip: rect(1px, 1px, 1px, 1px);height: 1px;margin: -1px;overflow: hidden;padding: 0;position: absolute;width: 1px;}#sk-container-id-2 div.sk-estimator {font-family: monospace;background-color: #f0f8ff;border: 1px dotted black;border-radius: 0.25em;box-sizing: border-box;margin-bottom: 0.5em;}#sk-container-id-2 div.sk-estimator:hover {background-color: #d4ebff;}#sk-container-id-2 div.sk-parallel-item::after {content: \"\";width: 100%;border-bottom: 1px solid gray;flex-grow: 1;}#sk-container-id-2 div.sk-label:hover label.sk-toggleable__label {background-color: #d4ebff;}#sk-container-id-2 div.sk-serial::before {content: \"\";position: absolute;border-left: 1px solid gray;box-sizing: border-box;top: 0;bottom: 0;left: 50%;z-index: 0;}#sk-container-id-2 div.sk-serial {display: flex;flex-direction: column;align-items: center;background-color: white;padding-right: 0.2em;padding-left: 0.2em;position: relative;}#sk-container-id-2 div.sk-item {position: relative;z-index: 1;}#sk-container-id-2 div.sk-parallel {display: flex;align-items: stretch;justify-content: center;background-color: white;position: relative;}#sk-container-id-2 div.sk-item::before, #sk-container-id-2 div.sk-parallel-item::before {content: \"\";position: absolute;border-left: 1px solid gray;box-sizing: border-box;top: 0;bottom: 0;left: 50%;z-index: -1;}#sk-container-id-2 div.sk-parallel-item {display: flex;flex-direction: column;z-index: 1;position: relative;background-color: white;}#sk-container-id-2 div.sk-parallel-item:first-child::after {align-self: flex-end;width: 50%;}#sk-container-id-2 div.sk-parallel-item:last-child::after {align-self: flex-start;width: 50%;}#sk-container-id-2 div.sk-parallel-item:only-child::after {width: 0;}#sk-container-id-2 div.sk-dashed-wrapped {border: 1px dashed gray;margin: 0 0.4em 0.5em 0.4em;box-sizing: border-box;padding-bottom: 0.4em;background-color: white;}#sk-container-id-2 div.sk-label label {font-family: monospace;font-weight: bold;display: inline-block;line-height: 1.2em;}#sk-container-id-2 div.sk-label-container {text-align: center;}#sk-container-id-2 div.sk-container {/* jupyter's `normalize.less` sets `[hidden] { display: none; }` but bootstrap.min.css set `[hidden] { display: none !important; }` so we also need the `!important` here to be able to override the default hidden behavior on the sphinx rendered scikit-learn.org. See: https://github.com/scikit-learn/scikit-learn/issues/21755 */display: inline-block !important;position: relative;}#sk-container-id-2 div.sk-text-repr-fallback {display: none;}</style><div id=\"sk-container-id-2\" class=\"sk-top-container\"><div class=\"sk-text-repr-fallback\"><pre>LogisticRegression(C=10.0)</pre><b>In a Jupyter environment, please rerun this cell to show the HTML representation or trust the notebook. <br />On GitHub, the HTML representation is unable to render, please try loading this page with nbviewer.org.</b></div><div class=\"sk-container\" hidden><div class=\"sk-item\"><div class=\"sk-estimator sk-toggleable\"><input class=\"sk-toggleable__control sk-hidden--visually\" id=\"sk-estimator-id-4\" type=\"checkbox\" checked><label for=\"sk-estimator-id-4\" class=\"sk-toggleable__label sk-toggleable__label-arrow\">LogisticRegression</label><div class=\"sk-toggleable__content\"><pre>LogisticRegression(C=10.0)</pre></div></div></div></div></div>"
      ],
      "text/plain": [
       "LogisticRegression(C=10.0)"
      ]
     },
     "execution_count": 27,
     "metadata": {},
     "output_type": "execute_result"
    }
   ],
   "source": [
    "model.fit(X_train,y_train)"
   ]
  },
  {
   "cell_type": "code",
   "execution_count": 28,
   "id": "c9941f0c",
   "metadata": {
    "ExecuteTime": {
     "end_time": "2022-05-25T12:52:43.313752Z",
     "start_time": "2022-05-25T12:52:43.203367Z"
    }
   },
   "outputs": [],
   "source": [
    "predictions = model.predict(X_test)"
   ]
  },
  {
   "cell_type": "code",
   "execution_count": 55,
   "id": "fdf50aad",
   "metadata": {
    "ExecuteTime": {
     "end_time": "2022-05-25T13:18:24.242650Z",
     "start_time": "2022-05-25T13:18:23.861981Z"
    }
   },
   "outputs": [
    {
     "name": "stdout",
     "output_type": "stream",
     "text": [
      "Root mean square error 0.25\n",
      "Accuracy score 0.94\n"
     ]
    }
   ],
   "source": [
    "print('Root mean square error {:.2f}'.format(mean_squared_error(y_test,predictions,squared=False)))\n",
    "print('Accuracy score {:.2f}'.format(accuracy_score(y_test,predictions)))"
   ]
  },
  {
   "cell_type": "markdown",
   "id": "f6a5916a",
   "metadata": {},
   "source": [
    "**It is a good accuracy score. Also the rmse is only 0.25. i.e the difference between true and predicted is only 0.25**\n",
    "**In this example False Positive is a higher concern than False Negatives, so we must note the precision. Precision is correctly classified positive cases to total number of predicted positive cases**"
   ]
  },
  {
   "cell_type": "code",
   "execution_count": 51,
   "id": "08c5c71d",
   "metadata": {
    "ExecuteTime": {
     "end_time": "2022-05-25T13:13:45.815552Z",
     "start_time": "2022-05-25T13:13:40.118189Z"
    }
   },
   "outputs": [
    {
     "name": "stdout",
     "output_type": "stream",
     "text": [
      "classification report\n",
      "               precision    recall  f1-score   support\n",
      "\n",
      "           0       0.91      0.97      0.94   1271739\n",
      "           1       0.97      0.91      0.93   1269815\n",
      "\n",
      "    accuracy                           0.94   2541554\n",
      "   macro avg       0.94      0.94      0.94   2541554\n",
      "weighted avg       0.94      0.94      0.94   2541554\n",
      "\n"
     ]
    }
   ],
   "source": [
    "print('classification report\\n',classification_report(y_test,predictions))"
   ]
  },
  {
   "cell_type": "code",
   "execution_count": 56,
   "id": "4d39799f",
   "metadata": {
    "ExecuteTime": {
     "end_time": "2022-05-25T13:20:54.515503Z",
     "start_time": "2022-05-25T13:20:53.153622Z"
    }
   },
   "outputs": [
    {
     "name": "stdout",
     "output_type": "stream",
     "text": [
      "confusion matrix\n",
      " [[1231024   40715]\n",
      " [ 120267 1149548]]\n"
     ]
    },
    {
     "data": {
      "image/png": "[encoded data removed]",
      "text/plain": [
       "<Figure size 432x288 with 2 Axes>"
      ]
     },
     "metadata": {
      "needs_background": "light"
     },
     "output_type": "display_data"
    }
   ],
   "source": [
    "cm = confusion_matrix(y_test,predictions)\n",
    "print('confusion matrix\\n',cm)\n",
    "\n",
    "plt.imshow(cm, cmap=plt.cm.Greens)\n",
    "plt.xlabel(\"Predicted -ve   Predicted +ve\")\n",
    "plt.ylabel(\"Actual +ve      Actual -ve\")\n",
    "plt.xticks([], [])\n",
    "plt.yticks([], [])\n",
    "plt.title('Confusion matrix ')\n",
    "plt.colorbar()\n",
    "plt.show()\n"
   ]
  },
  {
   "cell_type": "markdown",
   "id": "ecbe80c6",
   "metadata": {},
   "source": [
    "**Perfomance of DecisionTree classifier**\n",
    "\n",
    "**Defining the param dict for DT classifier**"
   ]
  },
  {
   "cell_type": "code",
   "execution_count": 58,
   "id": "2d149423",
   "metadata": {
    "ExecuteTime": {
     "end_time": "2022-05-25T15:04:00.398255Z",
     "start_time": "2022-05-25T13:39:27.232615Z"
    }
   },
   "outputs": [
    {
     "data": {
      "text/html": [
       "<style>#sk-container-id-3 {color: black;background-color: white;}#sk-container-id-3 pre{padding: 0;}#sk-container-id-3 div.sk-toggleable {background-color: white;}#sk-container-id-3 label.sk-toggleable__label {cursor: pointer;display: block;width: 100%;margin-bottom: 0;padding: 0.3em;box-sizing: border-box;text-align: center;}#sk-container-id-3 label.sk-toggleable__label-arrow:before {content: \"▸\";float: left;margin-right: 0.25em;color: #696969;}#sk-container-id-3 label.sk-toggleable__label-arrow:hover:before {color: black;}#sk-container-id-3 div.sk-estimator:hover label.sk-toggleable__label-arrow:before {color: black;}#sk-container-id-3 div.sk-toggleable__content {max-height: 0;max-width: 0;overflow: hidden;text-align: left;background-color: #f0f8ff;}#sk-container-id-3 div.sk-toggleable__content pre {margin: 0.2em;color: black;border-radius: 0.25em;background-color: #f0f8ff;}#sk-container-id-3 input.sk-toggleable__control:checked~div.sk-toggleable__content {max-height: 200px;max-width: 100%;overflow: auto;}#sk-container-id-3 input.sk-toggleable__control:checked~label.sk-toggleable__label-arrow:before {content: \"▾\";}#sk-container-id-3 div.sk-estimator input.sk-toggleable__control:checked~label.sk-toggleable__label {background-color: #d4ebff;}#sk-container-id-3 div.sk-label input.sk-toggleable__control:checked~label.sk-toggleable__label {background-color: #d4ebff;}#sk-container-id-3 input.sk-hidden--visually {border: 0;clip: rect(1px 1px 1px 1px);clip: rect(1px, 1px, 1px, 1px);height: 1px;margin: -1px;overflow: hidden;padding: 0;position: absolute;width: 1px;}#sk-container-id-3 div.sk-estimator {font-family: monospace;background-color: #f0f8ff;border: 1px dotted black;border-radius: 0.25em;box-sizing: border-box;margin-bottom: 0.5em;}#sk-container-id-3 div.sk-estimator:hover {background-color: #d4ebff;}#sk-container-id-3 div.sk-parallel-item::after {content: \"\";width: 100%;border-bottom: 1px solid gray;flex-grow: 1;}#sk-container-id-3 div.sk-label:hover label.sk-toggleable__label {background-color: #d4ebff;}#sk-container-id-3 div.sk-serial::before {content: \"\";position: absolute;border-left: 1px solid gray;box-sizing: border-box;top: 0;bottom: 0;left: 50%;z-index: 0;}#sk-container-id-3 div.sk-serial {display: flex;flex-direction: column;align-items: center;background-color: white;padding-right: 0.2em;padding-left: 0.2em;position: relative;}#sk-container-id-3 div.sk-item {position: relative;z-index: 1;}#sk-container-id-3 div.sk-parallel {display: flex;align-items: stretch;justify-content: center;background-color: white;position: relative;}#sk-container-id-3 div.sk-item::before, #sk-container-id-3 div.sk-parallel-item::before {content: \"\";position: absolute;border-left: 1px solid gray;box-sizing: border-box;top: 0;bottom: 0;left: 50%;z-index: -1;}#sk-container-id-3 div.sk-parallel-item {display: flex;flex-direction: column;z-index: 1;position: relative;background-color: white;}#sk-container-id-3 div.sk-parallel-item:first-child::after {align-self: flex-end;width: 50%;}#sk-container-id-3 div.sk-parallel-item:last-child::after {align-self: flex-start;width: 50%;}#sk-container-id-3 div.sk-parallel-item:only-child::after {width: 0;}#sk-container-id-3 div.sk-dashed-wrapped {border: 1px dashed gray;margin: 0 0.4em 0.5em 0.4em;box-sizing: border-box;padding-bottom: 0.4em;background-color: white;}#sk-container-id-3 div.sk-label label {font-family: monospace;font-weight: bold;display: inline-block;line-height: 1.2em;}#sk-container-id-3 div.sk-label-container {text-align: center;}#sk-container-id-3 div.sk-container {/* jupyter's `normalize.less` sets `[hidden] { display: none; }` but bootstrap.min.css set `[hidden] { display: none !important; }` so we also need the `!important` here to be able to override the default hidden behavior on the sphinx rendered scikit-learn.org. See: https://github.com/scikit-learn/scikit-learn/issues/21755 */display: inline-block !important;position: relative;}#sk-container-id-3 div.sk-text-repr-fallback {display: none;}</style><div id=\"sk-container-id-3\" class=\"sk-top-container\"><div class=\"sk-text-repr-fallback\"><pre>GridSearchCV(cv=3, estimator=DecisionTreeClassifier(),\n",
       "             param_grid=[{&#x27;max_depth&#x27;: array([2, 4, 6, 8]),\n",
       "                          &#x27;max_leaf_nodes&#x27;: array([2, 4, 6, 8]),\n",
       "                          &#x27;min_samples_split&#x27;: array([2, 4, 6, 8])}])</pre><b>In a Jupyter environment, please rerun this cell to show the HTML representation or trust the notebook. <br />On GitHub, the HTML representation is unable to render, please try loading this page with nbviewer.org.</b></div><div class=\"sk-container\" hidden><div class=\"sk-item sk-dashed-wrapped\"><div class=\"sk-label-container\"><div class=\"sk-label sk-toggleable\"><input class=\"sk-toggleable__control sk-hidden--visually\" id=\"sk-estimator-id-5\" type=\"checkbox\" ><label for=\"sk-estimator-id-5\" class=\"sk-toggleable__label sk-toggleable__label-arrow\">GridSearchCV</label><div class=\"sk-toggleable__content\"><pre>GridSearchCV(cv=3, estimator=DecisionTreeClassifier(),\n",
       "             param_grid=[{&#x27;max_depth&#x27;: array([2, 4, 6, 8]),\n",
       "                          &#x27;max_leaf_nodes&#x27;: array([2, 4, 6, 8]),\n",
       "                          &#x27;min_samples_split&#x27;: array([2, 4, 6, 8])}])</pre></div></div></div><div class=\"sk-parallel\"><div class=\"sk-parallel-item\"><div class=\"sk-item\"><div class=\"sk-label-container\"><div class=\"sk-label sk-toggleable\"><input class=\"sk-toggleable__control sk-hidden--visually\" id=\"sk-estimator-id-6\" type=\"checkbox\" ><label for=\"sk-estimator-id-6\" class=\"sk-toggleable__label sk-toggleable__label-arrow\">estimator: DecisionTreeClassifier</label><div class=\"sk-toggleable__content\"><pre>DecisionTreeClassifier()</pre></div></div></div><div class=\"sk-serial\"><div class=\"sk-item\"><div class=\"sk-estimator sk-toggleable\"><input class=\"sk-toggleable__control sk-hidden--visually\" id=\"sk-estimator-id-7\" type=\"checkbox\" ><label for=\"sk-estimator-id-7\" class=\"sk-toggleable__label sk-toggleable__label-arrow\">DecisionTreeClassifier</label><div class=\"sk-toggleable__content\"><pre>DecisionTreeClassifier()</pre></div></div></div></div></div></div></div></div></div></div>"
      ],
      "text/plain": [
       "GridSearchCV(cv=3, estimator=DecisionTreeClassifier(),\n",
       "             param_grid=[{'max_depth': array([2, 4, 6, 8]),\n",
       "                          'max_leaf_nodes': array([2, 4, 6, 8]),\n",
       "                          'min_samples_split': array([2, 4, 6, 8])}])"
      ]
     },
     "execution_count": 58,
     "metadata": {},
     "output_type": "execute_result"
    }
   ],
   "source": [
    "param_grid = [ {'max_depth': np.arange(2, 10, 2), 'min_samples_split': np.arange(2, 10, 2), 'max_leaf_nodes' : np.arange(2, 10, 2)}]\n",
    "grid_DT = GridSearchCV(DecisionTreeClassifier(), param_grid, cv=3)\n",
    "grid_DT.fit(X_train,y_train)"
   ]
  },
  {
   "cell_type": "code",
   "execution_count": 60,
   "id": "a7c3b120",
   "metadata": {
    "ExecuteTime": {
     "end_time": "2022-05-25T15:04:51.610087Z",
     "start_time": "2022-05-25T15:04:44.608778Z"
    }
   },
   "outputs": [
    {
     "name": "stdout",
     "output_type": "stream",
     "text": [
      "Test set score: 0.50\n",
      "Best parameters: {'max_depth': 4, 'max_leaf_nodes': 8, 'min_samples_split': 2}\n",
      "Best cross-validation score: 0.95\n",
      "Best estimator:\n",
      "DecisionTreeClassifier(max_depth=4, max_leaf_nodes=8)\n"
     ]
    }
   ],
   "source": [
    "print(\"Test set score: {:.2f}\".format(grid_DT.score(X_test,y_test)))\n",
    "print(\"Best parameters: {}\".format(grid_DT.best_params_))\n",
    "print(\"Best cross-validation score: {:.2f}\".format(grid_DT.best_score_))\n",
    "print(\"Best estimator:\\n{}\".format(grid_DT.best_estimator_))"
   ]
  },
  {
   "cell_type": "markdown",
   "id": "c58b28eb",
   "metadata": {},
   "source": [
    "**Using the best estimator with best parameters to predict our values**"
   ]
  },
  {
   "cell_type": "code",
   "execution_count": 61,
   "id": "828d7a0d",
   "metadata": {
    "ExecuteTime": {
     "end_time": "2022-05-25T15:05:34.174200Z",
     "start_time": "2022-05-25T15:05:34.170068Z"
    }
   },
   "outputs": [],
   "source": [
    "mod = DecisionTreeClassifier(max_depth=4, max_leaf_nodes=8, min_samples_split=2)"
   ]
  },
  {
   "cell_type": "code",
   "execution_count": 62,
   "id": "66812c21",
   "metadata": {
    "ExecuteTime": {
     "end_time": "2022-05-25T15:06:32.724065Z",
     "start_time": "2022-05-25T15:05:45.272910Z"
    }
   },
   "outputs": [
    {
     "data": {
      "text/html": [
       "<style>#sk-container-id-4 {color: black;background-color: white;}#sk-container-id-4 pre{padding: 0;}#sk-container-id-4 div.sk-toggleable {background-color: white;}#sk-container-id-4 label.sk-toggleable__label {cursor: pointer;display: block;width: 100%;margin-bottom: 0;padding: 0.3em;box-sizing: border-box;text-align: center;}#sk-container-id-4 label.sk-toggleable__label-arrow:before {content: \"▸\";float: left;margin-right: 0.25em;color: #696969;}#sk-container-id-4 label.sk-toggleable__label-arrow:hover:before {color: black;}#sk-container-id-4 div.sk-estimator:hover label.sk-toggleable__label-arrow:before {color: black;}#sk-container-id-4 div.sk-toggleable__content {max-height: 0;max-width: 0;overflow: hidden;text-align: left;background-color: #f0f8ff;}#sk-container-id-4 div.sk-toggleable__content pre {margin: 0.2em;color: black;border-radius: 0.25em;background-color: #f0f8ff;}#sk-container-id-4 input.sk-toggleable__control:checked~div.sk-toggleable__content {max-height: 200px;max-width: 100%;overflow: auto;}#sk-container-id-4 input.sk-toggleable__control:checked~label.sk-toggleable__label-arrow:before {content: \"▾\";}#sk-container-id-4 div.sk-estimator input.sk-toggleable__control:checked~label.sk-toggleable__label {background-color: #d4ebff;}#sk-container-id-4 div.sk-label input.sk-toggleable__control:checked~label.sk-toggleable__label {background-color: #d4ebff;}#sk-container-id-4 input.sk-hidden--visually {border: 0;clip: rect(1px 1px 1px 1px);clip: rect(1px, 1px, 1px, 1px);height: 1px;margin: -1px;overflow: hidden;padding: 0;position: absolute;width: 1px;}#sk-container-id-4 div.sk-estimator {font-family: monospace;background-color: #f0f8ff;border: 1px dotted black;border-radius: 0.25em;box-sizing: border-box;margin-bottom: 0.5em;}#sk-container-id-4 div.sk-estimator:hover {background-color: #d4ebff;}#sk-container-id-4 div.sk-parallel-item::after {content: \"\";width: 100%;border-bottom: 1px solid gray;flex-grow: 1;}#sk-container-id-4 div.sk-label:hover label.sk-toggleable__label {background-color: #d4ebff;}#sk-container-id-4 div.sk-serial::before {content: \"\";position: absolute;border-left: 1px solid gray;box-sizing: border-box;top: 0;bottom: 0;left: 50%;z-index: 0;}#sk-container-id-4 div.sk-serial {display: flex;flex-direction: column;align-items: center;background-color: white;padding-right: 0.2em;padding-left: 0.2em;position: relative;}#sk-container-id-4 div.sk-item {position: relative;z-index: 1;}#sk-container-id-4 div.sk-parallel {display: flex;align-items: stretch;justify-content: center;background-color: white;position: relative;}#sk-container-id-4 div.sk-item::before, #sk-container-id-4 div.sk-parallel-item::before {content: \"\";position: absolute;border-left: 1px solid gray;box-sizing: border-box;top: 0;bottom: 0;left: 50%;z-index: -1;}#sk-container-id-4 div.sk-parallel-item {display: flex;flex-direction: column;z-index: 1;position: relative;background-color: white;}#sk-container-id-4 div.sk-parallel-item:first-child::after {align-self: flex-end;width: 50%;}#sk-container-id-4 div.sk-parallel-item:last-child::after {align-self: flex-start;width: 50%;}#sk-container-id-4 div.sk-parallel-item:only-child::after {width: 0;}#sk-container-id-4 div.sk-dashed-wrapped {border: 1px dashed gray;margin: 0 0.4em 0.5em 0.4em;box-sizing: border-box;padding-bottom: 0.4em;background-color: white;}#sk-container-id-4 div.sk-label label {font-family: monospace;font-weight: bold;display: inline-block;line-height: 1.2em;}#sk-container-id-4 div.sk-label-container {text-align: center;}#sk-container-id-4 div.sk-container {/* jupyter's `normalize.less` sets `[hidden] { display: none; }` but bootstrap.min.css set `[hidden] { display: none !important; }` so we also need the `!important` here to be able to override the default hidden behavior on the sphinx rendered scikit-learn.org. See: https://github.com/scikit-learn/scikit-learn/issues/21755 */display: inline-block !important;position: relative;}#sk-container-id-4 div.sk-text-repr-fallback {display: none;}</style><div id=\"sk-container-id-4\" class=\"sk-top-container\"><div class=\"sk-text-repr-fallback\"><pre>DecisionTreeClassifier(max_depth=4, max_leaf_nodes=8)</pre><b>In a Jupyter environment, please rerun this cell to show the HTML representation or trust the notebook. <br />On GitHub, the HTML representation is unable to render, please try loading this page with nbviewer.org.</b></div><div class=\"sk-container\" hidden><div class=\"sk-item\"><div class=\"sk-estimator sk-toggleable\"><input class=\"sk-toggleable__control sk-hidden--visually\" id=\"sk-estimator-id-8\" type=\"checkbox\" checked><label for=\"sk-estimator-id-8\" class=\"sk-toggleable__label sk-toggleable__label-arrow\">DecisionTreeClassifier</label><div class=\"sk-toggleable__content\"><pre>DecisionTreeClassifier(max_depth=4, max_leaf_nodes=8)</pre></div></div></div></div></div>"
      ],
      "text/plain": [
       "DecisionTreeClassifier(max_depth=4, max_leaf_nodes=8)"
      ]
     },
     "execution_count": 62,
     "metadata": {},
     "output_type": "execute_result"
    }
   ],
   "source": [
    "mod.fit(X_train,y_train)"
   ]
  },
  {
   "cell_type": "code",
   "execution_count": 64,
   "id": "be20c149",
   "metadata": {
    "ExecuteTime": {
     "end_time": "2022-05-25T15:07:07.968269Z",
     "start_time": "2022-05-25T15:07:07.687105Z"
    }
   },
   "outputs": [],
   "source": [
    "predictions = mod.predict(X_test)"
   ]
  },
  {
   "cell_type": "code",
   "execution_count": 65,
   "id": "eb15797f",
   "metadata": {
    "ExecuteTime": {
     "end_time": "2022-05-25T15:07:09.031828Z",
     "start_time": "2022-05-25T15:07:08.665605Z"
    }
   },
   "outputs": [
    {
     "name": "stdout",
     "output_type": "stream",
     "text": [
      "Root mean square error 0.71\n",
      "Accuracy score 0.50\n"
     ]
    }
   ],
   "source": [
    "print('Root mean square error {:.2f}'.format(mean_squared_error(y_test,predictions,squared=False)))\n",
    "print('Accuracy score {:.2f}'.format(accuracy_score(y_test,predictions)))"
   ]
  },
  {
   "cell_type": "markdown",
   "id": "07872afb",
   "metadata": {},
   "source": [
    "**The accuracy is low and also the rmse is high. DT has poor precision for both 0 and 1 classes**\n",
    "\n",
    "**Logistic regression has better performance when compared with tree method**"
   ]
  },
  {
   "cell_type": "code",
   "execution_count": 66,
   "id": "0b629d8b",
   "metadata": {
    "ExecuteTime": {
     "end_time": "2022-05-25T15:07:15.281908Z",
     "start_time": "2022-05-25T15:07:09.746931Z"
    }
   },
   "outputs": [
    {
     "name": "stdout",
     "output_type": "stream",
     "text": [
      "classification report\n",
      "               precision    recall  f1-score   support\n",
      "\n",
      "           0       0.00      0.00      0.00   1271739\n",
      "           1       0.50      1.00      0.67   1269815\n",
      "\n",
      "    accuracy                           0.50   2541554\n",
      "   macro avg       0.25      0.50      0.33   2541554\n",
      "weighted avg       0.25      0.50      0.33   2541554\n",
      "\n"
     ]
    }
   ],
   "source": [
    "print('classification report\\n',classification_report(y_test,predictions))"
   ]
  },
  {
   "cell_type": "code",
   "execution_count": 63,
   "id": "46ef1e54",
   "metadata": {
    "ExecuteTime": {
     "end_time": "2022-05-25T15:07:03.201347Z",
     "start_time": "2022-05-25T15:07:01.985712Z"
    }
   },
   "outputs": [
    {
     "name": "stdout",
     "output_type": "stream",
     "text": [
      "confusion matrix\n",
      " [[1231024   40715]\n",
      " [ 120267 1149548]]\n"
     ]
    },
    {
     "data": {
      "image/png": "[encoded data removed]",
      "text/plain": [
       "<Figure size 432x288 with 2 Axes>"
      ]
     },
     "metadata": {
      "needs_background": "light"
     },
     "output_type": "display_data"
    }
   ],
   "source": [
    "cm = confusion_matrix(y_test,predictions)\n",
    "print('confusion matrix\\n',cm)\n",
    "\n",
    "plt.imshow(cm, cmap=plt.cm.Blues)\n",
    "plt.xlabel(\"Predicted -ve   Predicted +ve\")\n",
    "plt.ylabel(\"Actual +ve      Actual -ve\")\n",
    "plt.xticks([], [])\n",
    "plt.yticks([], [])\n",
    "plt.title('Confusion matrix ')\n",
    "plt.colorbar()\n",
    "plt.show()"
   ]
  },
  {
   "cell_type": "markdown",
   "id": "f5608ba0",
   "metadata": {},
   "source": [
    "**Thus, this concludes our classification experiment on fraud transaction detection. Logistic regression is a better classifier with a precision of 0.91 for 0 and 0.97 for 1 classes.**"
   ]
  },
  {
   "cell_type": "markdown",
   "id": "0c76da95",
   "metadata": {},
   "source": [
    "## Predicting house prices using several regression methods"
   ]
  },
  {
   "cell_type": "markdown",
   "id": "3cbd4f89",
   "metadata": {},
   "source": [
    "**Using the house prices dataset from kaggle competition**"
   ]
  },
  {
   "cell_type": "code",
   "execution_count": 99,
   "id": "2cb93e12",
   "metadata": {
    "ExecuteTime": {
     "end_time": "2022-05-26T13:11:02.837924Z",
     "start_time": "2022-05-26T13:11:02.801950Z"
    }
   },
   "outputs": [],
   "source": [
    "prices = pd.read_csv('House_price.csv')"
   ]
  },
  {
   "cell_type": "code",
   "execution_count": 100,
   "id": "4521b70a",
   "metadata": {
    "ExecuteTime": {
     "end_time": "2022-05-26T13:11:03.394352Z",
     "start_time": "2022-05-26T13:11:03.370329Z"
    }
   },
   "outputs": [
    {
     "data": {
      "text/html": [
       "<div>\n",
       "<style scoped>\n",
       "    .dataframe tbody tr th:only-of-type {\n",
       "        vertical-align: middle;\n",
       "    }\n",
       "\n",
       "    .dataframe tbody tr th {\n",
       "        vertical-align: top;\n",
       "    }\n",
       "\n",
       "    .dataframe thead th {\n",
       "        text-align: right;\n",
       "    }\n",
       "</style>\n",
       "<table border=\"1\" class=\"dataframe\">\n",
       "  <thead>\n",
       "    <tr style=\"text-align: right;\">\n",
       "      <th></th>\n",
       "      <th>Id</th>\n",
       "      <th>MSSubClass</th>\n",
       "      <th>MSZoning</th>\n",
       "      <th>LotFrontage</th>\n",
       "      <th>LotArea</th>\n",
       "      <th>Street</th>\n",
       "      <th>Alley</th>\n",
       "      <th>LotShape</th>\n",
       "      <th>LandContour</th>\n",
       "      <th>Utilities</th>\n",
       "      <th>...</th>\n",
       "      <th>PoolArea</th>\n",
       "      <th>PoolQC</th>\n",
       "      <th>Fence</th>\n",
       "      <th>MiscFeature</th>\n",
       "      <th>MiscVal</th>\n",
       "      <th>MoSold</th>\n",
       "      <th>YrSold</th>\n",
       "      <th>SaleType</th>\n",
       "      <th>SaleCondition</th>\n",
       "      <th>SalePrice</th>\n",
       "    </tr>\n",
       "  </thead>\n",
       "  <tbody>\n",
       "    <tr>\n",
       "      <th>0</th>\n",
       "      <td>1</td>\n",
       "      <td>60</td>\n",
       "      <td>RL</td>\n",
       "      <td>65.0</td>\n",
       "      <td>8450</td>\n",
       "      <td>Pave</td>\n",
       "      <td>NaN</td>\n",
       "      <td>Reg</td>\n",
       "      <td>Lvl</td>\n",
       "      <td>AllPub</td>\n",
       "      <td>...</td>\n",
       "      <td>0</td>\n",
       "      <td>NaN</td>\n",
       "      <td>NaN</td>\n",
       "      <td>NaN</td>\n",
       "      <td>0</td>\n",
       "      <td>2</td>\n",
       "      <td>2008</td>\n",
       "      <td>WD</td>\n",
       "      <td>Normal</td>\n",
       "      <td>208500</td>\n",
       "    </tr>\n",
       "    <tr>\n",
       "      <th>1</th>\n",
       "      <td>2</td>\n",
       "      <td>20</td>\n",
       "      <td>RL</td>\n",
       "      <td>80.0</td>\n",
       "      <td>9600</td>\n",
       "      <td>Pave</td>\n",
       "      <td>NaN</td>\n",
       "      <td>Reg</td>\n",
       "      <td>Lvl</td>\n",
       "      <td>AllPub</td>\n",
       "      <td>...</td>\n",
       "      <td>0</td>\n",
       "      <td>NaN</td>\n",
       "      <td>NaN</td>\n",
       "      <td>NaN</td>\n",
       "      <td>0</td>\n",
       "      <td>5</td>\n",
       "      <td>2007</td>\n",
       "      <td>WD</td>\n",
       "      <td>Normal</td>\n",
       "      <td>181500</td>\n",
       "    </tr>\n",
       "    <tr>\n",
       "      <th>2</th>\n",
       "      <td>3</td>\n",
       "      <td>60</td>\n",
       "      <td>RL</td>\n",
       "      <td>68.0</td>\n",
       "      <td>11250</td>\n",
       "      <td>Pave</td>\n",
       "      <td>NaN</td>\n",
       "      <td>IR1</td>\n",
       "      <td>Lvl</td>\n",
       "      <td>AllPub</td>\n",
       "      <td>...</td>\n",
       "      <td>0</td>\n",
       "      <td>NaN</td>\n",
       "      <td>NaN</td>\n",
       "      <td>NaN</td>\n",
       "      <td>0</td>\n",
       "      <td>9</td>\n",
       "      <td>2008</td>\n",
       "      <td>WD</td>\n",
       "      <td>Normal</td>\n",
       "      <td>223500</td>\n",
       "    </tr>\n",
       "    <tr>\n",
       "      <th>3</th>\n",
       "      <td>4</td>\n",
       "      <td>70</td>\n",
       "      <td>RL</td>\n",
       "      <td>60.0</td>\n",
       "      <td>9550</td>\n",
       "      <td>Pave</td>\n",
       "      <td>NaN</td>\n",
       "      <td>IR1</td>\n",
       "      <td>Lvl</td>\n",
       "      <td>AllPub</td>\n",
       "      <td>...</td>\n",
       "      <td>0</td>\n",
       "      <td>NaN</td>\n",
       "      <td>NaN</td>\n",
       "      <td>NaN</td>\n",
       "      <td>0</td>\n",
       "      <td>2</td>\n",
       "      <td>2006</td>\n",
       "      <td>WD</td>\n",
       "      <td>Abnorml</td>\n",
       "      <td>140000</td>\n",
       "    </tr>\n",
       "    <tr>\n",
       "      <th>4</th>\n",
       "      <td>5</td>\n",
       "      <td>60</td>\n",
       "      <td>RL</td>\n",
       "      <td>84.0</td>\n",
       "      <td>14260</td>\n",
       "      <td>Pave</td>\n",
       "      <td>NaN</td>\n",
       "      <td>IR1</td>\n",
       "      <td>Lvl</td>\n",
       "      <td>AllPub</td>\n",
       "      <td>...</td>\n",
       "      <td>0</td>\n",
       "      <td>NaN</td>\n",
       "      <td>NaN</td>\n",
       "      <td>NaN</td>\n",
       "      <td>0</td>\n",
       "      <td>12</td>\n",
       "      <td>2008</td>\n",
       "      <td>WD</td>\n",
       "      <td>Normal</td>\n",
       "      <td>250000</td>\n",
       "    </tr>\n",
       "  </tbody>\n",
       "</table>\n",
       "<p>5 rows × 81 columns</p>\n",
       "</div>"
      ],
      "text/plain": [
       "   Id  MSSubClass MSZoning  LotFrontage  LotArea Street Alley LotShape  \\\n",
       "0   1          60       RL         65.0     8450   Pave   NaN      Reg   \n",
       "1   2          20       RL         80.0     9600   Pave   NaN      Reg   \n",
       "2   3          60       RL         68.0    11250   Pave   NaN      IR1   \n",
       "3   4          70       RL         60.0     9550   Pave   NaN      IR1   \n",
       "4   5          60       RL         84.0    14260   Pave   NaN      IR1   \n",
       "\n",
       "  LandContour Utilities  ... PoolArea PoolQC Fence MiscFeature MiscVal MoSold  \\\n",
       "0         Lvl    AllPub  ...        0    NaN   NaN         NaN       0      2   \n",
       "1         Lvl    AllPub  ...        0    NaN   NaN         NaN       0      5   \n",
       "2         Lvl    AllPub  ...        0    NaN   NaN         NaN       0      9   \n",
       "3         Lvl    AllPub  ...        0    NaN   NaN         NaN       0      2   \n",
       "4         Lvl    AllPub  ...        0    NaN   NaN         NaN       0     12   \n",
       "\n",
       "  YrSold  SaleType  SaleCondition  SalePrice  \n",
       "0   2008        WD         Normal     208500  \n",
       "1   2007        WD         Normal     181500  \n",
       "2   2008        WD         Normal     223500  \n",
       "3   2006        WD        Abnorml     140000  \n",
       "4   2008        WD         Normal     250000  \n",
       "\n",
       "[5 rows x 81 columns]"
      ]
     },
     "execution_count": 100,
     "metadata": {},
     "output_type": "execute_result"
    }
   ],
   "source": [
    "prices.head()"
   ]
  },
  {
   "cell_type": "code",
   "execution_count": 101,
   "id": "354c1709",
   "metadata": {
    "ExecuteTime": {
     "end_time": "2022-05-26T13:11:04.168877Z",
     "start_time": "2022-05-26T13:11:04.144804Z"
    }
   },
   "outputs": [
    {
     "name": "stdout",
     "output_type": "stream",
     "text": [
      "<class 'pandas.core.frame.DataFrame'>\n",
      "RangeIndex: 1460 entries, 0 to 1459\n",
      "Data columns (total 81 columns):\n",
      " #   Column         Non-Null Count  Dtype  \n",
      "---  ------         --------------  -----  \n",
      " 0   Id             1460 non-null   int64  \n",
      " 1   MSSubClass     1460 non-null   int64  \n",
      " 2   MSZoning       1460 non-null   object \n",
      " 3   LotFrontage    1201 non-null   float64\n",
      " 4   LotArea        1460 non-null   int64  \n",
      " 5   Street         1460 non-null   object \n",
      " 6   Alley          91 non-null     object \n",
      " 7   LotShape       1460 non-null   object \n",
      " 8   LandContour    1460 non-null   object \n",
      " 9   Utilities      1460 non-null   object \n",
      " 10  LotConfig      1460 non-null   object \n",
      " 11  LandSlope      1460 non-null   object \n",
      " 12  Neighborhood   1460 non-null   object \n",
      " 13  Condition1     1460 non-null   object \n",
      " 14  Condition2     1460 non-null   object \n",
      " 15  BldgType       1460 non-null   object \n",
      " 16  HouseStyle     1460 non-null   object \n",
      " 17  OverallQual    1460 non-null   int64  \n",
      " 18  OverallCond    1460 non-null   int64  \n",
      " 19  YearBuilt      1460 non-null   int64  \n",
      " 20  YearRemodAdd   1460 non-null   int64  \n",
      " 21  RoofStyle      1460 non-null   object \n",
      " 22  RoofMatl       1460 non-null   object \n",
      " 23  Exterior1st    1460 non-null   object \n",
      " 24  Exterior2nd    1460 non-null   object \n",
      " 25  MasVnrType     1452 non-null   object \n",
      " 26  MasVnrArea     1452 non-null   float64\n",
      " 27  ExterQual      1460 non-null   object \n",
      " 28  ExterCond      1460 non-null   object \n",
      " 29  Foundation     1460 non-null   object \n",
      " 30  BsmtQual       1423 non-null   object \n",
      " 31  BsmtCond       1423 non-null   object \n",
      " 32  BsmtExposure   1422 non-null   object \n",
      " 33  BsmtFinType1   1423 non-null   object \n",
      " 34  BsmtFinSF1     1460 non-null   int64  \n",
      " 35  BsmtFinType2   1422 non-null   object \n",
      " 36  BsmtFinSF2     1460 non-null   int64  \n",
      " 37  BsmtUnfSF      1460 non-null   int64  \n",
      " 38  TotalBsmtSF    1460 non-null   int64  \n",
      " 39  Heating        1460 non-null   object \n",
      " 40  HeatingQC      1460 non-null   object \n",
      " 41  CentralAir     1460 non-null   object \n",
      " 42  Electrical     1459 non-null   object \n",
      " 43  1stFlrSF       1460 non-null   int64  \n",
      " 44  2ndFlrSF       1460 non-null   int64  \n",
      " 45  LowQualFinSF   1460 non-null   int64  \n",
      " 46  GrLivArea      1460 non-null   int64  \n",
      " 47  BsmtFullBath   1460 non-null   int64  \n",
      " 48  BsmtHalfBath   1460 non-null   int64  \n",
      " 49  FullBath       1460 non-null   int64  \n",
      " 50  HalfBath       1460 non-null   int64  \n",
      " 51  BedroomAbvGr   1460 non-null   int64  \n",
      " 52  KitchenAbvGr   1460 non-null   int64  \n",
      " 53  KitchenQual    1460 non-null   object \n",
      " 54  TotRmsAbvGrd   1460 non-null   int64  \n",
      " 55  Functional     1460 non-null   object \n",
      " 56  Fireplaces     1460 non-null   int64  \n",
      " 57  FireplaceQu    770 non-null    object \n",
      " 58  GarageType     1379 non-null   object \n",
      " 59  GarageYrBlt    1379 non-null   float64\n",
      " 60  GarageFinish   1379 non-null   object \n",
      " 61  GarageCars     1460 non-null   int64  \n",
      " 62  GarageArea     1460 non-null   int64  \n",
      " 63  GarageQual     1379 non-null   object \n",
      " 64  GarageCond     1379 non-null   object \n",
      " 65  PavedDrive     1460 non-null   object \n",
      " 66  WoodDeckSF     1460 non-null   int64  \n",
      " 67  OpenPorchSF    1460 non-null   int64  \n",
      " 68  EnclosedPorch  1460 non-null   int64  \n",
      " 69  3SsnPorch      1460 non-null   int64  \n",
      " 70  ScreenPorch    1460 non-null   int64  \n",
      " 71  PoolArea       1460 non-null   int64  \n",
      " 72  PoolQC         7 non-null      object \n",
      " 73  Fence          281 non-null    object \n",
      " 74  MiscFeature    54 non-null     object \n",
      " 75  MiscVal        1460 non-null   int64  \n",
      " 76  MoSold         1460 non-null   int64  \n",
      " 77  YrSold         1460 non-null   int64  \n",
      " 78  SaleType       1460 non-null   object \n",
      " 79  SaleCondition  1460 non-null   object \n",
      " 80  SalePrice      1460 non-null   int64  \n",
      "dtypes: float64(3), int64(35), object(43)\n",
      "memory usage: 924.0+ KB\n"
     ]
    }
   ],
   "source": [
    "prices.info()"
   ]
  },
  {
   "cell_type": "code",
   "execution_count": 102,
   "id": "1c998a67",
   "metadata": {
    "ExecuteTime": {
     "end_time": "2022-05-26T13:11:04.953723Z",
     "start_time": "2022-05-26T13:11:04.845553Z"
    }
   },
   "outputs": [
    {
     "data": {
      "text/html": [
       "<div>\n",
       "<style scoped>\n",
       "    .dataframe tbody tr th:only-of-type {\n",
       "        vertical-align: middle;\n",
       "    }\n",
       "\n",
       "    .dataframe tbody tr th {\n",
       "        vertical-align: top;\n",
       "    }\n",
       "\n",
       "    .dataframe thead th {\n",
       "        text-align: right;\n",
       "    }\n",
       "</style>\n",
       "<table border=\"1\" class=\"dataframe\">\n",
       "  <thead>\n",
       "    <tr style=\"text-align: right;\">\n",
       "      <th></th>\n",
       "      <th>Id</th>\n",
       "      <th>MSSubClass</th>\n",
       "      <th>LotFrontage</th>\n",
       "      <th>LotArea</th>\n",
       "      <th>OverallQual</th>\n",
       "      <th>OverallCond</th>\n",
       "      <th>YearBuilt</th>\n",
       "      <th>YearRemodAdd</th>\n",
       "      <th>MasVnrArea</th>\n",
       "      <th>BsmtFinSF1</th>\n",
       "      <th>...</th>\n",
       "      <th>WoodDeckSF</th>\n",
       "      <th>OpenPorchSF</th>\n",
       "      <th>EnclosedPorch</th>\n",
       "      <th>3SsnPorch</th>\n",
       "      <th>ScreenPorch</th>\n",
       "      <th>PoolArea</th>\n",
       "      <th>MiscVal</th>\n",
       "      <th>MoSold</th>\n",
       "      <th>YrSold</th>\n",
       "      <th>SalePrice</th>\n",
       "    </tr>\n",
       "  </thead>\n",
       "  <tbody>\n",
       "    <tr>\n",
       "      <th>count</th>\n",
       "      <td>1460.000000</td>\n",
       "      <td>1460.000000</td>\n",
       "      <td>1201.000000</td>\n",
       "      <td>1460.000000</td>\n",
       "      <td>1460.000000</td>\n",
       "      <td>1460.000000</td>\n",
       "      <td>1460.000000</td>\n",
       "      <td>1460.000000</td>\n",
       "      <td>1452.000000</td>\n",
       "      <td>1460.000000</td>\n",
       "      <td>...</td>\n",
       "      <td>1460.000000</td>\n",
       "      <td>1460.000000</td>\n",
       "      <td>1460.000000</td>\n",
       "      <td>1460.000000</td>\n",
       "      <td>1460.000000</td>\n",
       "      <td>1460.000000</td>\n",
       "      <td>1460.000000</td>\n",
       "      <td>1460.000000</td>\n",
       "      <td>1460.000000</td>\n",
       "      <td>1460.000000</td>\n",
       "    </tr>\n",
       "    <tr>\n",
       "      <th>mean</th>\n",
       "      <td>730.500000</td>\n",
       "      <td>56.897260</td>\n",
       "      <td>70.049958</td>\n",
       "      <td>10516.828082</td>\n",
       "      <td>6.099315</td>\n",
       "      <td>5.575342</td>\n",
       "      <td>1971.267808</td>\n",
       "      <td>1984.865753</td>\n",
       "      <td>103.685262</td>\n",
       "      <td>443.639726</td>\n",
       "      <td>...</td>\n",
       "      <td>94.244521</td>\n",
       "      <td>46.660274</td>\n",
       "      <td>21.954110</td>\n",
       "      <td>3.409589</td>\n",
       "      <td>15.060959</td>\n",
       "      <td>2.758904</td>\n",
       "      <td>43.489041</td>\n",
       "      <td>6.321918</td>\n",
       "      <td>2007.815753</td>\n",
       "      <td>180921.195890</td>\n",
       "    </tr>\n",
       "    <tr>\n",
       "      <th>std</th>\n",
       "      <td>421.610009</td>\n",
       "      <td>42.300571</td>\n",
       "      <td>24.284752</td>\n",
       "      <td>9981.264932</td>\n",
       "      <td>1.382997</td>\n",
       "      <td>1.112799</td>\n",
       "      <td>30.202904</td>\n",
       "      <td>20.645407</td>\n",
       "      <td>181.066207</td>\n",
       "      <td>456.098091</td>\n",
       "      <td>...</td>\n",
       "      <td>125.338794</td>\n",
       "      <td>66.256028</td>\n",
       "      <td>61.119149</td>\n",
       "      <td>29.317331</td>\n",
       "      <td>55.757415</td>\n",
       "      <td>40.177307</td>\n",
       "      <td>496.123024</td>\n",
       "      <td>2.703626</td>\n",
       "      <td>1.328095</td>\n",
       "      <td>79442.502883</td>\n",
       "    </tr>\n",
       "    <tr>\n",
       "      <th>min</th>\n",
       "      <td>1.000000</td>\n",
       "      <td>20.000000</td>\n",
       "      <td>21.000000</td>\n",
       "      <td>1300.000000</td>\n",
       "      <td>1.000000</td>\n",
       "      <td>1.000000</td>\n",
       "      <td>1872.000000</td>\n",
       "      <td>1950.000000</td>\n",
       "      <td>0.000000</td>\n",
       "      <td>0.000000</td>\n",
       "      <td>...</td>\n",
       "      <td>0.000000</td>\n",
       "      <td>0.000000</td>\n",
       "      <td>0.000000</td>\n",
       "      <td>0.000000</td>\n",
       "      <td>0.000000</td>\n",
       "      <td>0.000000</td>\n",
       "      <td>0.000000</td>\n",
       "      <td>1.000000</td>\n",
       "      <td>2006.000000</td>\n",
       "      <td>34900.000000</td>\n",
       "    </tr>\n",
       "    <tr>\n",
       "      <th>25%</th>\n",
       "      <td>365.750000</td>\n",
       "      <td>20.000000</td>\n",
       "      <td>59.000000</td>\n",
       "      <td>7553.500000</td>\n",
       "      <td>5.000000</td>\n",
       "      <td>5.000000</td>\n",
       "      <td>1954.000000</td>\n",
       "      <td>1967.000000</td>\n",
       "      <td>0.000000</td>\n",
       "      <td>0.000000</td>\n",
       "      <td>...</td>\n",
       "      <td>0.000000</td>\n",
       "      <td>0.000000</td>\n",
       "      <td>0.000000</td>\n",
       "      <td>0.000000</td>\n",
       "      <td>0.000000</td>\n",
       "      <td>0.000000</td>\n",
       "      <td>0.000000</td>\n",
       "      <td>5.000000</td>\n",
       "      <td>2007.000000</td>\n",
       "      <td>129975.000000</td>\n",
       "    </tr>\n",
       "    <tr>\n",
       "      <th>50%</th>\n",
       "      <td>730.500000</td>\n",
       "      <td>50.000000</td>\n",
       "      <td>69.000000</td>\n",
       "      <td>9478.500000</td>\n",
       "      <td>6.000000</td>\n",
       "      <td>5.000000</td>\n",
       "      <td>1973.000000</td>\n",
       "      <td>1994.000000</td>\n",
       "      <td>0.000000</td>\n",
       "      <td>383.500000</td>\n",
       "      <td>...</td>\n",
       "      <td>0.000000</td>\n",
       "      <td>25.000000</td>\n",
       "      <td>0.000000</td>\n",
       "      <td>0.000000</td>\n",
       "      <td>0.000000</td>\n",
       "      <td>0.000000</td>\n",
       "      <td>0.000000</td>\n",
       "      <td>6.000000</td>\n",
       "      <td>2008.000000</td>\n",
       "      <td>163000.000000</td>\n",
       "    </tr>\n",
       "    <tr>\n",
       "      <th>75%</th>\n",
       "      <td>1095.250000</td>\n",
       "      <td>70.000000</td>\n",
       "      <td>80.000000</td>\n",
       "      <td>11601.500000</td>\n",
       "      <td>7.000000</td>\n",
       "      <td>6.000000</td>\n",
       "      <td>2000.000000</td>\n",
       "      <td>2004.000000</td>\n",
       "      <td>166.000000</td>\n",
       "      <td>712.250000</td>\n",
       "      <td>...</td>\n",
       "      <td>168.000000</td>\n",
       "      <td>68.000000</td>\n",
       "      <td>0.000000</td>\n",
       "      <td>0.000000</td>\n",
       "      <td>0.000000</td>\n",
       "      <td>0.000000</td>\n",
       "      <td>0.000000</td>\n",
       "      <td>8.000000</td>\n",
       "      <td>2009.000000</td>\n",
       "      <td>214000.000000</td>\n",
       "    </tr>\n",
       "    <tr>\n",
       "      <th>max</th>\n",
       "      <td>1460.000000</td>\n",
       "      <td>190.000000</td>\n",
       "      <td>313.000000</td>\n",
       "      <td>215245.000000</td>\n",
       "      <td>10.000000</td>\n",
       "      <td>9.000000</td>\n",
       "      <td>2010.000000</td>\n",
       "      <td>2010.000000</td>\n",
       "      <td>1600.000000</td>\n",
       "      <td>5644.000000</td>\n",
       "      <td>...</td>\n",
       "      <td>857.000000</td>\n",
       "      <td>547.000000</td>\n",
       "      <td>552.000000</td>\n",
       "      <td>508.000000</td>\n",
       "      <td>480.000000</td>\n",
       "      <td>738.000000</td>\n",
       "      <td>15500.000000</td>\n",
       "      <td>12.000000</td>\n",
       "      <td>2010.000000</td>\n",
       "      <td>755000.000000</td>\n",
       "    </tr>\n",
       "  </tbody>\n",
       "</table>\n",
       "<p>8 rows × 38 columns</p>\n",
       "</div>"
      ],
      "text/plain": [
       "                Id   MSSubClass  LotFrontage        LotArea  OverallQual  \\\n",
       "count  1460.000000  1460.000000  1201.000000    1460.000000  1460.000000   \n",
       "mean    730.500000    56.897260    70.049958   10516.828082     6.099315   \n",
       "std     421.610009    42.300571    24.284752    9981.264932     1.382997   \n",
       "min       1.000000    20.000000    21.000000    1300.000000     1.000000   \n",
       "25%     365.750000    20.000000    59.000000    7553.500000     5.000000   \n",
       "50%     730.500000    50.000000    69.000000    9478.500000     6.000000   \n",
       "75%    1095.250000    70.000000    80.000000   11601.500000     7.000000   \n",
       "max    1460.000000   190.000000   313.000000  215245.000000    10.000000   \n",
       "\n",
       "       OverallCond    YearBuilt  YearRemodAdd   MasVnrArea   BsmtFinSF1  ...  \\\n",
       "count  1460.000000  1460.000000   1460.000000  1452.000000  1460.000000  ...   \n",
       "mean      5.575342  1971.267808   1984.865753   103.685262   443.639726  ...   \n",
       "std       1.112799    30.202904     20.645407   181.066207   456.098091  ...   \n",
       "min       1.000000  1872.000000   1950.000000     0.000000     0.000000  ...   \n",
       "25%       5.000000  1954.000000   1967.000000     0.000000     0.000000  ...   \n",
       "50%       5.000000  1973.000000   1994.000000     0.000000   383.500000  ...   \n",
       "75%       6.000000  2000.000000   2004.000000   166.000000   712.250000  ...   \n",
       "max       9.000000  2010.000000   2010.000000  1600.000000  5644.000000  ...   \n",
       "\n",
       "        WoodDeckSF  OpenPorchSF  EnclosedPorch    3SsnPorch  ScreenPorch  \\\n",
       "count  1460.000000  1460.000000    1460.000000  1460.000000  1460.000000   \n",
       "mean     94.244521    46.660274      21.954110     3.409589    15.060959   \n",
       "std     125.338794    66.256028      61.119149    29.317331    55.757415   \n",
       "min       0.000000     0.000000       0.000000     0.000000     0.000000   \n",
       "25%       0.000000     0.000000       0.000000     0.000000     0.000000   \n",
       "50%       0.000000    25.000000       0.000000     0.000000     0.000000   \n",
       "75%     168.000000    68.000000       0.000000     0.000000     0.000000   \n",
       "max     857.000000   547.000000     552.000000   508.000000   480.000000   \n",
       "\n",
       "          PoolArea       MiscVal       MoSold       YrSold      SalePrice  \n",
       "count  1460.000000   1460.000000  1460.000000  1460.000000    1460.000000  \n",
       "mean      2.758904     43.489041     6.321918  2007.815753  180921.195890  \n",
       "std      40.177307    496.123024     2.703626     1.328095   79442.502883  \n",
       "min       0.000000      0.000000     1.000000  2006.000000   34900.000000  \n",
       "25%       0.000000      0.000000     5.000000  2007.000000  129975.000000  \n",
       "50%       0.000000      0.000000     6.000000  2008.000000  163000.000000  \n",
       "75%       0.000000      0.000000     8.000000  2009.000000  214000.000000  \n",
       "max     738.000000  15500.000000    12.000000  2010.000000  755000.000000  \n",
       "\n",
       "[8 rows x 38 columns]"
      ]
     },
     "execution_count": 102,
     "metadata": {},
     "output_type": "execute_result"
    }
   ],
   "source": [
    "prices.describe()"
   ]
  },
  {
   "cell_type": "code",
   "execution_count": 103,
   "id": "0a15f6fc",
   "metadata": {
    "ExecuteTime": {
     "end_time": "2022-05-26T13:11:05.634628Z",
     "start_time": "2022-05-26T13:11:05.629066Z"
    }
   },
   "outputs": [
    {
     "data": {
      "text/plain": [
       "(1460, 81)"
      ]
     },
     "execution_count": 103,
     "metadata": {},
     "output_type": "execute_result"
    }
   ],
   "source": [
    "prices.shape"
   ]
  },
  {
   "cell_type": "markdown",
   "id": "e73a5321",
   "metadata": {},
   "source": [
    "**Let's analyse the null values**"
   ]
  },
  {
   "cell_type": "code",
   "execution_count": 104,
   "id": "16ce4d86",
   "metadata": {
    "ExecuteTime": {
     "end_time": "2022-05-26T13:11:06.527907Z",
     "start_time": "2022-05-26T13:11:06.508786Z"
    }
   },
   "outputs": [
    {
     "data": {
      "text/plain": [
       "Id                 0\n",
       "MSSubClass         0\n",
       "MSZoning           0\n",
       "LotFrontage      259\n",
       "LotArea            0\n",
       "                ... \n",
       "MoSold             0\n",
       "YrSold             0\n",
       "SaleType           0\n",
       "SaleCondition      0\n",
       "SalePrice          0\n",
       "Length: 81, dtype: int64"
      ]
     },
     "execution_count": 104,
     "metadata": {},
     "output_type": "execute_result"
    }
   ],
   "source": [
    "prices.isnull().sum()"
   ]
  },
  {
   "cell_type": "markdown",
   "id": "6e915aa6",
   "metadata": {},
   "source": [
    "**calculating the percentage of null values in each column and dropping the columns having a percentage of more than 50%**"
   ]
  },
  {
   "cell_type": "code",
   "execution_count": 105,
   "id": "5c79f7c0",
   "metadata": {
    "ExecuteTime": {
     "end_time": "2022-05-26T13:11:07.894088Z",
     "start_time": "2022-05-26T13:11:07.866449Z"
    }
   },
   "outputs": [
    {
     "name": "stdout",
     "output_type": "stream",
     "text": [
      "The following columns will be dropped: ['Alley', 'PoolQC', 'Fence', 'MiscFeature']\n"
     ]
    }
   ],
   "source": [
    "cols = prices.columns\n",
    "n = prices.shape[0]\n",
    "cols_to_drop=[]\n",
    "for c in cols:\n",
    "    m = prices[c].isnull().sum()\n",
    "    pct = m/n\n",
    "    if pct > 0.5:\n",
    "        cols_to_drop.append(c)\n",
    "print('The following columns will be dropped:',cols_to_drop)"
   ]
  },
  {
   "cell_type": "code",
   "execution_count": 106,
   "id": "1e3a2729",
   "metadata": {
    "ExecuteTime": {
     "end_time": "2022-05-26T13:11:10.890553Z",
     "start_time": "2022-05-26T13:11:10.885684Z"
    }
   },
   "outputs": [],
   "source": [
    "prices = prices.drop(columns=cols_to_drop)    "
   ]
  },
  {
   "cell_type": "markdown",
   "id": "5aff41cc",
   "metadata": {},
   "source": [
    "**printing columns having null values less than 50%**"
   ]
  },
  {
   "cell_type": "code",
   "execution_count": 107,
   "id": "3600f67a",
   "metadata": {
    "ExecuteTime": {
     "end_time": "2022-05-26T13:11:12.129431Z",
     "start_time": "2022-05-26T13:11:12.107177Z"
    }
   },
   "outputs": [
    {
     "data": {
      "text/plain": [
       "['LotFrontage',\n",
       " 'MasVnrType',\n",
       " 'MasVnrArea',\n",
       " 'BsmtQual',\n",
       " 'BsmtCond',\n",
       " 'BsmtExposure',\n",
       " 'BsmtFinType1',\n",
       " 'BsmtFinType2',\n",
       " 'Electrical',\n",
       " 'FireplaceQu',\n",
       " 'GarageType',\n",
       " 'GarageYrBlt',\n",
       " 'GarageFinish',\n",
       " 'GarageQual',\n",
       " 'GarageCond']"
      ]
     },
     "execution_count": 107,
     "metadata": {},
     "output_type": "execute_result"
    }
   ],
   "source": [
    "cols = prices.columns\n",
    "cols_null_values = [c for c in cols if prices[c].isnull().any()]\n",
    "cols_null_values"
   ]
  },
  {
   "cell_type": "markdown",
   "id": "e8e91910",
   "metadata": {},
   "source": [
    "**Separating the dataframe into numerical and categorical columns**"
   ]
  },
  {
   "cell_type": "code",
   "execution_count": 108,
   "id": "e7441328",
   "metadata": {
    "ExecuteTime": {
     "end_time": "2022-05-26T13:11:14.115243Z",
     "start_time": "2022-05-26T13:11:14.109842Z"
    }
   },
   "outputs": [],
   "source": [
    "prices_num = prices.select_dtypes(exclude='object')\n",
    "prices_cat = prices.select_dtypes(include='object')"
   ]
  },
  {
   "cell_type": "code",
   "execution_count": null,
   "id": "6a9ebf98",
   "metadata": {},
   "outputs": [],
   "source": []
  },
  {
   "cell_type": "markdown",
   "id": "c398c030",
   "metadata": {},
   "source": [
    "**Filling the numerical columns with mean of its column. Since the columns are about square areas of the lot or garage, it makes sense to fill with mean of the value in a certain geographical area**"
   ]
  },
  {
   "cell_type": "code",
   "execution_count": 109,
   "id": "95db207b",
   "metadata": {
    "ExecuteTime": {
     "end_time": "2022-05-26T13:11:15.789141Z",
     "start_time": "2022-05-26T13:11:15.775176Z"
    }
   },
   "outputs": [],
   "source": [
    "cols_num = prices_num.columns\n",
    "for c in cols_num:\n",
    "    if prices_num[c].isnull().any():\n",
    "        prices_num[c].fillna(value=prices_num[c].mean(),inplace=True)"
   ]
  },
  {
   "cell_type": "markdown",
   "id": "af53898b",
   "metadata": {},
   "source": [
    "**Fiiling the null values in the categorical columns with the most repeated value**"
   ]
  },
  {
   "cell_type": "code",
   "execution_count": 111,
   "id": "6857f5c9",
   "metadata": {
    "ExecuteTime": {
     "end_time": "2022-05-26T13:12:16.275089Z",
     "start_time": "2022-05-26T13:12:16.225126Z"
    }
   },
   "outputs": [],
   "source": [
    "prices_cat = prices_cat.apply(lambda x: x.fillna(x.value_counts().index[0]))"
   ]
  },
  {
   "cell_type": "markdown",
   "id": "0874cfb4",
   "metadata": {},
   "source": [
    "**Using label encoders to convert the categorical value to numerical values**"
   ]
  },
  {
   "cell_type": "code",
   "execution_count": 115,
   "id": "4328c3dc",
   "metadata": {
    "ExecuteTime": {
     "end_time": "2022-05-26T13:14:27.305186Z",
     "start_time": "2022-05-26T13:14:27.283895Z"
    }
   },
   "outputs": [],
   "source": [
    "le = preprocessing.LabelEncoder()\n",
    "prices_cat = prices_cat.apply(le.fit_transform)"
   ]
  },
  {
   "cell_type": "markdown",
   "id": "741c270f",
   "metadata": {},
   "source": [
    "**Combining the numerical and numerically encoded categorical columns** "
   ]
  },
  {
   "cell_type": "code",
   "execution_count": 118,
   "id": "5e638187",
   "metadata": {
    "ExecuteTime": {
     "end_time": "2022-05-26T13:15:48.253166Z",
     "start_time": "2022-05-26T13:15:48.192846Z"
    }
   },
   "outputs": [],
   "source": [
    "prices_clean= pd.concat([prices_num,prices_cat],axis=1)"
   ]
  },
  {
   "cell_type": "markdown",
   "id": "35d23f70",
   "metadata": {},
   "source": [
    "**Size of the final cleaned dataset**"
   ]
  },
  {
   "cell_type": "code",
   "execution_count": 147,
   "id": "f344a2d3",
   "metadata": {
    "ExecuteTime": {
     "end_time": "2022-05-26T14:06:14.100921Z",
     "start_time": "2022-05-26T14:06:14.095191Z"
    }
   },
   "outputs": [
    {
     "data": {
      "text/plain": [
       "(1460, 77)"
      ]
     },
     "execution_count": 147,
     "metadata": {},
     "output_type": "execute_result"
    }
   ],
   "source": [
    "prices_clean.shape"
   ]
  },
  {
   "cell_type": "markdown",
   "id": "0ec68313",
   "metadata": {},
   "source": [
    "**There are several features in the dataset as shown in the heatmap below**\n",
    "\n",
    "**Let's use a dimensionality reduction technique called principal component analysis(PCA) to reduce the number of features but retain the information contained in entire dataset**"
   ]
  },
  {
   "cell_type": "code",
   "execution_count": 125,
   "id": "c48bb558",
   "metadata": {
    "ExecuteTime": {
     "end_time": "2022-05-26T13:21:23.966053Z",
     "start_time": "2022-05-26T13:21:20.979311Z"
    }
   },
   "outputs": [
    {
     "data": {
      "image/png": "[encoded data removed]",
      "text/plain": [
       "<Figure size 1800x1800 with 2 Axes>"
      ]
     },
     "metadata": {
      "needs_background": "light"
     },
     "output_type": "display_data"
    }
   ],
   "source": [
    "fig = plt.figure(figsize=(25,25))\n",
    "corr = prices_clean.corr()\n",
    "sns.heatmap(corr)\n",
    "plt.show()"
   ]
  },
  {
   "cell_type": "code",
   "execution_count": 127,
   "id": "fde586fb",
   "metadata": {
    "ExecuteTime": {
     "end_time": "2022-05-26T13:57:01.569408Z",
     "start_time": "2022-05-26T13:57:01.560409Z"
    }
   },
   "outputs": [],
   "source": [
    "X=prices_clean.drop(['SalePrice'],axis=1)\n",
    "y=prices_clean['SalePrice']"
   ]
  },
  {
   "cell_type": "markdown",
   "id": "2b802ad5",
   "metadata": {},
   "source": [
    "**It is important to scale down the values to the same range before using the PCA technique to reduce the error**"
   ]
  },
  {
   "cell_type": "code",
   "execution_count": 128,
   "id": "2559beb0",
   "metadata": {
    "ExecuteTime": {
     "end_time": "2022-05-26T13:57:34.724779Z",
     "start_time": "2022-05-26T13:57:34.677627Z"
    }
   },
   "outputs": [],
   "source": [
    "sc=StandardScaler()\n",
    "X_scaled=sc.fit_transform(X)"
   ]
  },
  {
   "cell_type": "markdown",
   "id": "e7cf31a2",
   "metadata": {},
   "source": [
    "**Reducing the number of features to 60**"
   ]
  },
  {
   "cell_type": "code",
   "execution_count": 186,
   "id": "69abed10",
   "metadata": {
    "ExecuteTime": {
     "end_time": "2022-05-26T21:49:03.283007Z",
     "start_time": "2022-05-26T21:49:03.188978Z"
    }
   },
   "outputs": [],
   "source": [
    "pca_60 = PCA(n_components=60,random_state=45)\n",
    "X_pca = pca_60.fit_transform(X_scaled)"
   ]
  },
  {
   "cell_type": "markdown",
   "id": "1f68ca30",
   "metadata": {},
   "source": [
    "**The explained_variance_ratio_ attribute of the PCA() class returns a one-dimensional numpy array which contains the values of the percentage of variance explained by each of the selected components.**"
   ]
  },
  {
   "cell_type": "code",
   "execution_count": 187,
   "id": "8f0a41d5",
   "metadata": {
    "ExecuteTime": {
     "end_time": "2022-05-26T21:49:27.492651Z",
     "start_time": "2022-05-26T21:49:27.487002Z"
    }
   },
   "outputs": [
    {
     "name": "stdout",
     "output_type": "stream",
     "text": [
      "Variance explained by all 60 principal components 96.258\n"
     ]
    }
   ],
   "source": [
    "print(\"Variance explained by all 60 principal components {:.3f}\".format(sum(pca_60.explained_variance_ratio_ *100)))"
   ]
  },
  {
   "cell_type": "markdown",
   "id": "ae62c4e9",
   "metadata": {},
   "source": [
    "**The first component alone captures 13.63% of variability of the data and 1st and 2nd component combined together captures 18.94% of data variablity and so on..The 60 components combined together provides 96.25% of data variability. i.e the number of components have been reduced to 60 and 96.25% of information have been captured from the entire dataset**"
   ]
  },
  {
   "cell_type": "code",
   "execution_count": 188,
   "id": "9341d8f4",
   "metadata": {
    "ExecuteTime": {
     "end_time": "2022-05-26T21:49:34.411948Z",
     "start_time": "2022-05-26T21:49:34.404194Z"
    }
   },
   "outputs": [
    {
     "data": {
      "text/plain": [
       "array([13.6362621 , 18.94948159, 23.81404122, 27.77960231, 30.79942593,\n",
       "       33.54226236, 35.9281147 , 38.19169729, 40.27057886, 42.32170502,\n",
       "       44.29139299, 46.17329894, 47.96827684, 49.72533756, 51.41318912,\n",
       "       53.00893877, 54.57663793, 56.10791392, 57.61053748, 59.09159103,\n",
       "       60.54061379, 61.98028119, 63.40015468, 64.79498137, 66.14073779,\n",
       "       67.44711343, 68.71309292, 69.94493306, 71.16863986, 72.32017459,\n",
       "       73.45421514, 74.58022352, 75.69811585, 76.78648424, 77.86460203,\n",
       "       78.88727844, 79.89423252, 80.88576398, 81.8448119 , 82.79360811,\n",
       "       83.69780338, 84.58679654, 85.42981798, 86.27022521, 87.07124274,\n",
       "       87.85155679, 88.61424467, 89.33923942, 90.03688562, 90.7290534 ,\n",
       "       91.38341407, 92.00122594, 92.606887  , 93.18859042, 93.74836225,\n",
       "       94.28449555, 94.78952441, 95.29211922, 95.78595999, 96.25811199])"
      ]
     },
     "execution_count": 188,
     "metadata": {},
     "output_type": "execute_result"
    }
   ],
   "source": [
    "np.cumsum(pca_60.explained_variance_ratio_ *100)"
   ]
  },
  {
   "cell_type": "markdown",
   "id": "d9962a2b",
   "metadata": {},
   "source": [
    "**This is depicted graphically**"
   ]
  },
  {
   "cell_type": "code",
   "execution_count": 189,
   "id": "23ded0a0",
   "metadata": {
    "ExecuteTime": {
     "end_time": "2022-05-26T21:49:37.766929Z",
     "start_time": "2022-05-26T21:49:37.568329Z"
    }
   },
   "outputs": [
    {
     "data": {
      "image/png": "[encoded data removed]",
      "text/plain": [
       "<Figure size 432x288 with 1 Axes>"
      ]
     },
     "metadata": {
      "needs_background": "light"
     },
     "output_type": "display_data"
    }
   ],
   "source": [
    "plt.plot(np.cumsum(pca_60.explained_variance_ratio_))\n",
    "plt.xlabel('Number of components')\n",
    "plt.ylabel('Explained Variance');"
   ]
  },
  {
   "cell_type": "markdown",
   "id": "f2fe998b",
   "metadata": {},
   "source": [
    "[Principal Component Analysis - Sklearn execution](https://towardsdatascience.com/principal-component-analysis-pca-with-scikit-learn-1e84a0c731b0)"
   ]
  },
  {
   "cell_type": "markdown",
   "id": "0d583895",
   "metadata": {},
   "source": [
    "[Principal Component Analysis - Mathematical Explanation](https://builtin.com/data-science/step-step-explanation-principal-component-analysis)"
   ]
  },
  {
   "cell_type": "code",
   "execution_count": 190,
   "id": "578b0619",
   "metadata": {
    "ExecuteTime": {
     "end_time": "2022-05-26T21:49:42.699845Z",
     "start_time": "2022-05-26T21:49:42.694281Z"
    }
   },
   "outputs": [],
   "source": [
    "X_train,X_test,y_train,y_test= train_test_split(X_pca,y,test_size=0.2,random_state=47)"
   ]
  },
  {
   "cell_type": "markdown",
   "id": "ee041a58",
   "metadata": {},
   "source": [
    "**Using various regression models to decide which works better**\n",
    "\n",
    "**It seems that SGDRegressor performs better for this case**"
   ]
  },
  {
   "cell_type": "code",
   "execution_count": 191,
   "id": "5f7154df",
   "metadata": {
    "ExecuteTime": {
     "end_time": "2022-05-26T21:49:44.688149Z",
     "start_time": "2022-05-26T21:49:44.523872Z"
    }
   },
   "outputs": [
    {
     "name": "stdout",
     "output_type": "stream",
     "text": [
      "LinearRegression()\n",
      "R2 score:0.51\n",
      "Root mean squared error :56910.69\n",
      "*********************************************************\n",
      "Lasso()\n",
      "R2 score:0.51\n",
      "Root mean squared error :56904.78\n",
      "*********************************************************\n",
      "Ridge()\n",
      "R2 score:0.51\n",
      "Root mean squared error :56884.73\n",
      "*********************************************************\n",
      "ElasticNetCV()\n",
      "R2 score:0.07\n",
      "Root mean squared error :78928.35\n",
      "*********************************************************\n",
      "SGDRegressor()\n",
      "R2 score:0.53\n",
      "Root mean squared error :55926.25\n",
      "*********************************************************\n"
     ]
    }
   ],
   "source": [
    "models = [LinearRegression(),Lasso(),Ridge(),ElasticNetCV(),SGDRegressor()]\n",
    "\n",
    "for model in models:\n",
    "    model.fit(X_train,y_train)\n",
    "    predictions = model.predict(X_test)\n",
    "    print(model)\n",
    "    print('R2 score:{:.2f}'.format(r2_score(y_test,predictions)))\n",
    "    print('Root mean squared error :{:.2f}'.format(mean_squared_error(y_test,predictions,squared=False)))\n",
    "    print('*********************************************************')\n",
    "    "
   ]
  },
  {
   "cell_type": "markdown",
   "id": "bc3c6fa2",
   "metadata": {},
   "source": [
    "**Optimizing the performance of SGDRegressor using the Gridsearch cross validation method**"
   ]
  },
  {
   "cell_type": "code",
   "execution_count": 172,
   "id": "38dda77c",
   "metadata": {
    "ExecuteTime": {
     "end_time": "2022-05-26T14:41:37.699758Z",
     "start_time": "2022-05-26T14:41:36.906853Z"
    }
   },
   "outputs": [
    {
     "data": {
      "text/html": [
       "<style>#sk-container-id-3 {color: black;background-color: white;}#sk-container-id-3 pre{padding: 0;}#sk-container-id-3 div.sk-toggleable {background-color: white;}#sk-container-id-3 label.sk-toggleable__label {cursor: pointer;display: block;width: 100%;margin-bottom: 0;padding: 0.3em;box-sizing: border-box;text-align: center;}#sk-container-id-3 label.sk-toggleable__label-arrow:before {content: \"▸\";float: left;margin-right: 0.25em;color: #696969;}#sk-container-id-3 label.sk-toggleable__label-arrow:hover:before {color: black;}#sk-container-id-3 div.sk-estimator:hover label.sk-toggleable__label-arrow:before {color: black;}#sk-container-id-3 div.sk-toggleable__content {max-height: 0;max-width: 0;overflow: hidden;text-align: left;background-color: #f0f8ff;}#sk-container-id-3 div.sk-toggleable__content pre {margin: 0.2em;color: black;border-radius: 0.25em;background-color: #f0f8ff;}#sk-container-id-3 input.sk-toggleable__control:checked~div.sk-toggleable__content {max-height: 200px;max-width: 100%;overflow: auto;}#sk-container-id-3 input.sk-toggleable__control:checked~label.sk-toggleable__label-arrow:before {content: \"▾\";}#sk-container-id-3 div.sk-estimator input.sk-toggleable__control:checked~label.sk-toggleable__label {background-color: #d4ebff;}#sk-container-id-3 div.sk-label input.sk-toggleable__control:checked~label.sk-toggleable__label {background-color: #d4ebff;}#sk-container-id-3 input.sk-hidden--visually {border: 0;clip: rect(1px 1px 1px 1px);clip: rect(1px, 1px, 1px, 1px);height: 1px;margin: -1px;overflow: hidden;padding: 0;position: absolute;width: 1px;}#sk-container-id-3 div.sk-estimator {font-family: monospace;background-color: #f0f8ff;border: 1px dotted black;border-radius: 0.25em;box-sizing: border-box;margin-bottom: 0.5em;}#sk-container-id-3 div.sk-estimator:hover {background-color: #d4ebff;}#sk-container-id-3 div.sk-parallel-item::after {content: \"\";width: 100%;border-bottom: 1px solid gray;flex-grow: 1;}#sk-container-id-3 div.sk-label:hover label.sk-toggleable__label {background-color: #d4ebff;}#sk-container-id-3 div.sk-serial::before {content: \"\";position: absolute;border-left: 1px solid gray;box-sizing: border-box;top: 0;bottom: 0;left: 50%;z-index: 0;}#sk-container-id-3 div.sk-serial {display: flex;flex-direction: column;align-items: center;background-color: white;padding-right: 0.2em;padding-left: 0.2em;position: relative;}#sk-container-id-3 div.sk-item {position: relative;z-index: 1;}#sk-container-id-3 div.sk-parallel {display: flex;align-items: stretch;justify-content: center;background-color: white;position: relative;}#sk-container-id-3 div.sk-item::before, #sk-container-id-3 div.sk-parallel-item::before {content: \"\";position: absolute;border-left: 1px solid gray;box-sizing: border-box;top: 0;bottom: 0;left: 50%;z-index: -1;}#sk-container-id-3 div.sk-parallel-item {display: flex;flex-direction: column;z-index: 1;position: relative;background-color: white;}#sk-container-id-3 div.sk-parallel-item:first-child::after {align-self: flex-end;width: 50%;}#sk-container-id-3 div.sk-parallel-item:last-child::after {align-self: flex-start;width: 50%;}#sk-container-id-3 div.sk-parallel-item:only-child::after {width: 0;}#sk-container-id-3 div.sk-dashed-wrapped {border: 1px dashed gray;margin: 0 0.4em 0.5em 0.4em;box-sizing: border-box;padding-bottom: 0.4em;background-color: white;}#sk-container-id-3 div.sk-label label {font-family: monospace;font-weight: bold;display: inline-block;line-height: 1.2em;}#sk-container-id-3 div.sk-label-container {text-align: center;}#sk-container-id-3 div.sk-container {/* jupyter's `normalize.less` sets `[hidden] { display: none; }` but bootstrap.min.css set `[hidden] { display: none !important; }` so we also need the `!important` here to be able to override the default hidden behavior on the sphinx rendered scikit-learn.org. See: https://github.com/scikit-learn/scikit-learn/issues/21755 */display: inline-block !important;position: relative;}#sk-container-id-3 div.sk-text-repr-fallback {display: none;}</style><div id=\"sk-container-id-3\" class=\"sk-top-container\"><div class=\"sk-text-repr-fallback\"><pre>GridSearchCV(cv=5, estimator=SGDRegressor(),\n",
       "             param_grid=[{&#x27;alpha&#x27;: array([1.000000e-04, 2.500075e+00, 5.000050e+00, 7.500025e+00,\n",
       "       1.000000e+01]),\n",
       "                          &#x27;penalty&#x27;: [&#x27;l1&#x27;]},\n",
       "                         {&#x27;alpha&#x27;: array([1.000000e-04, 2.500075e+00, 5.000050e+00, 7.500025e+00,\n",
       "       1.000000e+01]),\n",
       "                          &#x27;penalty&#x27;: [&#x27;l2&#x27;]}])</pre><b>In a Jupyter environment, please rerun this cell to show the HTML representation or trust the notebook. <br />On GitHub, the HTML representation is unable to render, please try loading this page with nbviewer.org.</b></div><div class=\"sk-container\" hidden><div class=\"sk-item sk-dashed-wrapped\"><div class=\"sk-label-container\"><div class=\"sk-label sk-toggleable\"><input class=\"sk-toggleable__control sk-hidden--visually\" id=\"sk-estimator-id-7\" type=\"checkbox\" ><label for=\"sk-estimator-id-7\" class=\"sk-toggleable__label sk-toggleable__label-arrow\">GridSearchCV</label><div class=\"sk-toggleable__content\"><pre>GridSearchCV(cv=5, estimator=SGDRegressor(),\n",
       "             param_grid=[{&#x27;alpha&#x27;: array([1.000000e-04, 2.500075e+00, 5.000050e+00, 7.500025e+00,\n",
       "       1.000000e+01]),\n",
       "                          &#x27;penalty&#x27;: [&#x27;l1&#x27;]},\n",
       "                         {&#x27;alpha&#x27;: array([1.000000e-04, 2.500075e+00, 5.000050e+00, 7.500025e+00,\n",
       "       1.000000e+01]),\n",
       "                          &#x27;penalty&#x27;: [&#x27;l2&#x27;]}])</pre></div></div></div><div class=\"sk-parallel\"><div class=\"sk-parallel-item\"><div class=\"sk-item\"><div class=\"sk-label-container\"><div class=\"sk-label sk-toggleable\"><input class=\"sk-toggleable__control sk-hidden--visually\" id=\"sk-estimator-id-8\" type=\"checkbox\" ><label for=\"sk-estimator-id-8\" class=\"sk-toggleable__label sk-toggleable__label-arrow\">estimator: SGDRegressor</label><div class=\"sk-toggleable__content\"><pre>SGDRegressor()</pre></div></div></div><div class=\"sk-serial\"><div class=\"sk-item\"><div class=\"sk-estimator sk-toggleable\"><input class=\"sk-toggleable__control sk-hidden--visually\" id=\"sk-estimator-id-9\" type=\"checkbox\" ><label for=\"sk-estimator-id-9\" class=\"sk-toggleable__label sk-toggleable__label-arrow\">SGDRegressor</label><div class=\"sk-toggleable__content\"><pre>SGDRegressor()</pre></div></div></div></div></div></div></div></div></div></div>"
      ],
      "text/plain": [
       "GridSearchCV(cv=5, estimator=SGDRegressor(),\n",
       "             param_grid=[{'alpha': array([1.000000e-04, 2.500075e+00, 5.000050e+00, 7.500025e+00,\n",
       "       1.000000e+01]),\n",
       "                          'penalty': ['l1']},\n",
       "                         {'alpha': array([1.000000e-04, 2.500075e+00, 5.000050e+00, 7.500025e+00,\n",
       "       1.000000e+01]),\n",
       "                          'penalty': ['l2']}])"
      ]
     },
     "execution_count": 172,
     "metadata": {},
     "output_type": "execute_result"
    }
   ],
   "source": [
    "param_grid = [\n",
    "{'penalty': ['l1'],'alpha': np.linspace(0.0001, 10, 5 )},\n",
    "{'penalty': ['l2'],'alpha': np.linspace(0.0001, 10, 5 )}]\n",
    "grid_SGD = GridSearchCV(SGDRegressor(), param_grid, cv=5)\n",
    "grid_SGD.fit(X_train,y_train)"
   ]
  },
  {
   "cell_type": "code",
   "execution_count": 192,
   "id": "6771fa4a",
   "metadata": {
    "ExecuteTime": {
     "end_time": "2022-05-26T21:49:54.086115Z",
     "start_time": "2022-05-26T21:49:54.077530Z"
    }
   },
   "outputs": [
    {
     "name": "stdout",
     "output_type": "stream",
     "text": [
      "Test set score: 0.52\n",
      "Best parameters: {'alpha': 7.500025, 'penalty': 'l1'}\n",
      "Best cross-validation score: 0.86\n",
      "Best estimator:\n",
      "SGDRegressor(alpha=7.500025, penalty='l1')\n"
     ]
    }
   ],
   "source": [
    "print(\"Test set score: {:.2f}\".format(grid_SGD.score(X_test,y_test)))\n",
    "print(\"Best parameters: {}\".format(grid_SGD.best_params_))\n",
    "print(\"Best cross-validation score: {:.2f}\".format(grid_SGD.best_score_))\n",
    "print(\"Best estimator:\\n{}\".format(grid_SGD.best_estimator_))"
   ]
  },
  {
   "cell_type": "markdown",
   "id": "e6d58692",
   "metadata": {},
   "source": [
    "**Using the best estimator with best parameter for our final model to predict the house prices**\n",
    "\n",
    "**The model predicts prices with a price difference of $57,000 between the actual and predicted house prices**\n",
    "\n",
    "**There is room for improvement in model optimization**"
   ]
  },
  {
   "cell_type": "code",
   "execution_count": 193,
   "id": "9f241fa4",
   "metadata": {
    "ExecuteTime": {
     "end_time": "2022-05-26T21:49:58.871849Z",
     "start_time": "2022-05-26T21:49:58.836947Z"
    }
   },
   "outputs": [
    {
     "name": "stdout",
     "output_type": "stream",
     "text": [
      "R2 Score:0.51\n",
      "Root mean squared error:57339.06\n"
     ]
    }
   ],
   "source": [
    "best_SGD = SGDRegressor(alpha=7.500025, penalty='l1')\n",
    "best_SGD.fit(X_train,y_train)\n",
    "pred = best_SGD.predict(X_test)\n",
    "print('R2 Score:{:.2f}'.format(r2_score(y_test,pred)))\n",
    "print('Root mean squared error:{:.2f}'.format(mean_squared_error(y_test,pred,squared=False)))"
   ]
  }
 ],
 "metadata": {
  "kernelspec": {
   "display_name": "Python 3",
   "language": "python",
   "name": "python3"
  },
  "language_info": {
   "codemirror_mode": {
    "name": "ipython",
    "version": 3
   },
   "file_extension": ".py",
   "mimetype": "text/x-python",
   "name": "python",
   "nbconvert_exporter": "python",
   "pygments_lexer": "ipython3",
   "version": "3.9.7"
  },
  "toc": {
   "base_numbering": 1,
   "nav_menu": {},
   "number_sections": true,
   "sideBar": true,
   "skip_h1_title": false,
   "title_cell": "Table of Contents",
   "title_sidebar": "Contents",
   "toc_cell": false,
   "toc_position": {},
   "toc_section_display": true,
   "toc_window_display": false
  },
  "varInspector": {
   "cols": {
    "lenName": 16,
    "lenType": 16,
    "lenVar": 40
   },
   "kernels_config": {
    "python": {
     "delete_cmd_postfix": "",
     "delete_cmd_prefix": "del ",
     "library": "var_list.py",
     "varRefreshCmd": "print(var_dic_list())"
    },
    "r": {
     "delete_cmd_postfix": ") ",
     "delete_cmd_prefix": "rm(",
     "library": "var_list.r",
     "varRefreshCmd": "cat(var_dic_list()) "
    }
   },
   "types_to_exclude": [
    "module",
    "function",
    "builtin_function_or_method",
    "instance",
    "_Feature"
   ],
   "window_display": false
  }
 },
 "nbformat": 4,
 "nbformat_minor": 5
}
