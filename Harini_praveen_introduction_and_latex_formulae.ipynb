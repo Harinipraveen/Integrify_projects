{
 "cells": [
  {
   "cell_type": "markdown",
   "id": "12e11bd3",
   "metadata": {},
   "source": [
    "# Introduction"
   ]
  },
  {
   "cell_type": "markdown",
   "id": "99f65b9b",
   "metadata": {},
   "source": [
    "`**************************************************************************************************************************`"
   ]
  },
  {
   "cell_type": "markdown",
   "id": "1634f49b",
   "metadata": {
    "ExecuteTime": {
     "end_time": "2022-02-23T22:19:32.345619Z",
     "start_time": "2022-02-23T22:19:32.341576Z"
    }
   },
   "source": [
    "## About"
   ]
  },
  {
   "cell_type": "markdown",
   "id": "66da9442",
   "metadata": {},
   "source": [
    "*My name is Harini Praveen. I am a mainframe developer from TCS. I am changing my career to data industry. I am very excited to be learning **Machine Learning** and **Data Science**.* \n",
    " "
   ]
  },
  {
   "cell_type": "markdown",
   "id": "492359e8",
   "metadata": {},
   "source": [
    "## Skills"
   ]
  },
  {
   "cell_type": "markdown",
   "id": "a9f1661f",
   "metadata": {},
   "source": [
    "My skills are listed below:\n",
    "* Python\n",
    "* SQL\n",
    "* Machine learning - Supervised and unsupervised models, sklearn, PCA\n",
    "* Data analysis - Pandas and numpy\n",
    "* Data visualisation - Matplotlib and seaborn\n",
    "* BI tools - Excel and Tableau"
   ]
  },
  {
   "cell_type": "markdown",
   "id": "c4e21492",
   "metadata": {},
   "source": [
    "## At present"
   ]
  },
  {
   "cell_type": "markdown",
   "id": "8a86e410",
   "metadata": {},
   "source": [
    "> Currently I am undertaking Data science and Machine learning training program at ***Integrify***\n",
    ">> Iam learning the Markdown and Latex language now"
   ]
  },
  {
   "cell_type": "markdown",
   "id": "3faa0956",
   "metadata": {},
   "source": [
    "# Origin"
   ]
  },
  {
   "cell_type": "markdown",
   "id": "567f247c",
   "metadata": {},
   "source": [
    "`*****************************************************************************************************************************`"
   ]
  },
  {
   "cell_type": "markdown",
   "id": "cc45fa18",
   "metadata": {},
   "source": [
    "## ***I Live in Espoo, Finland***\n",
    "&nbsp;  \n",
    "&nbsp;\n",
    "<div>\n",
    "<img src=\"https://www.bcs.org/media/7943/city-aerial-view.jpg\" width=500 align=\"left\"/>\n",
    "</div>"
   ]
  },
  {
   "cell_type": "markdown",
   "id": "94b6e90a",
   "metadata": {},
   "source": [
    "## I come from Chennai, Tamil Nadu, India\n",
    "&nbsp;\n",
    "&nbsp;\n",
    "&nbsp;\n",
    "<div>\n",
    "    <img src =\"https://upload.wikimedia.org/wikipedia/commons/d/d9/Chennai_-_bird%27s-eye_view.jpg\" width=500 align =\"left\"/>\n",
    "    </div>"
   ]
  },
  {
   "cell_type": "markdown",
   "id": "2712c774",
   "metadata": {},
   "source": [
    "# Hobbies"
   ]
  },
  {
   "cell_type": "markdown",
   "id": "32783938",
   "metadata": {
    "ExecuteTime": {
     "end_time": "2022-02-24T09:53:28.013417Z",
     "start_time": "2022-02-24T09:53:28.008106Z"
    }
   },
   "source": [
    "## Books and Movies"
   ]
  },
  {
   "cell_type": "markdown",
   "id": "4900efe4",
   "metadata": {},
   "source": [
    "*I love to read and watch **Harry potter** movies.*"
   ]
  },
  {
   "cell_type": "code",
   "execution_count": 1,
   "id": "7cf88bc1",
   "metadata": {
    "ExecuteTime": {
     "end_time": "2022-02-25T08:37:10.568445Z",
     "start_time": "2022-02-25T08:37:10.522211Z"
    }
   },
   "outputs": [
    {
     "data": {
      "text/html": [
       "<figure class=\"video_container\">\n",
       "  <iframe src=\"https://www.youtube.com/embed/fFGS4zZWGoA\" frameborder=\"0\" allowfullscreen=\"true\"> </iframe>\n",
       "</figure>\n",
       "\n"
      ],
      "text/plain": [
       "<IPython.core.display.HTML object>"
      ]
     },
     "metadata": {},
     "output_type": "display_data"
    }
   ],
   "source": [
    "%%html\n",
    "<figure class=\"video_container\">\n",
    "  <iframe src=\"https://www.youtube.com/embed/fFGS4zZWGoA\" frameborder=\"0\" allowfullscreen=\"true\"> </iframe>\n",
    "</figure>\n",
    "\n"
   ]
  },
  {
   "cell_type": "markdown",
   "id": "e7af8d90",
   "metadata": {},
   "source": [
    "<div class=\"alert alert-info\" role=\"alert\">\n",
    "  Make sure to check out my Linkedin profile in the link below!!!\n",
    "</div>"
   ]
  },
  {
   "cell_type": "markdown",
   "id": "a1d93e1e",
   "metadata": {},
   "source": [
    "## [***My Profile***](https://www.linkedin.com/in/harini-praveen-24091989)"
   ]
  },
  {
   "cell_type": "markdown",
   "id": "7bb32808",
   "metadata": {},
   "source": [
    "# ***Thank You***"
   ]
  },
  {
   "cell_type": "markdown",
   "id": "c05ca403",
   "metadata": {},
   "source": [
    "# Latex formulae"
   ]
  },
  {
   "cell_type": "markdown",
   "id": "31552a68",
   "metadata": {},
   "source": [
    "### Angle sum identity"
   ]
  },
  {
   "cell_type": "markdown",
   "id": "d87f4037",
   "metadata": {},
   "source": [
    "$\\cos$($\\alpha$ $\\pm$ $\\beta$) = $\\cos$ $\\alpha$ $\\cos$ $\\beta$ $\\mp$ $\\sin$ $\\alpha$ $\\sin$ $\\beta$"
   ]
  },
  {
   "cell_type": "markdown",
   "id": "2dfe04cd",
   "metadata": {},
   "source": [
    "### Indefinite integral"
   ]
  },
  {
   "cell_type": "markdown",
   "id": "83b05716",
   "metadata": {},
   "source": [
    "$\\int$ $\\frac{1}{1 + x^2}$ $dx$ = $\\arctan{x}$ + $C$ "
   ]
  },
  {
   "cell_type": "markdown",
   "id": "aa716000",
   "metadata": {},
   "source": [
    "### Navier-Stokes Equation for Incompressible Flow"
   ]
  },
  {
   "cell_type": "markdown",
   "id": "45e6aaa6",
   "metadata": {},
   "source": [
    "$\\frac{\\partial{u}}{\\partial{t}}$ + ($u$ \\. $\\nabla$)$u$ - $v$$\\nabla^2$$u$ = -$\\nabla$$w$$+$$g$"
   ]
  },
  {
   "cell_type": "markdown",
   "id": "7cc138d9",
   "metadata": {},
   "source": [
    "### Green's Theorem"
   ]
  },
  {
   "cell_type": "markdown",
   "id": "365cf038",
   "metadata": {},
   "source": [
    "$\\oint_{C}$ ($L$$\\mathrm{d}x$$+$$M$$\\mathrm{d}y$) $=$ $\\int$$\\int_D$ $\\bigg($ $\\frac{\\partial{M}}{\\partial{x}}$ - $\\frac{\\partial{L}}{\\partial{y}}$ $\\bigg)$ $\\mathrm{d}x$$\\mathrm{d}y$"
   ]
  },
  {
   "cell_type": "markdown",
   "id": "f461a770",
   "metadata": {},
   "source": [
    "### Prime Number Theorem"
   ]
  },
  {
   "cell_type": "markdown",
   "id": "1f071174",
   "metadata": {},
   "source": [
    "$\\lim_{x \\to \\infty}$ $\\frac{\\frac{\\pi(x)}{x}}{\\log(x)}$ $=$ 1"
   ]
  },
  {
   "cell_type": "markdown",
   "id": "ae7d3d18",
   "metadata": {},
   "source": [
    "### Taylor series"
   ]
  },
  {
   "cell_type": "markdown",
   "id": "c59c884f",
   "metadata": {},
   "source": [
    "$\\sum_{n=0}^{\\infty}$ $\\frac{\\mathrm{f}^{(n)}(a)}{n!}$ $(x-a)^n$"
   ]
  },
  {
   "cell_type": "markdown",
   "id": "35149760",
   "metadata": {},
   "source": [
    "### inverse matrix "
   ]
  },
  {
   "cell_type": "markdown",
   "id": "f8fce7c4",
   "metadata": {},
   "source": [
    "$\\begin{bmatrix} a&b \\\\ c&d \\end{bmatrix}$ $^{-1}$ = $\\frac{1}{ad - bc}$$\\begin{bmatrix} d&-b \\\\ -c&a \\end{bmatrix}$"
   ]
  },
  {
   "cell_type": "markdown",
   "id": "b1c05028",
   "metadata": {},
   "source": [
    "### Laplace transform"
   ]
  },
  {
   "cell_type": "markdown",
   "id": "2b4f0617",
   "metadata": {},
   "source": [
    "$\\mathscr{L} \\mathrm{f}(t) = \\mathrm{F}(s) =$ $\\int_0^\\infty$ $\\mathrm{f}(t)\\mathrm{e}^{-st}\\mathrm{d}t$"
   ]
  },
  {
   "cell_type": "code",
   "execution_count": null,
   "id": "7f29755a",
   "metadata": {},
   "outputs": [],
   "source": []
  }
 ],
 "metadata": {
  "kernelspec": {
   "display_name": "Python 3",
   "language": "python",
   "name": "python3"
  },
  "language_info": {
   "codemirror_mode": {
    "name": "ipython",
    "version": 3
   },
   "file_extension": ".py",
   "mimetype": "text/x-python",
   "name": "python",
   "nbconvert_exporter": "python",
   "pygments_lexer": "ipython3",
   "version": "3.9.7"
  },
  "toc": {
   "base_numbering": 1,
   "nav_menu": {},
   "number_sections": true,
   "sideBar": true,
   "skip_h1_title": false,
   "title_cell": "Table of Contents",
   "title_sidebar": "Contents",
   "toc_cell": false,
   "toc_position": {},
   "toc_section_display": true,
   "toc_window_display": true
  },
  "varInspector": {
   "cols": {
    "lenName": 16,
    "lenType": 16,
    "lenVar": 40
   },
   "kernels_config": {
    "python": {
     "delete_cmd_postfix": "",
     "delete_cmd_prefix": "del ",
     "library": "var_list.py",
     "varRefreshCmd": "print(var_dic_list())"
    },
    "r": {
     "delete_cmd_postfix": ") ",
     "delete_cmd_prefix": "rm(",
     "library": "var_list.r",
     "varRefreshCmd": "cat(var_dic_list()) "
    }
   },
   "types_to_exclude": [
    "module",
    "function",
    "builtin_function_or_method",
    "instance",
    "_Feature"
   ],
   "window_display": false
  }
 },
 "nbformat": 4,
 "nbformat_minor": 5
}
