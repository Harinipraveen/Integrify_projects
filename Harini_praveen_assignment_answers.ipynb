{
 "cells": [
  {
   "cell_type": "code",
   "execution_count": 1,
   "id": "8508b726",
   "metadata": {
    "ExecuteTime": {
     "end_time": "2022-03-20T09:39:06.582562Z",
     "start_time": "2022-03-20T09:39:06.573947Z"
    }
   },
   "outputs": [],
   "source": [
    "import math"
   ]
  },
  {
   "cell_type": "code",
   "execution_count": 2,
   "id": "cb012cc9",
   "metadata": {
    "ExecuteTime": {
     "end_time": "2022-03-20T09:39:06.812966Z",
     "start_time": "2022-03-20T09:39:06.588163Z"
    }
   },
   "outputs": [],
   "source": [
    "#1.calculate area of a circle:\n",
    "def area_of_circle(x):\n",
    "    A = math.pi*math.pow(x,2)\n",
    "    return A\n"
   ]
  },
  {
   "cell_type": "code",
   "execution_count": 3,
   "id": "ddf153c9",
   "metadata": {
    "ExecuteTime": {
     "end_time": "2022-03-20T09:39:16.808048Z",
     "start_time": "2022-03-20T09:39:06.817429Z"
    }
   },
   "outputs": [
    {
     "name": "stdout",
     "output_type": "stream",
     "text": [
      "The area of circle is 141.03 cm2\n"
     ]
    }
   ],
   "source": [
    "R = float(input('What is the radius in cm'))\n",
    "print(f'The area of circle is %.2f' %area_of_circle(R), 'cm2')"
   ]
  },
  {
   "cell_type": "code",
   "execution_count": 4,
   "id": "a04a3ee1",
   "metadata": {
    "ExecuteTime": {
     "end_time": "2022-03-20T09:39:21.198397Z",
     "start_time": "2022-03-20T09:39:16.811431Z"
    }
   },
   "outputs": [
    {
     "name": "stdout",
     "output_type": "stream",
     "text": [
      "Hello Harini Good norning!!\n"
     ]
    }
   ],
   "source": [
    "#2. say hello to name\n",
    "name = input('Who are you??')\n",
    "print('Hello', name ,'Good norning!!')"
   ]
  },
  {
   "cell_type": "code",
   "execution_count": 5,
   "id": "94a47fc2",
   "metadata": {
    "ExecuteTime": {
     "end_time": "2022-03-20T09:39:21.204923Z",
     "start_time": "2022-03-20T09:39:21.201247Z"
    }
   },
   "outputs": [],
   "source": [
    "#3.calculate volume of sphere\n",
    "def volume_of_sphere(x):\n",
    "    A = (4/3)*math.pi*math.pow(x,3)\n",
    "    return A\n"
   ]
  },
  {
   "cell_type": "code",
   "execution_count": 6,
   "id": "b06fb5c5",
   "metadata": {
    "ExecuteTime": {
     "end_time": "2022-03-20T09:39:26.303649Z",
     "start_time": "2022-03-20T09:39:21.207861Z"
    }
   },
   "outputs": [
    {
     "name": "stdout",
     "output_type": "stream",
     "text": [
      "What is the radius in cm3\n",
      "The volume of sphere is 113.10 cm3\n"
     ]
    }
   ],
   "source": [
    "R = float(input('What is the radius in cm'))\n",
    "print(f'The volume of sphere is %.2f' %volume_of_sphere(R), 'cm3')"
   ]
  },
  {
   "cell_type": "code",
   "execution_count": 7,
   "id": "b1a64e41",
   "metadata": {
    "ExecuteTime": {
     "end_time": "2022-03-20T09:39:30.335492Z",
     "start_time": "2022-03-20T09:39:26.306401Z"
    }
   },
   "outputs": [
    {
     "name": "stdout",
     "output_type": "stream",
     "text": [
      "What is the word you want to multiplyhellp\n",
      "The multiplied word is hellphellphellphellphellp\n"
     ]
    }
   ],
   "source": [
    "#4. Copy String in n times\n",
    "word = input('What is the word you want to multiply')\n",
    "print('The multiplied word is', word*5)"
   ]
  },
  {
   "cell_type": "code",
   "execution_count": 8,
   "id": "0769b566",
   "metadata": {
    "ExecuteTime": {
     "end_time": "2022-03-20T09:39:30.348303Z",
     "start_time": "2022-03-20T09:39:30.341479Z"
    }
   },
   "outputs": [],
   "source": [
    "#5.Calculate Area of a Triangle\n",
    "def area_of_triangle(c,d):\n",
    "    A = (1/2)*c*d\n",
    "    return A\n"
   ]
  },
  {
   "cell_type": "code",
   "execution_count": 9,
   "id": "a0d2a977",
   "metadata": {
    "ExecuteTime": {
     "end_time": "2022-03-20T09:39:41.682097Z",
     "start_time": "2022-03-20T09:39:30.353425Z"
    }
   },
   "outputs": [
    {
     "name": "stdout",
     "output_type": "stream",
     "text": [
      "What is the height of triangle in cm7.9\n",
      "What is the breadth of triangle in cm6.3\n",
      "The area of traingle is 24.885 cm2\n"
     ]
    }
   ],
   "source": [
    "h = float(input('What is the height of triangle in cm'))\n",
    "b = float(input('What is the breadth of triangle in cm'))\n",
    "print('The area of traingle is', area_of_triangle(h,b), 'cm2')"
   ]
  },
  {
   "cell_type": "code",
   "execution_count": 10,
   "id": "9895c8f7",
   "metadata": {
    "ExecuteTime": {
     "end_time": "2022-03-20T09:39:55.969398Z",
     "start_time": "2022-03-20T09:39:41.685142Z"
    }
   },
   "outputs": [
    {
     "name": "stdout",
     "output_type": "stream",
     "text": [
      "What is the principal amount10000\n",
      "What is the rate of interest1.8\n",
      "What is the time of the investment period5\n",
      "The simple interest is 90000.0\n"
     ]
    }
   ],
   "source": [
    "#6.Calculate Interest\n",
    "P = float(input('What is the principal amount'))\n",
    "R = float(input('What is the rate of interest'))\n",
    "T = float(input('What is the time of the investment period'))\n",
    "print('The simple interest is', P*R*T)\n"
   ]
  },
  {
   "cell_type": "code",
   "execution_count": 11,
   "id": "12f7e6e4",
   "metadata": {
    "ExecuteTime": {
     "end_time": "2022-03-20T09:40:07.442138Z",
     "start_time": "2022-03-20T09:39:55.972455Z"
    }
   },
   "outputs": [
    {
     "name": "stdout",
     "output_type": "stream",
     "text": [
      "What is the measurement in feet4\n",
      "The centimeter equivalent of feet is 121.92 cm\n"
     ]
    }
   ],
   "source": [
    "#8.feet to centimeter converter\n",
    "F = float(input('What is the measurement in feet'))\n",
    "print('The centimeter equivalent of feet is', F*30.48, 'cm')"
   ]
  },
  {
   "cell_type": "code",
   "execution_count": 12,
   "id": "3bc5dd63",
   "metadata": {
    "ExecuteTime": {
     "end_time": "2022-03-20T09:40:17.642370Z",
     "start_time": "2022-03-20T09:40:07.445039Z"
    }
   },
   "outputs": [
    {
     "name": "stdout",
     "output_type": "stream",
     "text": [
      "How heavy are you in kg67\n",
      "How tall are you in cm177\n",
      "you're BMI is in metrics 21.39\n"
     ]
    }
   ],
   "source": [
    "#9.BMI Calculator\n",
    "W = float(input('How heavy are you in kg'))\n",
    "H = float(input('How tall are you in cm'))\n",
    "print(f\"you're BMI is in metrics %.2f\" % ((W/math.pow(H,2))*10000))\n",
    "#print(f\"area of the circle = %.3f\" %area)"
   ]
  },
  {
   "cell_type": "code",
   "execution_count": 13,
   "id": "266c2469",
   "metadata": {
    "ExecuteTime": {
     "end_time": "2022-03-20T09:40:31.975414Z",
     "start_time": "2022-03-20T09:40:17.645154Z"
    }
   },
   "outputs": [
    {
     "name": "stdout",
     "output_type": "stream",
     "text": [
      "enter the binary digit 1101\n",
      "The binary array is ['1', '1', '0', '1']\n",
      "Converting the given binary to decimal 13.0\n"
     ]
    }
   ],
   "source": [
    "#10. convert Binary to decimal\n",
    "\n",
    "bin_num = list(str(input(\"enter the binary digit \")))\n",
    "print('The binary array is', bin_num)\n",
    "\n",
    "counter = 0\n",
    "dec_num = 0\n",
    "for i in (reversed(bin_num)):\n",
    "        dec_num += int(i)*math.pow(2,counter)\n",
    "        counter+=1\n",
    "print('Converting the given binary to decimal',dec_num)\n"
   ]
  },
  {
   "cell_type": "markdown",
   "id": "b6ca1e4b",
   "metadata": {},
   "source": [
    "[binary conversion logic](https://stackoverflow.com/questions/47318771/converting-binary-to-decimal-in-python-without-built-in-binary-function)"
   ]
  },
  {
   "cell_type": "code",
   "execution_count": 14,
   "id": "528f0f02",
   "metadata": {
    "ExecuteTime": {
     "end_time": "2022-03-20T09:40:38.102868Z",
     "start_time": "2022-03-20T09:40:31.978516Z"
    }
   },
   "outputs": [
    {
     "name": "stdout",
     "output_type": "stream",
     "text": [
      "The first number 2\n",
      "The second number 78\n",
      "The total of two numbers: 80\n"
     ]
    }
   ],
   "source": [
    "#11.receive two integral numbers in string form and compute their sum and then print it in console.\n",
    "A = eval(input('The first number '))\n",
    "B= eval(input('The second number '))\n",
    "print('The total of two numbers:',A+B)"
   ]
  },
  {
   "cell_type": "code",
   "execution_count": 15,
   "id": "cc15dc07",
   "metadata": {
    "ExecuteTime": {
     "end_time": "2022-03-20T09:40:44.832173Z",
     "start_time": "2022-03-20T09:40:38.105465Z"
    }
   },
   "outputs": [
    {
     "name": "stdout",
     "output_type": "stream",
     "text": [
      "first number 2\n",
      "second number 6\n",
      "The bitwise sum is 2.0\n",
      "The bitwise or is 6.0\n",
      "The bitwise xor is 4.0\n",
      "The bitwise not of first number is -3.0 and second number is -7.0\n",
      "The left shift of first number to second number is 128.0\n",
      "The right shift of first number to second number is 0.0\n"
     ]
    }
   ],
   "source": [
    "#12& 13.bitwise operators for any two variable all the bitwise operator that are there\n",
    "a = eval(input('first number '))\n",
    "b = eval(input('second number '))\n",
    "print(f'The bitwise sum is %.1f' %(a&b))\n",
    "print(f'The bitwise or is %.1f' %(a|b))\n",
    "print(f'The bitwise xor is %.1f' %(a^b))\n",
    "print(f'The bitwise not of first number is %.1f and second number is %.1f' %(~a ,~b))\n",
    "print(f'The left shift of first number to second number is %.1f' %(a<<b))\n",
    "print(f'The right shift of first number to second number is %.1f' %(a>>b))\n",
    "\n"
   ]
  },
  {
   "cell_type": "markdown",
   "id": "d3ef208e",
   "metadata": {},
   "source": [
    "[bitwise operater](https://www.youtube.com/watch?v=29LZHk2pgVc)"
   ]
  },
  {
   "cell_type": "code",
   "execution_count": 16,
   "id": "57e01a04",
   "metadata": {
    "ExecuteTime": {
     "end_time": "2022-03-20T09:40:44.842254Z",
     "start_time": "2022-03-20T09:40:44.834865Z"
    }
   },
   "outputs": [
    {
     "name": "stdout",
     "output_type": "stream",
     "text": [
      "* \n",
      "* * \n",
      "* * * \n",
      "* * * * \n",
      "* * * * * \n",
      "* * * * \n",
      "* * * \n",
      "* * \n",
      "* \n",
      "\n",
      "\n",
      "\n",
      "\n"
     ]
    }
   ],
   "source": [
    "#57.construct the given pattern\n",
    "n=5\n",
    "c = '* '\n",
    "counter = 1\n",
    "\n",
    "for i in range(0,n):\n",
    "    print(c*counter)\n",
    "    counter+=1\n",
    "    if counter == n:\n",
    "        print(c*counter)\n",
    "    if counter >=n:\n",
    "        for i in range(0,n):\n",
    "            counter-=1\n",
    "            print(c*counter)\n",
    "print('\\n')"
   ]
  },
  {
   "cell_type": "code",
   "execution_count": 17,
   "id": "280eb620",
   "metadata": {
    "ExecuteTime": {
     "end_time": "2022-03-20T09:40:45.005821Z",
     "start_time": "2022-03-20T09:40:44.845606Z"
    }
   },
   "outputs": [
    {
     "name": "stdout",
     "output_type": "stream",
     "text": [
      "The 'is' word is present at the index position 3\n"
     ]
    }
   ],
   "source": [
    "#14. str1=\" this is a sample daTaa to test for the task\" Check if ‘is’ present in str1\n",
    "str1=\" this is a sample daTaa to test for the task\" \n",
    "position = str1.find('is')\n",
    "print(\"The 'is' word is present at the index position\" , position)\n"
   ]
  },
  {
   "cell_type": "code",
   "execution_count": 18,
   "id": "96a47a83",
   "metadata": {
    "ExecuteTime": {
     "end_time": "2022-03-20T09:40:45.127056Z",
     "start_time": "2022-03-20T09:40:45.009474Z"
    }
   },
   "outputs": [
    {
     "name": "stdout",
     "output_type": "stream",
     "text": [
      "'was' is not present in the given string\n"
     ]
    }
   ],
   "source": [
    "#15. Check if ‘was’ not present in str1\n",
    "str1=\" this is a sample daTaa to test for the task\" \n",
    "if (str1.find('was') != -1):\n",
    "    print(\"'was' is present in the given string\")\n",
    "else:\n",
    "    print(\"'was' is not present in the given string\")"
   ]
  },
  {
   "cell_type": "code",
   "execution_count": 19,
   "id": "5638d910",
   "metadata": {
    "ExecuteTime": {
     "end_time": "2022-03-20T09:40:45.247211Z",
     "start_time": "2022-03-20T09:40:45.129691Z"
    }
   },
   "outputs": [
    {
     "name": "stdout",
     "output_type": "stream",
     "text": [
      "In upper case -  THIS IS A SAMPLE DATAA TO TEST FOR THE TASK\n",
      "title -  This Is A Sample Dataa To Test For The Task\n"
     ]
    },
    {
     "data": {
      "text/plain": [
       "' this is a sample data to test for the task'"
      ]
     },
     "execution_count": 19,
     "metadata": {},
     "output_type": "execute_result"
    }
   ],
   "source": [
    "# 16.& 17 Print str1 in uppercase and as title\n",
    "str1=\" this is a sample daTaa to test for the task\"\n",
    "print('In upper case -',str1.upper())\n",
    "print('title -',str1.title())\n",
    "#. 18 Get a new string from str1 ‘DatTaa’ as ‘Data’\n",
    "str1.replace('daTaa','data',-1)\n"
   ]
  },
  {
   "cell_type": "code",
   "execution_count": 20,
   "id": "74a33e65",
   "metadata": {
    "ExecuteTime": {
     "end_time": "2022-03-20T09:40:45.431886Z",
     "start_time": "2022-03-20T09:40:45.251400Z"
    }
   },
   "outputs": [
    {
     "name": "stdout",
     "output_type": "stream",
     "text": [
      "<re.Match object; span=(16, 22), match='sample'>\n"
     ]
    }
   ],
   "source": [
    "#20. Display ‘sample’ word from ‘ this is another sample string\n",
    "import re\n",
    "str2 = 'this is another sample string'\n",
    "pattern = re.compile(r\"\\bs\\w*e\\b\")\n",
    "print(pattern.search(str2))"
   ]
  },
  {
   "cell_type": "markdown",
   "id": "496b200a",
   "metadata": {},
   "source": [
    "  [display pattern using regex matching](https://www.computerhope.com/issues/ch001721.htm)"
   ]
  },
  {
   "cell_type": "code",
   "execution_count": 21,
   "id": "ac6a969b",
   "metadata": {
    "ExecuteTime": {
     "end_time": "2022-03-20T09:40:45.628495Z",
     "start_time": "2022-03-20T09:40:45.435261Z"
    }
   },
   "outputs": [
    {
     "name": "stdout",
     "output_type": "stream",
     "text": [
      "Today's date  20-Mar-2022\n"
     ]
    }
   ],
   "source": [
    "#21. Display date, month and year form 21-oct-2020\n",
    "from datetime import date\n",
    "today = date.today()\n",
    "ft_date = today.strftime('%d-%b-%Y')\n",
    "print(\"Today's date \",ft_date)"
   ]
  },
  {
   "cell_type": "code",
   "execution_count": 22,
   "id": "8bab614c",
   "metadata": {
    "ExecuteTime": {
     "end_time": "2022-03-20T09:40:45.740027Z",
     "start_time": "2022-03-20T09:40:45.631124Z"
    }
   },
   "outputs": [
    {
     "name": "stdout",
     "output_type": "stream",
     "text": [
      "Using positive indexing  [50, 60]\n",
      "Using negative indexing  [50, 60]\n"
     ]
    }
   ],
   "source": [
    "#22. arr = “10,20,30,40,50,60,70”, get “50,60”\n",
    "arr =[10,20,30,40,50,60,70]\n",
    "print('Using positive indexing ',arr[4:6])\n",
    "#23 . using negative index get \"50 ,60\"\n",
    "print('Using negative indexing ', arr[-3:-1])"
   ]
  },
  {
   "cell_type": "code",
   "execution_count": 23,
   "id": "676775e1",
   "metadata": {
    "ExecuteTime": {
     "end_time": "2022-03-20T09:40:45.850504Z",
     "start_time": "2022-03-20T09:40:45.745925Z"
    }
   },
   "outputs": [
    {
     "name": "stdout",
     "output_type": "stream",
     "text": [
      "<re.Match object; span=(13, 17), match='8888'>\n",
      "0\n"
     ]
    }
   ],
   "source": [
    "#24. From credit_str get ‘8888’ credit_str = \"xxxx----xxxx-8888------xxxx\"\n",
    "credit_str = \"xxxx----xxxx-8888------xxxx\"\n",
    "num = re.compile('8888')\n",
    "print(num.search(credit_str))\n",
    "#25. From credit_str get ‘0’ credit_str = \"1234-5678-9878-0434\"\n",
    "credit_str = \"1234-5678-9878-0434\"\n",
    "print(credit_str[-4])\n"
   ]
  },
  {
   "cell_type": "code",
   "execution_count": 24,
   "id": "45a1a587",
   "metadata": {
    "ExecuteTime": {
     "end_time": "2022-03-20T09:40:45.962361Z",
     "start_time": "2022-03-20T09:40:45.855803Z"
    }
   },
   "outputs": [
    {
     "name": "stdout",
     "output_type": "stream",
     "text": [
      "It is an integer <class 'int'>\n",
      "converting it to string <class 'str'>\n"
     ]
    }
   ],
   "source": [
    "#26. convert a integer into a string and print it in console.\n",
    "a=5\n",
    "print('It is an integer' , type(a))\n",
    "print('converting it to string', type(str(a)))"
   ]
  },
  {
   "cell_type": "code",
   "execution_count": 25,
   "id": "f2de055d",
   "metadata": {
    "ExecuteTime": {
     "end_time": "2022-03-20T09:40:46.134166Z",
     "start_time": "2022-03-20T09:40:45.966311Z"
    }
   },
   "outputs": [
    {
     "name": "stdout",
     "output_type": "stream",
     "text": [
      " Harry potter and the goblet of fire\n"
     ]
    }
   ],
   "source": [
    "#27. take two strings as input and concatenate them and then print it\n",
    "str1 =\" Harry potter\"\n",
    "str2 = \" and the goblet of fire\"\n",
    "new_str = str1 + str2  #concatenate\n",
    "print(new_str)"
   ]
  },
  {
   "cell_type": "code",
   "execution_count": 26,
   "id": "8a1ea9f9",
   "metadata": {
    "ExecuteTime": {
     "end_time": "2022-03-20T09:40:46.383493Z",
     "start_time": "2022-03-20T09:40:46.136917Z"
    }
   },
   "outputs": [
    {
     "name": "stdout",
     "output_type": "stream",
     "text": [
      "['', 'Apples', 'is', 'differnt', 'from', 'Apple', 'Inc']\n"
     ]
    }
   ],
   "source": [
    "#28. convert the given string into list given_string = \" Apples is differnt from Apple Inc\"\n",
    "given_string = \" Apples is differnt from Apple Inc\"\n",
    "print(list(given_string.split(\" \")))"
   ]
  },
  {
   "cell_type": "code",
   "execution_count": 27,
   "id": "8a7cd208",
   "metadata": {
    "ExecuteTime": {
     "end_time": "2022-03-20T09:40:46.504978Z",
     "start_time": "2022-03-20T09:40:46.386410Z"
    }
   },
   "outputs": [
    {
     "name": "stdout",
     "output_type": "stream",
     "text": [
      "<class 'dict'>\n",
      "1\n"
     ]
    }
   ],
   "source": [
    "#29. print type of a and get the 1 element a = {(1,2):1,(2,3):2}\n",
    "a = {(1,2):1,(2,3):2}\n",
    "print(type(a))\n",
    "print(a[(1,2)])"
   ]
  },
  {
   "cell_type": "code",
   "execution_count": 28,
   "id": "2b5f59d5",
   "metadata": {
    "ExecuteTime": {
     "end_time": "2022-03-20T09:40:46.627272Z",
     "start_time": "2022-03-20T09:40:46.507840Z"
    }
   },
   "outputs": [
    {
     "name": "stdout",
     "output_type": "stream",
     "text": [
      "[4, 3, 2]\n"
     ]
    }
   ],
   "source": [
    "#30. write a program to get list as 4,3,2 from the list below a=1,2,3,4,5\n",
    "a=[1,2,3,4,5]\n",
    "b = a[1:4]\n",
    "c = b.reverse()\n",
    "print(b)\n"
   ]
  },
  {
   "cell_type": "code",
   "execution_count": 29,
   "id": "97778286",
   "metadata": {
    "ExecuteTime": {
     "end_time": "2022-03-20T09:40:46.751404Z",
     "start_time": "2022-03-20T09:40:46.630142Z"
    }
   },
   "outputs": [
    {
     "name": "stdout",
     "output_type": "stream",
     "text": [
      "[1, 3, 5, 7]\n"
     ]
    }
   ],
   "source": [
    "#31. write a program to get odd number only using a slicing a=1,2,3,4,5,6,7,8,9\n",
    "a=[1,2,3,4,5,6,7,8,9]\n",
    "b = a[0:-1:2]\n",
    "print(b)\n"
   ]
  },
  {
   "cell_type": "code",
   "execution_count": 30,
   "id": "5a746e6f",
   "metadata": {
    "ExecuteTime": {
     "end_time": "2022-03-20T09:40:46.874299Z",
     "start_time": "2022-03-20T09:40:46.754006Z"
    }
   },
   "outputs": [
    {
     "name": "stdout",
     "output_type": "stream",
     "text": [
      "(1, 2, 1, 2, 1, 2, 1, 2, 1, 2)\n"
     ]
    }
   ],
   "source": [
    "#32. create a tuple with (1,2) 5 times\n",
    "a =(1,2)*5\n",
    "print(a)"
   ]
  },
  {
   "cell_type": "code",
   "execution_count": 31,
   "id": "47c670b7",
   "metadata": {
    "ExecuteTime": {
     "end_time": "2022-03-20T09:40:46.995466Z",
     "start_time": "2022-03-20T09:40:46.876729Z"
    }
   },
   "outputs": [
    {
     "name": "stdout",
     "output_type": "stream",
     "text": [
      "[100, 310.28, 27.0, 1000]\n",
      "['Mobile', 'Laptop', 'Camera', 'Speakers', 'Television', 'Laptop Case', 'Camera Lens']\n"
     ]
    }
   ],
   "source": [
    "#33. from given list create separate lists of strings and numbers.use list comprehension gadgets = \"Mobile\", \"Laptop\", 100, \"Camera\", 310.28, \"Speakers\", 27.00, \"Television\", 1000, \"Laptop Case\", \"Camera Lens\"\n",
    "gadgets =[ \"Mobile\", \"Laptop\", 100, \"Camera\", 310.28, \"Speakers\", 27.00, \"Television\", 1000, \"Laptop Case\", \"Camera Lens\"]\n",
    "only_strings = [x for x in gadgets if type(x) == str]\n",
    "only_number = [x for x in gadgets if type(x) == int or type(x)==float]\n",
    "print(only_number)\n",
    "print(only_strings)"
   ]
  },
  {
   "cell_type": "markdown",
   "id": "6b0dd518",
   "metadata": {},
   "source": [
    "[list comprehension](https://www.w3schools.com/python/python_lists_comprehension.asp)"
   ]
  },
  {
   "cell_type": "code",
   "execution_count": 32,
   "id": "16181820",
   "metadata": {
    "ExecuteTime": {
     "end_time": "2022-03-20T09:40:47.283797Z",
     "start_time": "2022-03-20T09:40:46.998537Z"
    }
   },
   "outputs": [
    {
     "name": "stdout",
     "output_type": "stream",
     "text": [
      "[[1 2 3]\n",
      " [4 5 6]\n",
      " [7 8 9]]\n",
      "The sum of the diagonal elements in the above matrix is:  15\n"
     ]
    }
   ],
   "source": [
    "#34. An array is given from the array find the sum of diagonal using list comprehension a_2d=[1, 2, 3, 4, 5, 6, 7, 8, 9]\n",
    "import numpy as np\n",
    "a_2d=[[1,2,3],[4,5,6],[7,8,9]]\n",
    "a_2d_matrix = np.array(a_2d)\n",
    "print(a_2d_matrix)\n",
    "dia_ele = [a_2d_matrix[i][i] for i in range(len(a_2d_matrix))]\n",
    "print('The sum of the diagonal elements in the above matrix is: ',sum(dia_ele))"
   ]
  },
  {
   "cell_type": "code",
   "execution_count": 33,
   "id": "4d63117e",
   "metadata": {
    "ExecuteTime": {
     "end_time": "2022-03-20T09:40:47.291913Z",
     "start_time": "2022-03-20T09:40:47.286364Z"
    }
   },
   "outputs": [
    {
     "name": "stdout",
     "output_type": "stream",
     "text": [
      "['eight', 'nine', 'seven', 'six', 'five', 'four', 'three', 'two', 'zero', 'one']\n"
     ]
    }
   ],
   "source": [
    "#35. convert number into tuple of words using comprehension num=8976543201\n",
    "num_word = {0:'zero',1:'one',2:'two',3:'three',4:'four',5:'five',6:'six',7:'seven',8:'eight',9:'nine'}\n",
    "num =[8,9,7,6,5,4,3,2,0,1]\n",
    "words = [num_word[n] for n in num]\n",
    "print(words)"
   ]
  },
  {
   "cell_type": "code",
   "execution_count": 34,
   "id": "df0da3df",
   "metadata": {
    "ExecuteTime": {
     "end_time": "2022-03-20T09:40:47.671498Z",
     "start_time": "2022-03-20T09:40:47.295215Z"
    }
   },
   "outputs": [
    {
     "name": "stdout",
     "output_type": "stream",
     "text": [
      "The given matrix is:  [ 1  2  3  4  5  6  7  8  9 10]\n",
      "The required matrix is:  [2, 4, 6, 8]\n"
     ]
    }
   ],
   "source": [
    "#36. print the numbers which are divisible by 2 but are not a multiple of 5 numbers = range(1, 10)\n",
    "a = np.linspace(1,10,dtype=int,num=10)\n",
    "print('The given matrix is: ',a)\n",
    "b = [x for x in a if x%2==0 and x%5!=0]\n",
    "print('The required matrix is: ',b)"
   ]
  },
  {
   "cell_type": "code",
   "execution_count": 35,
   "id": "3ad66cbb",
   "metadata": {
    "ExecuteTime": {
     "end_time": "2022-03-20T09:40:47.680306Z",
     "start_time": "2022-03-20T09:40:47.674141Z"
    }
   },
   "outputs": [
    {
     "name": "stdout",
     "output_type": "stream",
     "text": [
      "[1, 3, 5]\n"
     ]
    }
   ],
   "source": [
    "#37. print the sum of tuple : use comprehension init_tuple = [(0, 1), (1, 2), (2, 3)]\n",
    "init_tuple =[(0,1),(1,2),(2,3)]\n",
    "sum_tuple = [x+y for (x,y) in init_tuple]\n",
    "print(sum_tuple)"
   ]
  },
  {
   "cell_type": "code",
   "execution_count": 36,
   "id": "841ab633",
   "metadata": {
    "ExecuteTime": {
     "end_time": "2022-03-20T09:40:47.804580Z",
     "start_time": "2022-03-20T09:40:47.683701Z"
    }
   },
   "outputs": [
    {
     "name": "stdout",
     "output_type": "stream",
     "text": [
      "[[ 1  2  3]\n",
      " [ 4  5  6]\n",
      " [ 8  9 10]\n",
      " [12 13 14]]\n"
     ]
    }
   ],
   "source": [
    "#38. delete the last coumn from the given 4*4 matrix arr = [[1, 2, 3, 4], [4, 5, 6, 7], [8, 9, 10, 11], [12, 13, 14, 15]]\n",
    "arr = [[1, 2, 3, 4], [4, 5, 6, 7], [8, 9, 10, 11], [12, 13, 14, 15]]\n",
    "pop_ele = [x.pop() for x in arr]\n",
    "arr_mat =np.array(arr)\n",
    "print(arr_mat)"
   ]
  },
  {
   "cell_type": "code",
   "execution_count": 37,
   "id": "f7fb4ebf",
   "metadata": {
    "ExecuteTime": {
     "end_time": "2022-03-20T09:40:47.918455Z",
     "start_time": "2022-03-20T09:40:47.807501Z"
    }
   },
   "outputs": [
    {
     "data": {
      "text/plain": [
       "[('a', 96), ('c', 97), ('b', 98)]"
      ]
     },
     "execution_count": 37,
     "metadata": {},
     "output_type": "execute_result"
    }
   ],
   "source": [
    "#39. get the list of value of dict in sorted way dict = {'c': 97, 'a': 96, 'b': 98}\n",
    "dict1 = {'c': 97, 'a': 96, 'b': 98}\n",
    "[(key, value) for (key, value) in sorted(dict1.items(), key=lambda x: x[1])]"
   ]
  },
  {
   "cell_type": "markdown",
   "id": "6f604b35",
   "metadata": {},
   "source": [
    "[sorting values in dictionary](https://careerkarma.com/blog/python-sort-a-dictionary-by-value/#:~:text=To%20sort%20a%20dictionary%20by%20value%20in%20Python%20you%20can,Dictionaries%20are%20unordered%20data%20structures.)"
   ]
  },
  {
   "cell_type": "code",
   "execution_count": 38,
   "id": "f69f629a",
   "metadata": {
    "ExecuteTime": {
     "end_time": "2022-03-20T09:40:48.038408Z",
     "start_time": "2022-03-20T09:40:47.921197Z"
    }
   },
   "outputs": [
    {
     "name": "stdout",
     "output_type": "stream",
     "text": [
      "C E A\n"
     ]
    }
   ],
   "source": [
    "#40. Creating a Dictionary with Integer Keys and print it\n",
    "mydict ={1:'A',2:'B',3:'C',4:'D',5:'E'}\n",
    "print(mydict[3],mydict[5],mydict[1])"
   ]
  },
  {
   "cell_type": "code",
   "execution_count": 39,
   "id": "f367d1c6",
   "metadata": {
    "ExecuteTime": {
     "end_time": "2022-03-20T09:40:48.178290Z",
     "start_time": "2022-03-20T09:40:48.041192Z"
    }
   },
   "outputs": [
    {
     "name": "stdout",
     "output_type": "stream",
     "text": [
      "3\n",
      "five\n"
     ]
    }
   ],
   "source": [
    "#41. Creating a Dictionary with Mixed keys\n",
    "#46. Add a Nested Key value to nested dictionary Dictionary\n",
    "mydict2 = {1:'A','two':'AB','mylist':[2,5,3,4],'x':{0:'zero',5:'five'}}\n",
    "print(mydict2['mylist'][2])\n",
    "print(mydict2['x'][5])"
   ]
  },
  {
   "cell_type": "code",
   "execution_count": 40,
   "id": "1627442a",
   "metadata": {
    "ExecuteTime": {
     "end_time": "2022-03-20T09:40:48.305695Z",
     "start_time": "2022-03-20T09:40:48.181060Z"
    }
   },
   "outputs": [
    {
     "name": "stdout",
     "output_type": "stream",
     "text": [
      "<class 'dict'>\n"
     ]
    }
   ],
   "source": [
    "#42. Creating an empty Dictionary\n",
    "mydict3 = {}\n",
    "print(type(mydict3))"
   ]
  },
  {
   "cell_type": "code",
   "execution_count": 41,
   "id": "5e434768",
   "metadata": {
    "ExecuteTime": {
     "end_time": "2022-03-20T09:40:48.428171Z",
     "start_time": "2022-03-20T09:40:48.308937Z"
    }
   },
   "outputs": [
    {
     "name": "stdout",
     "output_type": "stream",
     "text": [
      "{'name': 'Harini', 'country': ' Finland', 'adress': '1298 main road'}\n"
     ]
    }
   ],
   "source": [
    "#43 & 44. Creating a Dictionary with dict() method\n",
    "mydict4 = dict(name = 'Harini', country =' Finland', adress = '1298 main road')\n",
    "print(mydict4)"
   ]
  },
  {
   "cell_type": "code",
   "execution_count": 42,
   "id": "4b7ebcf2",
   "metadata": {
    "ExecuteTime": {
     "end_time": "2022-03-20T09:40:48.568449Z",
     "start_time": "2022-03-20T09:40:48.431255Z"
    }
   },
   "outputs": [
    {
     "name": "stdout",
     "output_type": "stream",
     "text": [
      "{1: 'python', 2: 'For', 3: {'A': 'Welcome', 'B': 'To', 'C': 'Python', 'D': 'class'}}\n"
     ]
    }
   ],
   "source": [
    "#45. Creating a Nested Dictionary as shown in the below image {1: 'python', 2: 'For', 3: {'A': 'Welcome', 'B': 'To', 'C': 'Python', 'D': 'class'}}\n",
    "mydict5 = {1: 'python', 2: 'For', 3: {'A': 'Welcome', 'B': 'To', 'C': 'Python', 'D': 'class'}}\n",
    "print(mydict5)"
   ]
  },
  {
   "cell_type": "code",
   "execution_count": 43,
   "id": "7885d256",
   "metadata": {
    "ExecuteTime": {
     "end_time": "2022-03-20T09:40:48.695457Z",
     "start_time": "2022-03-20T09:40:48.571290Z"
    }
   },
   "outputs": [
    {
     "name": "stdout",
     "output_type": "stream",
     "text": [
      "[0 1 2 3 4 6]\n",
      "{0: 0, 1: 1, 2: 4, 3: 9, 4: 16, 6: 36}\n"
     ]
    }
   ],
   "source": [
    "#47. create a dictionary with id:num and value: square for range (0,6) using dict comprehension\n",
    "a= np.linspace(0,6,num=6,dtype=int)\n",
    "print((a))\n",
    "sq_dict = dict([(key,key**2) for key in a])\n",
    "print(sq_dict)"
   ]
  },
  {
   "cell_type": "markdown",
   "id": "92940040",
   "metadata": {},
   "source": [
    "[dict comprehension](https://stackoverflow.com/questions/1747817/create-a-dictionary-with-list-comprehension)"
   ]
  },
  {
   "cell_type": "code",
   "execution_count": 44,
   "id": "84898883",
   "metadata": {
    "ExecuteTime": {
     "end_time": "2022-03-20T09:40:48.879713Z",
     "start_time": "2022-03-20T09:40:48.699134Z"
    }
   },
   "outputs": [
    {
     "name": "stdout",
     "output_type": "stream",
     "text": [
      "{1: 1, 3: 9}\n"
     ]
    }
   ],
   "source": [
    "#48. create a dictionary using dict comprehension to get the odd square only\n",
    "a= np.linspace(0,6,num=6,dtype=int)\n",
    "odd_dict=dict([(key,key**2) for key in a if key%2!=0])\n",
    "print(odd_dict)"
   ]
  },
  {
   "cell_type": "code",
   "execution_count": 45,
   "id": "08456cf7",
   "metadata": {
    "ExecuteTime": {
     "end_time": "2022-03-20T09:40:49.019268Z",
     "start_time": "2022-03-20T09:40:48.882571Z"
    }
   },
   "outputs": [
    {
     "name": "stdout",
     "output_type": "stream",
     "text": [
      "old dict  {1: 'a', 2: 'b', 3: 'c'}\n",
      "new dict  {'a': 1, 'b': 2, 'c': 3}\n"
     ]
    }
   ],
   "source": [
    "#49. from a given dict {1: 'a', 2: 'b', 3: 'c'} change the key into item and viceversa\n",
    "old_dict = {1: 'a', 2: 'b', 3: 'c'}\n",
    "new_dict = dict([(value, key) for key, value in old_dict.items()])\n",
    "print('old dict ',old_dict)\n",
    "print('new dict ', new_dict)"
   ]
  },
  {
   "cell_type": "code",
   "execution_count": 46,
   "id": "f6dcd06a",
   "metadata": {
    "ExecuteTime": {
     "end_time": "2022-03-20T09:40:49.206390Z",
     "start_time": "2022-03-20T09:40:49.021819Z"
    }
   },
   "outputs": [
    {
     "name": "stdout",
     "output_type": "stream",
     "text": [
      "from the dict d : hello\n",
      "from dict d1 : hello\n"
     ]
    }
   ],
   "source": [
    "#50. get a hello from the given dict \n",
    "\n",
    "d = {'k1':[{'nest_key':['this is deep','hello']}]}\n",
    "print('from the dict d :',d['k1'][0]['nest_key'][1])\n",
    "\n",
    "d1 = {'k1':[1,2,{'k2':['this is tricky',{'tough':[1,2,'hello']}]}]}\n",
    "print('from dict d1 :', d1['k1'][2]['k2'][1]['tough'][2])"
   ]
  },
  {
   "cell_type": "code",
   "execution_count": 47,
   "id": "d1bfa914",
   "metadata": {
    "ExecuteTime": {
     "end_time": "2022-03-20T09:42:00.422992Z",
     "start_time": "2022-03-20T09:40:49.208840Z"
    }
   },
   "outputs": [
    {
     "name": "stdout",
     "output_type": "stream",
     "text": [
      "Type the first number56\n",
      "Type the second number7\n",
      "56  is divisible by  7 and the quotient is 8\n"
     ]
    }
   ],
   "source": [
    "#51. Divisibility Check of user given 2 input of numbers\n",
    "number1 = int(input('Type the first number'))\n",
    "number2 = int(input('Type the second number'))\n",
    "if (number1%number2 == 0):\n",
    "    print(number1, ' is divisible by ',number2, 'and the quotient is', int(number1/number2))\n",
    "    \n",
    "else:\n",
    "    print(number1, ' is not divisible by ',number2)"
   ]
  },
  {
   "cell_type": "code",
   "execution_count": 48,
   "id": "ef314a94",
   "metadata": {
    "ExecuteTime": {
     "end_time": "2022-03-20T09:42:06.260467Z",
     "start_time": "2022-03-20T09:42:00.425343Z"
    }
   },
   "outputs": [
    {
     "name": "stdout",
     "output_type": "stream",
     "text": [
      "Type the number4\n",
      "4 is an even number\n"
     ]
    }
   ],
   "source": [
    "#52. Check if number is even or odd\n",
    "no1 = int(input('Type the number'))\n",
    "if (no1%2==0):\n",
    "    print(no1,'is an even number')\n",
    "else:\n",
    "    print('odd number')"
   ]
  },
  {
   "cell_type": "code",
   "execution_count": 49,
   "id": "74eb1e15",
   "metadata": {
    "ExecuteTime": {
     "end_time": "2022-03-20T09:42:17.735675Z",
     "start_time": "2022-03-20T09:42:06.263161Z"
    }
   },
   "outputs": [
    {
     "name": "stdout",
     "output_type": "stream",
     "text": [
      "Enter the character :u\n",
      "It is a vowel\n"
     ]
    }
   ],
   "source": [
    "#53. Check whether Entered character is Vowel or not\n",
    "vowels = ['a','e','i','o','u']\n",
    "user_char = str(input('Enter the character :'))\n",
    "if user_char in vowels:\n",
    "    print('It is a vowel')\n",
    "else:\n",
    "    print('It is a consonaunt')"
   ]
  },
  {
   "cell_type": "code",
   "execution_count": 50,
   "id": "34e3804a",
   "metadata": {
    "ExecuteTime": {
     "end_time": "2022-03-20T09:42:26.593212Z",
     "start_time": "2022-03-20T09:42:17.738059Z"
    }
   },
   "outputs": [
    {
     "name": "stdout",
     "output_type": "stream",
     "text": [
      "enter the number of positive integers 8\n",
      "Sum of n positive Integer till  8  is  36\n"
     ]
    }
   ],
   "source": [
    "#54. calculate Sum of n positive Integer example: Sum of n positive Integer till 2 is 3\n",
    "a=int(input('enter the number of positive integers '))\n",
    "b = [x for x in range(1,a+1)]\n",
    "print('Sum of n positive Integer till ',a,' is ',sum(b))"
   ]
  },
  {
   "cell_type": "code",
   "execution_count": 51,
   "id": "ebae5a89",
   "metadata": {
    "ExecuteTime": {
     "end_time": "2022-03-20T09:42:48.076191Z",
     "start_time": "2022-03-20T09:42:26.634740Z"
    }
   },
   "outputs": [
    {
     "name": "stdout",
     "output_type": "stream",
     "text": [
      "Enter a number :865\n",
      "The digit sum of the number is : 19\n"
     ]
    }
   ],
   "source": [
    "#55. calculate the Digit Sum of a number (eg: 123 print 1+2+3=6)\n",
    "a= list(str(input('Enter a number :')))\n",
    "b = [int(x) for x in a]\n",
    "print('The digit sum of the number is :', sum(b))"
   ]
  },
  {
   "cell_type": "code",
   "execution_count": 52,
   "id": "5cea80a3",
   "metadata": {
    "ExecuteTime": {
     "end_time": "2022-03-20T09:43:52.483182Z",
     "start_time": "2022-03-20T09:42:48.099659Z"
    }
   },
   "outputs": [
    {
     "name": "stdout",
     "output_type": "stream",
     "text": [
      "Enter the string :4th left cross street *165\n",
      "The entered string is:  4th left cross street *165\n",
      "The number of digits is:  4\n",
      "The number of alphabets is:  17\n",
      "The number of special characters is:  5\n"
     ]
    }
   ],
   "source": [
    "#56. Count Numbers, Alphabets, and Special Character from user input string\n",
    "user = input('Enter the string :')\n",
    "numbers=0\n",
    "alphabets=0\n",
    "spl_char =0\n",
    "for i in range(len(user)):\n",
    "    if user[i].isdigit():\n",
    "        numbers+=1\n",
    "    elif user[i].isalpha():\n",
    "        alphabets+=1\n",
    "    else:\n",
    "        spl_char+=1\n",
    "print('The entered string is: ',user)\n",
    "print('The number of digits is: ',numbers)\n",
    "print('The number of alphabets is: ',alphabets)\n",
    "print('The number of special characters is: ',spl_char)"
   ]
  },
  {
   "cell_type": "code",
   "execution_count": 53,
   "id": "832aa39a",
   "metadata": {
    "ExecuteTime": {
     "end_time": "2022-03-20T09:43:52.491789Z",
     "start_time": "2022-03-20T09:43:52.485598Z"
    }
   },
   "outputs": [
    {
     "data": {
      "text/plain": [
       "4"
      ]
     },
     "execution_count": 53,
     "metadata": {},
     "output_type": "execute_result"
    }
   ],
   "source": [
    "#58. Count number of characters in a string eg : {'h': 1, 'e': 1, 'l': 2, 'o': 1}\n",
    "input_dict = {'h': 1, 'e': 1, 'l': 2, 'o': 1}\n",
    "len(input_dict.keys())"
   ]
  },
  {
   "cell_type": "code",
   "execution_count": 54,
   "id": "afca5cd9",
   "metadata": {
    "ExecuteTime": {
     "end_time": "2022-03-20T09:43:52.656171Z",
     "start_time": "2022-03-20T09:43:52.495986Z"
    }
   },
   "outputs": [
    {
     "name": "stdout",
     "output_type": "stream",
     "text": [
      "Divide by zero error occured\n"
     ]
    }
   ],
   "source": [
    "#59. write a program to compute 5/0 using try except\n",
    "try:\n",
    "    print(5/0)\n",
    "except:\n",
    "    print('Divide by zero error occured')"
   ]
  },
  {
   "cell_type": "code",
   "execution_count": 55,
   "id": "98be63ea",
   "metadata": {
    "ExecuteTime": {
     "end_time": "2022-03-20T09:43:52.778261Z",
     "start_time": "2022-03-20T09:43:52.659176Z"
    }
   },
   "outputs": [
    {
     "name": "stdout",
     "output_type": "stream",
     "text": [
      "Cannot perform squares with a string\n"
     ]
    }
   ],
   "source": [
    "#60. Handle the exception thrown by the code below by using try and except blocks. li=[\"hello\",\"class\"] for i in li: print (i**2)\n",
    "li =['hello','class']\n",
    "try:\n",
    "    for i in range(len(li)):\n",
    "        print(li[i]**2)\n",
    "except:\n",
    "    print('Cannot perform squares with a string')"
   ]
  },
  {
   "cell_type": "code",
   "execution_count": 56,
   "id": "362bad5a",
   "metadata": {
    "ExecuteTime": {
     "end_time": "2022-03-20T09:45:05.670332Z",
     "start_time": "2022-03-20T09:43:52.782355Z"
    }
   },
   "outputs": [
    {
     "name": "stdout",
     "output_type": "stream",
     "text": [
      "Input an integer: 7\n",
      "Thank you, you're number squared is:  49.0\n"
     ]
    }
   ],
   "source": [
    "#61. Write a function that asks for an integer and prints the square of it. Use a while loop with a try,except, else block to account for incorrect inputs.\n",
    "#example: Input an integer: null An error occurred! Please try again! Input an integer: 2 Thank you, you number squared is: 4\n",
    "def squares_of_num(x):\n",
    "        try:\n",
    "            return x**2\n",
    "        except:\n",
    "            print('An error occurred! Please try again!')\n",
    "            \n",
    "    \n",
    "try:\n",
    "    a = float(input(\"Input an integer: \"))\n",
    "    print(\"Thank you, you're number squared is: \", squares_of_num(a))\n",
    "            \n",
    "    \n",
    "except:\n",
    "    print('An error occurred! Please try again!')\n",
    "    \n",
    "\n",
    "\n",
    "\n",
    "            "
   ]
  },
  {
   "cell_type": "code",
   "execution_count": 57,
   "id": "47792f48",
   "metadata": {
    "ExecuteTime": {
     "end_time": "2022-03-20T09:45:28.692085Z",
     "start_time": "2022-03-20T09:45:05.672912Z"
    }
   },
   "outputs": [
    {
     "name": "stdout",
     "output_type": "stream",
     "text": [
      "Enter a stringapple 7yellow\n",
      "The digits are:  ['7']\n"
     ]
    }
   ],
   "source": [
    "#62. Accept the String and print the words composed of digits only\n",
    "sentence = input('Enter a string')\n",
    "digit =[]\n",
    "for i in range(len(sentence)):\n",
    "    if (sentence[i].isdigit()):\n",
    "        digit.append(sentence[i])\n",
    "\n",
    "if digit!=0:\n",
    "    print('The digits are: ',digit)\n",
    "else:\n",
    "    print('There are no digits in the string')\n",
    "        "
   ]
  },
  {
   "cell_type": "code",
   "execution_count": 58,
   "id": "b8e5784d",
   "metadata": {
    "ExecuteTime": {
     "end_time": "2022-03-20T09:45:28.701421Z",
     "start_time": "2022-03-20T09:45:28.695133Z"
    }
   },
   "outputs": [
    {
     "name": "stdout",
     "output_type": "stream",
     "text": [
      "The parity outlier is : 2\n"
     ]
    }
   ],
   "source": [
    "#63. find the parity outlier from the given sequence use list comprehension seq=1,2,3,5,7\n",
    "seq=[1,2,3,5,7]\n",
    "\n",
    "even=[x for x in seq if x%2==0]\n",
    "odd =[x for x in seq if x%2!=0]\n",
    "\n",
    "if (len(even)<len(odd)):\n",
    "    print('The parity outlier is :',even[0])\n",
    "else:\n",
    "    print('The parity outlier is :',odd[0])"
   ]
  },
  {
   "cell_type": "code",
   "execution_count": 59,
   "id": "13afe85f",
   "metadata": {
    "ExecuteTime": {
     "end_time": "2022-03-20T09:45:28.849278Z",
     "start_time": "2022-03-20T09:45:28.704224Z"
    }
   },
   "outputs": [
    {
     "name": "stdout",
     "output_type": "stream",
     "text": [
      "GCAAT\n"
     ]
    }
   ],
   "source": [
    "#64. \n",
    "def complement(dna):\n",
    "    '''a function to find the complement of the DNA sequence'''\n",
    "    definition = {'A':'T','T':'A','C':'G','G':'C'}\n",
    "    return ''.join([definition[i] for i in dna[::-1]])\n",
    "\n",
    "print(complement(\"ATTGC\"))\n",
    "\n",
    "#dictionary is used within the list comprehension. \n"
   ]
  },
  {
   "cell_type": "code",
   "execution_count": 60,
   "id": "d35854e7",
   "metadata": {
    "ExecuteTime": {
     "end_time": "2022-03-20T09:45:29.050515Z",
     "start_time": "2022-03-20T09:45:28.851975Z"
    }
   },
   "outputs": [
    {
     "data": {
      "text/plain": [
       "'a function to find the complement of the DNA sequence'"
      ]
     },
     "execution_count": 60,
     "metadata": {},
     "output_type": "execute_result"
    }
   ],
   "source": [
    "complement.__doc__"
   ]
  },
  {
   "cell_type": "code",
   "execution_count": 61,
   "id": "11c3a343",
   "metadata": {
    "ExecuteTime": {
     "end_time": "2022-03-20T09:46:11.326816Z",
     "start_time": "2022-03-20T09:45:29.053865Z"
    }
   },
   "outputs": [
    {
     "name": "stdout",
     "output_type": "stream",
     "text": [
      "Enter a number to find the factorial6\n",
      "The factorial of  6 is 720\n"
     ]
    }
   ],
   "source": [
    "#65. Write a program that inputs a number from the user and displays the factorial of that number using while loop.\n",
    "user_num = int(input(\"Enter a number to find the factorial\"))\n",
    "counter=user_num\n",
    "factorial =1\n",
    "while counter>0:\n",
    "    factorial=factorial*counter\n",
    "    counter-=1\n",
    "    \n",
    "print('The factorial of ', user_num, 'is', factorial)\n",
    "    "
   ]
  },
  {
   "cell_type": "code",
   "execution_count": 62,
   "id": "872fafe5",
   "metadata": {
    "ExecuteTime": {
     "end_time": "2022-03-20T09:46:17.388552Z",
     "start_time": "2022-03-20T09:46:11.329381Z"
    }
   },
   "outputs": [
    {
     "name": "stdout",
     "output_type": "stream",
     "text": [
      "Enter a number between 1 and 4 :3\n",
      "Your chosen color is : Orange\n"
     ]
    }
   ],
   "source": [
    "#66. Ask the user for a number,to pick the color from the list print the color. color= Blue, Green, Orange, Red\n",
    "try:\n",
    "    color = ['Blue','Green','Orange','Red']\n",
    "    response = int(input('Enter a number between 1 and 4 :'))\n",
    "    print('Your chosen color is :',color[response-1])\n",
    "except:\n",
    "    print('Enter a valid input between 1 and 4')"
   ]
  },
  {
   "cell_type": "code",
   "execution_count": 63,
   "id": "c1a5fb9e",
   "metadata": {
    "ExecuteTime": {
     "end_time": "2022-03-20T09:46:33.655796Z",
     "start_time": "2022-03-20T09:46:17.391252Z"
    }
   },
   "outputs": [
    {
     "name": "stdout",
     "output_type": "stream",
     "text": [
      "Enter a number5\n",
      "Enter the number of steps7\n",
      "The outcome is : 97655\n"
     ]
    }
   ],
   "source": [
    "#67. Write a program that computes the value of a+aa+aaa+aaaa with a given digit as the value of a.\n",
    "a = int(input(\"Enter a number\"))\n",
    "steps = int(input(\"Enter the number of steps\"))\n",
    "result=0\n",
    "counter = 1\n",
    "while counter<=steps:\n",
    "    result = result + a**counter\n",
    "    counter+=1\n",
    "\n",
    "print(\"The outcome is :\",result)"
   ]
  },
  {
   "cell_type": "code",
   "execution_count": 69,
   "id": "c0cbff50",
   "metadata": {
    "ExecuteTime": {
     "end_time": "2022-03-21T10:12:38.712661Z",
     "start_time": "2022-03-21T10:12:33.424716Z"
    }
   },
   "outputs": [
    {
     "name": "stdout",
     "output_type": "stream",
     "text": [
      "Enter the values3,5,6,3,7\n",
      "Entered list is :  3,5,6,3,7\n"
     ]
    }
   ],
   "source": [
    "#68. write a program that lets user to input the value seperate by \",\" and create a list from it using list comprehension\n",
    "#count = int(input('How many values in the list'))\n",
    "\n",
    "\n",
    "list=[]\n",
    "user_value=[]\n",
    "user_value = input('Enter the values')\n",
    "list=''.join([x for x in user_value])\n",
    "print('Entered list is : ',list)"
   ]
  },
  {
   "cell_type": "code",
   "execution_count": null,
   "id": "c56c18e6",
   "metadata": {},
   "outputs": [],
   "source": []
  },
  {
   "cell_type": "code",
   "execution_count": 65,
   "id": "245ffc8d",
   "metadata": {
    "ExecuteTime": {
     "end_time": "2022-03-20T09:48:19.591348Z",
     "start_time": "2022-03-20T09:47:12.468993Z"
    }
   },
   "outputs": [
    {
     "name": "stdout",
     "output_type": "stream",
     "text": [
      "Enter the values separated by comma :100,150,180\n",
      "[18, 22, 24]\n"
     ]
    }
   ],
   "source": [
    "#69. Write a program that calculates and prints the value according to the given formula: Q = Square root of (2 C D)/H given, c=50 h=30 D is the variable whose values should be input to your program in a comma-separated sequence. Example 100,150,180 The output : 18,22,24\n",
    "\n",
    "d =[int(x) for x in input('Enter the values separated by comma :').split(',')]\n",
    "#print(type(d))\n",
    "\n",
    "result=[]\n",
    "\n",
    "for i in range(len(d)):\n",
    "    Q = math.sqrt((2*50*d[i])/30)\n",
    "    result.append(int(Q))\n",
    "\n",
    "print(result)"
   ]
  },
  {
   "cell_type": "code",
   "execution_count": 70,
   "id": "09adf30f",
   "metadata": {
    "ExecuteTime": {
     "end_time": "2022-03-21T10:14:49.638844Z",
     "start_time": "2022-03-21T10:14:00.868543Z"
    }
   },
   "outputs": [
    {
     "name": "stdout",
     "output_type": "stream",
     "text": [
      "Enter the words separated by space: apple pie pudding cream pastry pie cream\n",
      "['apple', 'cream', 'pastry', 'pie', 'pudding']\n"
     ]
    }
   ],
   "source": [
    "#70. Write a program that accepts a sequence of whitespace separated words as input and prints the words after removing all duplicate words and sorting them alphanumerically.\n",
    "\n",
    "user_strings = [str(x) for x in input(\"Enter the words separated by space: \").split()]\n",
    "final_string = set(user_strings)\n",
    "print(sorted(final_string))"
   ]
  },
  {
   "cell_type": "code",
   "execution_count": 72,
   "id": "27e36be6",
   "metadata": {
    "ExecuteTime": {
     "end_time": "2022-03-21T10:16:19.034796Z",
     "start_time": "2022-03-21T10:16:08.058613Z"
    }
   },
   "outputs": [
    {
     "name": "stdout",
     "output_type": "stream",
     "text": [
      "enter the binary numbers separated by comma: 101,100,110,001\n",
      "The binary number divisible by 5 is :  ['101']\n"
     ]
    }
   ],
   "source": [
    "#71. Write a program which accepts a sequence of comma separated 4 digit binary numbers and then check whether they are divisible by 5 or not. print the number Example: 0100,0011,1010,1001 Then the output should be: 1010\n",
    "bin_input =[int(x,2) for x in input(\"enter the binary numbers separated by comma: \").split(',')]\n",
    "div_by_5 = [int(x) for x in bin_input if x%5==0]\n",
    "output = [bin(x)[2:] for x in div_by_5]\n",
    "print('The binary number divisible by 5 is : ',output)"
   ]
  },
  {
   "cell_type": "code",
   "execution_count": 73,
   "id": "93d60d4e",
   "metadata": {
    "ExecuteTime": {
     "end_time": "2022-03-21T10:16:25.676833Z",
     "start_time": "2022-03-21T10:16:25.671295Z"
    }
   },
   "outputs": [
    {
     "name": "stdout",
     "output_type": "stream",
     "text": [
      "[2, 4, 6, 8, 10]\n"
     ]
    }
   ],
   "source": [
    "#72. By using list comprehension, please write a program to print the list after removing the even index numbers li=range(10)\n",
    "li = [1,2,3,4,5,6,7,8,9,10]\n",
    "updated_li =[x for x in li if li.index(x)%2!=0]\n",
    "print(updated_li)"
   ]
  },
  {
   "cell_type": "code",
   "execution_count": 74,
   "id": "d551da45",
   "metadata": {
    "ExecuteTime": {
     "end_time": "2022-03-21T10:16:31.627383Z",
     "start_time": "2022-03-21T10:16:31.621156Z"
    }
   },
   "outputs": [
    {
     "name": "stdout",
     "output_type": "stream",
     "text": [
      "12\n",
      "18\n",
      "7\n"
     ]
    }
   ],
   "source": [
    "#73. write a function to get the sum of two num(use lambda)\n",
    "c = lambda a,b:a+b\n",
    "print(c(8,4))\n",
    "print(c(12,6))\n",
    "print(c(0,7))\n"
   ]
  },
  {
   "cell_type": "code",
   "execution_count": 75,
   "id": "b2179a6e",
   "metadata": {
    "ExecuteTime": {
     "end_time": "2022-03-21T10:16:38.404602Z",
     "start_time": "2022-03-21T10:16:35.638832Z"
    }
   },
   "outputs": [
    {
     "name": "stdout",
     "output_type": "stream",
     "text": [
      "Enter the year: 2004\n",
      "It is  leap year\n"
     ]
    }
   ],
   "source": [
    "#74. write a function to print if leap year or not\n",
    "def leap_year(x):\n",
    "    if(x%4==0):\n",
    "        return 'leap year'\n",
    "    else:\n",
    "        return 'not a leap year'\n",
    "    \n",
    "year = int(input('Enter the year: '))\n",
    "print('It is ', leap_year(year))\n",
    "    \n",
    "    "
   ]
  },
  {
   "cell_type": "code",
   "execution_count": 76,
   "id": "0b453f8a",
   "metadata": {
    "ExecuteTime": {
     "end_time": "2022-03-21T10:19:16.552582Z",
     "start_time": "2022-03-21T10:17:09.356657Z"
    }
   },
   "outputs": [
    {
     "name": "stdout",
     "output_type": "stream",
     "text": [
      "Enter a binary number110011010\n",
      "the number of bits (1) in the given binary number is:  5\n"
     ]
    }
   ],
   "source": [
    "#75. write a function to count a bit(number of 1) in number (use lambda)\n",
    "\n",
    "number = input('Enter a binary number')\n",
    "count = lambda number:number.count('1')\n",
    "print('the number of bits (1) in the given binary number is: ',count(number))"
   ]
  },
  {
   "cell_type": "code",
   "execution_count": 77,
   "id": "b84fe05f",
   "metadata": {
    "ExecuteTime": {
     "end_time": "2022-03-21T10:19:24.917040Z",
     "start_time": "2022-03-21T10:19:19.771241Z"
    }
   },
   "outputs": [
    {
     "name": "stdout",
     "output_type": "stream",
     "text": [
      "Enter the radius2.4\n",
      "The area of circle is: 18.10 cm2\n"
     ]
    }
   ],
   "source": [
    "#76. write a program to get the area of a circle from the radius (use lambda)\n",
    "radius = float(input('Enter the radius'))\n",
    "area = lambda radius:math.pi*(radius**2)\n",
    "print(f'The area of circle is: %.2f'%area(radius),'cm2')"
   ]
  },
  {
   "cell_type": "code",
   "execution_count": 78,
   "id": "333aa833",
   "metadata": {
    "ExecuteTime": {
     "end_time": "2022-03-21T10:19:36.442202Z",
     "start_time": "2022-03-21T10:19:33.663423Z"
    }
   },
   "outputs": [
    {
     "name": "stdout",
     "output_type": "stream",
     "text": [
      "Enter a number: 6\n",
      "The factorial is  720\n"
     ]
    }
   ],
   "source": [
    "#77. write a function to get the factorial of given number use recurssion\n",
    "def recursive(num):\n",
    "    if num==1:\n",
    "        return num\n",
    "    else:\n",
    "        return num*recursive(num-1)\n",
    "\n",
    "num = int(input('Enter a number: '))\n",
    "print('The factorial is ',recursive(num))"
   ]
  },
  {
   "cell_type": "code",
   "execution_count": 79,
   "id": "39ff5a26",
   "metadata": {
    "ExecuteTime": {
     "end_time": "2022-03-21T10:20:02.291807Z",
     "start_time": "2022-03-21T10:19:44.246010Z"
    }
   },
   "outputs": [
    {
     "name": "stdout",
     "output_type": "stream",
     "text": [
      "Enter the sentence: I am going to espoo espoo in helsinki\n",
      "{'espoo', 'am', 'going', 'to', 'helsinki', 'in', 'I'}\n"
     ]
    }
   ],
   "source": [
    "#78. write a program to remove a duplicate word in a list or user input sentences.\n",
    "user_str = [str(x) for x in input(\"Enter the sentence: \").split()]\n",
    "final_str = set(user_str)\n",
    "print(final_str)"
   ]
  },
  {
   "cell_type": "code",
   "execution_count": 80,
   "id": "63273b7f",
   "metadata": {
    "ExecuteTime": {
     "end_time": "2022-03-21T10:20:16.122696Z",
     "start_time": "2022-03-21T10:20:09.142360Z"
    }
   },
   "outputs": [
    {
     "name": "stdout",
     "output_type": "stream",
     "text": [
      "Enter the no of terms: 10\n",
      "Fibonnacci series:\n",
      "0\n",
      "1\n",
      "1\n",
      "2\n",
      "3\n",
      "5\n",
      "8\n",
      "13\n",
      "21\n",
      "34\n"
     ]
    }
   ],
   "source": [
    "#79. calculate fibonacci\n",
    "n1 = 0\n",
    "n2 = 1\n",
    "count = 0\n",
    "num = int(input('Enter the no of terms: '))\n",
    "if num<=0:\n",
    "    print('Enter a positive number')\n",
    "elif (num==1):\n",
    "    print('the result is ', num)\n",
    "else:\n",
    "    print('Fibonnacci series:')\n",
    "    #print(n1)\n",
    "    #print(n2)\n",
    "    while count<num:\n",
    "            print(n1)\n",
    "            nth = n1+n2\n",
    "        #print(nth)\n",
    "            n1=n2\n",
    "            n2=nth\n",
    "            count+=1\n",
    "        \n",
    "        "
   ]
  },
  {
   "cell_type": "code",
   "execution_count": 81,
   "id": "0228bf2b",
   "metadata": {
    "ExecuteTime": {
     "end_time": "2022-03-21T10:20:21.844811Z",
     "start_time": "2022-03-21T10:20:21.835310Z"
    }
   },
   "outputs": [
    {
     "name": "stdout",
     "output_type": "stream",
     "text": [
      "possible permutations are :\n",
      "(1, 5)\n",
      "(1, 4)\n",
      "(1, 3)\n",
      "(5, 1)\n",
      "(5, 4)\n",
      "(5, 3)\n",
      "(4, 1)\n",
      "(4, 5)\n",
      "(4, 3)\n",
      "(3, 1)\n",
      "(3, 5)\n",
      "(3, 4)\n",
      "possible combinations are :\n",
      "(1, 5)\n",
      "(1, 4)\n",
      "(1, 3)\n",
      "(5, 4)\n",
      "(5, 3)\n",
      "(4, 3)\n"
     ]
    }
   ],
   "source": [
    "#80. write a function to get the premutation and combination\n",
    "import itertools\n",
    "a = [1,5,4,3]\n",
    "permut = itertools.permutations(a,2)\n",
    "print('possible permutations are :')\n",
    "for item in permut:\n",
    "    print(item)\n",
    "    \n",
    "combi = itertools.combinations(a,2)\n",
    "print('possible combinations are :')\n",
    "for item in combi:\n",
    "    print(item)\n",
    "    \n"
   ]
  },
  {
   "cell_type": "code",
   "execution_count": 82,
   "id": "647b049b",
   "metadata": {
    "ExecuteTime": {
     "end_time": "2022-03-21T10:20:32.545127Z",
     "start_time": "2022-03-21T10:20:29.757602Z"
    }
   },
   "outputs": [
    {
     "name": "stdout",
     "output_type": "stream",
     "text": [
      "Enter the height of the diamond 10\n",
      "           *\n",
      "          ***\n",
      "         *****\n",
      "        *******\n",
      "       *********\n",
      "      ***********\n",
      "     *************\n",
      "    ***************\n",
      "   *****************\n",
      "  *******************\n",
      "   *****************\n",
      "    ***************\n",
      "     *************\n",
      "      ***********\n",
      "       *********\n",
      "        *******\n",
      "         *****\n",
      "          ***\n",
      "           *\n"
     ]
    }
   ],
   "source": [
    "#81. write a function to draw a diamond shape from a user given number: hint: only odd number can draw a diamond shape\n",
    "h = int(input('Enter the height of the diamond '))\n",
    "for x in range(h):\n",
    "    print(' '*(h-x),'*'*((2*x)+1))\n",
    "for x in range(h-2,-1,-1):\n",
    "    print(' '*(h-x),'*'*((2*x)+1))\n"
   ]
  },
  {
   "cell_type": "markdown",
   "id": "4a400d51",
   "metadata": {},
   "source": [
    "[diamond printing in python](https://www.codingem.com/diamond-pattern-in-python-using-for-loop/)"
   ]
  },
  {
   "cell_type": "code",
   "execution_count": 83,
   "id": "a625e421",
   "metadata": {
    "ExecuteTime": {
     "end_time": "2022-03-21T10:20:54.584307Z",
     "start_time": "2022-03-21T10:20:43.393691Z"
    },
    "scrolled": true
   },
   "outputs": [
    {
     "name": "stdout",
     "output_type": "stream",
     "text": [
      "Enter two values separated by comma: 4,6\n",
      " Enter your choice: add -1,sub-2,product-3,division-4: 4\n",
      "The operation chosen is  4  and the result is  0.6666666666666666\n"
     ]
    }
   ],
   "source": [
    "#82. build a simple calculator which can: add subtract multiply divide\n",
    "\n",
    "try:\n",
    "    def calculator(a,b,response):\n",
    "        if response==1:\n",
    "            return a+b\n",
    "        elif response==2:\n",
    "            return a-b\n",
    "        elif response==3:\n",
    "            return a*b\n",
    "        else:\n",
    "            return a/b\n",
    "\n",
    "    \n",
    "    a,b = map(float, input(\"Enter two values separated by comma: \").split(','))\n",
    "    response = int(input(\" Enter your choice: add -1,sub-2,product-3,division-4: \"))\n",
    "    print(\"The operation chosen is \", response,\" and the result is \",calculator(a,b,response))\n",
    "\n",
    "except ZeroDivisionError:\n",
    "    print(\"division by zero. Enter non zero values\")\n",
    "       "
   ]
  },
  {
   "cell_type": "code",
   "execution_count": 84,
   "id": "b7b0f112",
   "metadata": {
    "ExecuteTime": {
     "end_time": "2022-03-21T10:21:31.100855Z",
     "start_time": "2022-03-21T10:21:23.279579Z"
    }
   },
   "outputs": [
    {
     "name": "stdout",
     "output_type": "stream",
     "text": [
      "enter the string to be rotatedHARINI\n",
      "HARINI\n",
      "ARINIH\n",
      "RINIHA\n",
      "INIHAR\n",
      "NIHARI\n",
      "IHARIN\n"
     ]
    }
   ],
   "source": [
    "#83. define a function which can print a given string in a circular rotation\n",
    "\n",
    "\n",
    "def circular(s):\n",
    "     for i in range(len(s)):\n",
    "            rot = s[i:]+s[:i]\n",
    "            print(rot)\n",
    "            \n",
    "\n",
    "instring = input('enter the string to be rotated')\n",
    "#print(instring)\n",
    "circular(instring)            \n",
    "        "
   ]
  },
  {
   "cell_type": "code",
   "execution_count": 85,
   "id": "72cf2fae",
   "metadata": {
    "ExecuteTime": {
     "end_time": "2022-03-21T10:21:39.432958Z",
     "start_time": "2022-03-21T10:21:39.421715Z"
    }
   },
   "outputs": [
    {
     "data": {
      "text/plain": [
       "2"
      ]
     },
     "execution_count": 85,
     "metadata": {},
     "output_type": "execute_result"
    }
   ],
   "source": [
    "#84. write a function to calculate the GCD of 2 number\n",
    "\n",
    "a_div=[]\n",
    "b_div=[]\n",
    "def GCD(a,b):\n",
    "    for i in range(1,a+1):\n",
    "        if (a%i==0):\n",
    "            a_div.append(i)\n",
    "    for i in range(1,b+1):\n",
    "        if(b%i==0):\n",
    "            b_div.append(i)\n",
    "    return max((set(a_div).intersection(set(b_div))))\n",
    "\n",
    "GCD(6,10)"
   ]
  },
  {
   "cell_type": "code",
   "execution_count": 86,
   "id": "6f6bca8d",
   "metadata": {
    "ExecuteTime": {
     "end_time": "2022-03-21T10:22:38.493484Z",
     "start_time": "2022-03-21T10:22:26.440665Z"
    }
   },
   "outputs": [
    {
     "name": "stdout",
     "output_type": "stream",
     "text": [
      "Enter a stringPack my box with five dozen liquor jugs\n",
      "Entering function....\n",
      "All the alphabets are found in the string\n"
     ]
    },
    {
     "data": {
      "text/plain": [
       "'String is a pangram'"
      ]
     },
     "execution_count": 86,
     "metadata": {},
     "output_type": "execute_result"
    }
   ],
   "source": [
    "#85. Write a Python function to check whether a string is pangram or not.\n",
    "import string\n",
    "a =set()\n",
    "s = set(string.ascii_lowercase)\n",
    "def pangram(sent):\n",
    "    print('Entering function....')\n",
    "    for i in range(len(sent)):\n",
    "        if sent[i].lower() in s:\n",
    "            a.add(sent[i].lower())   \n",
    "    if len(a) == len(s):\n",
    "        print('All the alphabets are found in the string')\n",
    "        return 'String is a pangram'\n",
    "    else:\n",
    "        return 'String is not a pangram'\n",
    "        \n",
    "\n",
    "        \n",
    "strng = input('Enter a string')\n",
    "pangram(strng)\n",
    "\n",
    "\n",
    "#Pack my box with five dozen liquor jugs\n",
    "# A quick brown fox jumps over the lazy cat"
   ]
  },
  {
   "cell_type": "code",
   "execution_count": 87,
   "id": "38868cea",
   "metadata": {
    "ExecuteTime": {
     "end_time": "2022-03-21T10:22:46.029351Z",
     "start_time": "2022-03-21T10:22:46.017192Z"
    }
   },
   "outputs": [
    {
     "name": "stdout",
     "output_type": "stream",
     "text": [
      "The index values whose sum is equal to target 10  is  3 4\n",
      "The index values whose sum is equal to target 11  is  1 4\n",
      "The index values whose sum is equal to target 15  is  2 3\n"
     ]
    }
   ],
   "source": [
    "#86. write a function which take a list of number and target where target is number . print the index from the list where the sum of the index value is equal to that of the target\n",
    "def simple(lst,target):\n",
    "    n = len(lst)\n",
    "    for first in range(n):\n",
    "        for scnd in range(first+1,n):\n",
    "            if (lst[first]+lst[scnd] == target):\n",
    "                print('The index values whose sum is equal to target',target,' is ',first,scnd)\n",
    "\n",
    "simple([1,2,5,6,4],10)\n",
    "simple([2,4,2,6,7],11)\n",
    "simple([5,3,7,8,4,5],15)\n",
    "        "
   ]
  },
  {
   "cell_type": "code",
   "execution_count": 88,
   "id": "800ef281",
   "metadata": {
    "ExecuteTime": {
     "end_time": "2022-03-21T10:23:06.858086Z",
     "start_time": "2022-03-21T10:22:59.226623Z"
    }
   },
   "outputs": [
    {
     "name": "stdout",
     "output_type": "stream",
     "text": [
      "Enter 2 numbers separated by comma54,24\n",
      "The LCM of 54 and 24 is 216.0\n"
     ]
    }
   ],
   "source": [
    "#87. write a function to calculate the LCM of a 2 number lcm of 54 and 24 is 216\n",
    "num1,num2= map(int,input('Enter 2 numbers separated by comma').split(','))\n",
    "\n",
    "def LCM(n1,n2):\n",
    "    return ((n1*n2)/GCD(n1,n2))\n",
    "\n",
    "print(f'The LCM of {num1} and {num2} is' ,LCM(num1,num2))\n",
    "#GCD(6,10)"
   ]
  },
  {
   "cell_type": "code",
   "execution_count": 89,
   "id": "e5ae404c",
   "metadata": {
    "ExecuteTime": {
     "end_time": "2022-03-21T10:24:38.649570Z",
     "start_time": "2022-03-21T10:24:22.125928Z"
    }
   },
   "outputs": [
    {
     "name": "stdout",
     "output_type": "stream",
     "text": [
      "Enter a number to find its prime factors60\n",
      "The prime factors of 60 is:  [2, 2, 3, 5]\n"
     ]
    }
   ],
   "source": [
    "#88. write a function that gives the prime factor only\n",
    "\n",
    "factors=[]\n",
    "#a=num\n",
    "def prime_factor(a):\n",
    "    prime=2\n",
    "    #a=num\n",
    "    while(a>1):\n",
    "        #print(a)\n",
    "        if(a%prime==0):\n",
    "            factors.append(prime)\n",
    "            a=a/prime\n",
    "            #print (factors)\n",
    "        else:\n",
    "            prime+=1\n",
    "            \n",
    "    return factors\n",
    "\n",
    "num = int(input('Enter a number to find its prime factors'))\n",
    "print(f'The prime factors of {num} is: ',prime_factor(num))\n",
    "            \n",
    "        \n",
    "        \n",
    "    "
   ]
  },
  {
   "cell_type": "code",
   "execution_count": 90,
   "id": "4ba4ecb4",
   "metadata": {
    "ExecuteTime": {
     "end_time": "2022-03-21T10:25:14.052614Z",
     "start_time": "2022-03-21T10:25:14.043006Z"
    }
   },
   "outputs": [
    {
     "data": {
      "text/plain": [
       "'n'"
      ]
     },
     "execution_count": 90,
     "metadata": {},
     "output_type": "execute_result"
    }
   ],
   "source": [
    "#89. write a function that print the first non repeating letter\n",
    "def firstNonRepeatingChar(str1):\n",
    "    char_order = []\n",
    "    counts = {}\n",
    "    for c in str1:\n",
    "        if c in counts:\n",
    "            counts[c] += 1\n",
    "        else:\n",
    "            counts[c] = 1\n",
    "            char_order.append(c)\n",
    "    for c in char_order:\n",
    "        if counts[c] == 1:\n",
    "            return c\n",
    "    return None\n",
    "\n",
    "firstNonRepeatingChar('shesellsseashellsontheseashore')"
   ]
  },
  {
   "cell_type": "code",
   "execution_count": 91,
   "id": "1cded9b3",
   "metadata": {
    "ExecuteTime": {
     "end_time": "2022-03-21T10:25:31.011045Z",
     "start_time": "2022-03-21T10:25:22.082930Z"
    }
   },
   "outputs": [
    {
     "name": "stdout",
     "output_type": "stream",
     "text": [
      "Enter the array2,8,4,89,34,21,4\n",
      "71\n"
     ]
    }
   ],
   "source": [
    "#90. return sum of array excluding the lowest and highest element\n",
    "i = [int(x) for x in input('Enter the array').split(',')]\n",
    "mx = max(i)\n",
    "mn= min(i)\n",
    "i.remove(mx)\n",
    "i.remove(mn)\n",
    "print(sum(i))"
   ]
  },
  {
   "cell_type": "code",
   "execution_count": 92,
   "id": "e649454c",
   "metadata": {
    "ExecuteTime": {
     "end_time": "2022-03-21T10:28:20.376944Z",
     "start_time": "2022-03-21T10:27:59.216766Z"
    }
   },
   "outputs": [
    {
     "name": "stdout",
     "output_type": "stream",
     "text": [
      "enter the string123 musical street 647th cross\n",
      "000 musical street 101th cross\n"
     ]
    }
   ],
   "source": [
    "#91. define a function take a string value replace any number below 5 with 0 and any number above 5 with 1\n",
    "line = input('enter the string')\n",
    "for i in range(len(line)):\n",
    "    if line[i].isdigit():\n",
    "        if int(line[i])>=5:\n",
    "            line = line.replace(line[i], '1')\n",
    "        else:\n",
    "            line = line.replace(line[i],'0')\n",
    "        \n",
    "print(line)"
   ]
  },
  {
   "cell_type": "code",
   "execution_count": 93,
   "id": "d95cfd32",
   "metadata": {
    "ExecuteTime": {
     "end_time": "2022-03-21T10:28:29.372798Z",
     "start_time": "2022-03-21T10:28:29.365914Z"
    }
   },
   "outputs": [
    {
     "data": {
      "text/plain": [
       "'21,03,2022'"
      ]
     },
     "execution_count": 93,
     "metadata": {},
     "output_type": "execute_result"
    }
   ],
   "source": [
    "#92. write a function to get a day of week eg: (30,8,2010)=1\n",
    "from datetime import date\n",
    "date.today().strftime('%d,%m,%Y')"
   ]
  },
  {
   "cell_type": "code",
   "execution_count": 94,
   "id": "36c3743a",
   "metadata": {
    "ExecuteTime": {
     "end_time": "2022-03-21T10:28:40.951892Z",
     "start_time": "2022-03-21T10:28:40.905213Z"
    }
   },
   "outputs": [
    {
     "name": "stdout",
     "output_type": "stream",
     "text": [
      "('h', 'a', 'r', 'i', 'n', 'i')\n",
      "('h', 'a', 'r', 'i', 'i', 'n')\n",
      "('h', 'a', 'r', 'n', 'i', 'i')\n",
      "('h', 'a', 'r', 'n', 'i', 'i')\n",
      "('h', 'a', 'r', 'i', 'i', 'n')\n",
      "('h', 'a', 'r', 'i', 'n', 'i')\n",
      "('h', 'a', 'i', 'r', 'n', 'i')\n",
      "('h', 'a', 'i', 'r', 'i', 'n')\n",
      "('h', 'a', 'i', 'n', 'r', 'i')\n",
      "('h', 'a', 'i', 'n', 'i', 'r')\n",
      "('h', 'a', 'i', 'i', 'r', 'n')\n",
      "('h', 'a', 'i', 'i', 'n', 'r')\n",
      "('h', 'a', 'n', 'r', 'i', 'i')\n",
      "('h', 'a', 'n', 'r', 'i', 'i')\n",
      "('h', 'a', 'n', 'i', 'r', 'i')\n",
      "('h', 'a', 'n', 'i', 'i', 'r')\n",
      "('h', 'a', 'n', 'i', 'r', 'i')\n",
      "('h', 'a', 'n', 'i', 'i', 'r')\n",
      "('h', 'a', 'i', 'r', 'i', 'n')\n",
      "('h', 'a', 'i', 'r', 'n', 'i')\n",
      "('h', 'a', 'i', 'i', 'r', 'n')\n",
      "('h', 'a', 'i', 'i', 'n', 'r')\n",
      "('h', 'a', 'i', 'n', 'r', 'i')\n",
      "('h', 'a', 'i', 'n', 'i', 'r')\n",
      "('h', 'r', 'a', 'i', 'n', 'i')\n",
      "('h', 'r', 'a', 'i', 'i', 'n')\n",
      "('h', 'r', 'a', 'n', 'i', 'i')\n",
      "('h', 'r', 'a', 'n', 'i', 'i')\n",
      "('h', 'r', 'a', 'i', 'i', 'n')\n",
      "('h', 'r', 'a', 'i', 'n', 'i')\n",
      "('h', 'r', 'i', 'a', 'n', 'i')\n",
      "('h', 'r', 'i', 'a', 'i', 'n')\n",
      "('h', 'r', 'i', 'n', 'a', 'i')\n",
      "('h', 'r', 'i', 'n', 'i', 'a')\n",
      "('h', 'r', 'i', 'i', 'a', 'n')\n",
      "('h', 'r', 'i', 'i', 'n', 'a')\n",
      "('h', 'r', 'n', 'a', 'i', 'i')\n",
      "('h', 'r', 'n', 'a', 'i', 'i')\n",
      "('h', 'r', 'n', 'i', 'a', 'i')\n",
      "('h', 'r', 'n', 'i', 'i', 'a')\n",
      "('h', 'r', 'n', 'i', 'a', 'i')\n",
      "('h', 'r', 'n', 'i', 'i', 'a')\n",
      "('h', 'r', 'i', 'a', 'i', 'n')\n",
      "('h', 'r', 'i', 'a', 'n', 'i')\n",
      "('h', 'r', 'i', 'i', 'a', 'n')\n",
      "('h', 'r', 'i', 'i', 'n', 'a')\n",
      "('h', 'r', 'i', 'n', 'a', 'i')\n",
      "('h', 'r', 'i', 'n', 'i', 'a')\n",
      "('h', 'i', 'a', 'r', 'n', 'i')\n",
      "('h', 'i', 'a', 'r', 'i', 'n')\n",
      "('h', 'i', 'a', 'n', 'r', 'i')\n",
      "('h', 'i', 'a', 'n', 'i', 'r')\n",
      "('h', 'i', 'a', 'i', 'r', 'n')\n",
      "('h', 'i', 'a', 'i', 'n', 'r')\n",
      "('h', 'i', 'r', 'a', 'n', 'i')\n",
      "('h', 'i', 'r', 'a', 'i', 'n')\n",
      "('h', 'i', 'r', 'n', 'a', 'i')\n",
      "('h', 'i', 'r', 'n', 'i', 'a')\n",
      "('h', 'i', 'r', 'i', 'a', 'n')\n",
      "('h', 'i', 'r', 'i', 'n', 'a')\n",
      "('h', 'i', 'n', 'a', 'r', 'i')\n",
      "('h', 'i', 'n', 'a', 'i', 'r')\n",
      "('h', 'i', 'n', 'r', 'a', 'i')\n",
      "('h', 'i', 'n', 'r', 'i', 'a')\n",
      "('h', 'i', 'n', 'i', 'a', 'r')\n",
      "('h', 'i', 'n', 'i', 'r', 'a')\n",
      "('h', 'i', 'i', 'a', 'r', 'n')\n",
      "('h', 'i', 'i', 'a', 'n', 'r')\n",
      "('h', 'i', 'i', 'r', 'a', 'n')\n",
      "('h', 'i', 'i', 'r', 'n', 'a')\n",
      "('h', 'i', 'i', 'n', 'a', 'r')\n",
      "('h', 'i', 'i', 'n', 'r', 'a')\n",
      "('h', 'n', 'a', 'r', 'i', 'i')\n",
      "('h', 'n', 'a', 'r', 'i', 'i')\n",
      "('h', 'n', 'a', 'i', 'r', 'i')\n",
      "('h', 'n', 'a', 'i', 'i', 'r')\n",
      "('h', 'n', 'a', 'i', 'r', 'i')\n",
      "('h', 'n', 'a', 'i', 'i', 'r')\n",
      "('h', 'n', 'r', 'a', 'i', 'i')\n",
      "('h', 'n', 'r', 'a', 'i', 'i')\n",
      "('h', 'n', 'r', 'i', 'a', 'i')\n",
      "('h', 'n', 'r', 'i', 'i', 'a')\n",
      "('h', 'n', 'r', 'i', 'a', 'i')\n",
      "('h', 'n', 'r', 'i', 'i', 'a')\n",
      "('h', 'n', 'i', 'a', 'r', 'i')\n",
      "('h', 'n', 'i', 'a', 'i', 'r')\n",
      "('h', 'n', 'i', 'r', 'a', 'i')\n",
      "('h', 'n', 'i', 'r', 'i', 'a')\n",
      "('h', 'n', 'i', 'i', 'a', 'r')\n",
      "('h', 'n', 'i', 'i', 'r', 'a')\n",
      "('h', 'n', 'i', 'a', 'r', 'i')\n",
      "('h', 'n', 'i', 'a', 'i', 'r')\n",
      "('h', 'n', 'i', 'r', 'a', 'i')\n",
      "('h', 'n', 'i', 'r', 'i', 'a')\n",
      "('h', 'n', 'i', 'i', 'a', 'r')\n",
      "('h', 'n', 'i', 'i', 'r', 'a')\n",
      "('h', 'i', 'a', 'r', 'i', 'n')\n",
      "('h', 'i', 'a', 'r', 'n', 'i')\n",
      "('h', 'i', 'a', 'i', 'r', 'n')\n",
      "('h', 'i', 'a', 'i', 'n', 'r')\n",
      "('h', 'i', 'a', 'n', 'r', 'i')\n",
      "('h', 'i', 'a', 'n', 'i', 'r')\n",
      "('h', 'i', 'r', 'a', 'i', 'n')\n",
      "('h', 'i', 'r', 'a', 'n', 'i')\n",
      "('h', 'i', 'r', 'i', 'a', 'n')\n",
      "('h', 'i', 'r', 'i', 'n', 'a')\n",
      "('h', 'i', 'r', 'n', 'a', 'i')\n",
      "('h', 'i', 'r', 'n', 'i', 'a')\n",
      "('h', 'i', 'i', 'a', 'r', 'n')\n",
      "('h', 'i', 'i', 'a', 'n', 'r')\n",
      "('h', 'i', 'i', 'r', 'a', 'n')\n",
      "('h', 'i', 'i', 'r', 'n', 'a')\n",
      "('h', 'i', 'i', 'n', 'a', 'r')\n",
      "('h', 'i', 'i', 'n', 'r', 'a')\n",
      "('h', 'i', 'n', 'a', 'r', 'i')\n",
      "('h', 'i', 'n', 'a', 'i', 'r')\n",
      "('h', 'i', 'n', 'r', 'a', 'i')\n",
      "('h', 'i', 'n', 'r', 'i', 'a')\n",
      "('h', 'i', 'n', 'i', 'a', 'r')\n",
      "('h', 'i', 'n', 'i', 'r', 'a')\n",
      "('a', 'h', 'r', 'i', 'n', 'i')\n",
      "('a', 'h', 'r', 'i', 'i', 'n')\n",
      "('a', 'h', 'r', 'n', 'i', 'i')\n",
      "('a', 'h', 'r', 'n', 'i', 'i')\n",
      "('a', 'h', 'r', 'i', 'i', 'n')\n",
      "('a', 'h', 'r', 'i', 'n', 'i')\n",
      "('a', 'h', 'i', 'r', 'n', 'i')\n",
      "('a', 'h', 'i', 'r', 'i', 'n')\n",
      "('a', 'h', 'i', 'n', 'r', 'i')\n",
      "('a', 'h', 'i', 'n', 'i', 'r')\n",
      "('a', 'h', 'i', 'i', 'r', 'n')\n",
      "('a', 'h', 'i', 'i', 'n', 'r')\n",
      "('a', 'h', 'n', 'r', 'i', 'i')\n",
      "('a', 'h', 'n', 'r', 'i', 'i')\n",
      "('a', 'h', 'n', 'i', 'r', 'i')\n",
      "('a', 'h', 'n', 'i', 'i', 'r')\n",
      "('a', 'h', 'n', 'i', 'r', 'i')\n",
      "('a', 'h', 'n', 'i', 'i', 'r')\n",
      "('a', 'h', 'i', 'r', 'i', 'n')\n",
      "('a', 'h', 'i', 'r', 'n', 'i')\n",
      "('a', 'h', 'i', 'i', 'r', 'n')\n",
      "('a', 'h', 'i', 'i', 'n', 'r')\n",
      "('a', 'h', 'i', 'n', 'r', 'i')\n",
      "('a', 'h', 'i', 'n', 'i', 'r')\n",
      "('a', 'r', 'h', 'i', 'n', 'i')\n",
      "('a', 'r', 'h', 'i', 'i', 'n')\n",
      "('a', 'r', 'h', 'n', 'i', 'i')\n",
      "('a', 'r', 'h', 'n', 'i', 'i')\n",
      "('a', 'r', 'h', 'i', 'i', 'n')\n",
      "('a', 'r', 'h', 'i', 'n', 'i')\n",
      "('a', 'r', 'i', 'h', 'n', 'i')\n",
      "('a', 'r', 'i', 'h', 'i', 'n')\n",
      "('a', 'r', 'i', 'n', 'h', 'i')\n",
      "('a', 'r', 'i', 'n', 'i', 'h')\n",
      "('a', 'r', 'i', 'i', 'h', 'n')\n",
      "('a', 'r', 'i', 'i', 'n', 'h')\n",
      "('a', 'r', 'n', 'h', 'i', 'i')\n",
      "('a', 'r', 'n', 'h', 'i', 'i')\n",
      "('a', 'r', 'n', 'i', 'h', 'i')\n",
      "('a', 'r', 'n', 'i', 'i', 'h')\n",
      "('a', 'r', 'n', 'i', 'h', 'i')\n",
      "('a', 'r', 'n', 'i', 'i', 'h')\n",
      "('a', 'r', 'i', 'h', 'i', 'n')\n",
      "('a', 'r', 'i', 'h', 'n', 'i')\n",
      "('a', 'r', 'i', 'i', 'h', 'n')\n",
      "('a', 'r', 'i', 'i', 'n', 'h')\n",
      "('a', 'r', 'i', 'n', 'h', 'i')\n",
      "('a', 'r', 'i', 'n', 'i', 'h')\n",
      "('a', 'i', 'h', 'r', 'n', 'i')\n",
      "('a', 'i', 'h', 'r', 'i', 'n')\n",
      "('a', 'i', 'h', 'n', 'r', 'i')\n",
      "('a', 'i', 'h', 'n', 'i', 'r')\n",
      "('a', 'i', 'h', 'i', 'r', 'n')\n",
      "('a', 'i', 'h', 'i', 'n', 'r')\n",
      "('a', 'i', 'r', 'h', 'n', 'i')\n",
      "('a', 'i', 'r', 'h', 'i', 'n')\n",
      "('a', 'i', 'r', 'n', 'h', 'i')\n",
      "('a', 'i', 'r', 'n', 'i', 'h')\n",
      "('a', 'i', 'r', 'i', 'h', 'n')\n",
      "('a', 'i', 'r', 'i', 'n', 'h')\n",
      "('a', 'i', 'n', 'h', 'r', 'i')\n",
      "('a', 'i', 'n', 'h', 'i', 'r')\n",
      "('a', 'i', 'n', 'r', 'h', 'i')\n",
      "('a', 'i', 'n', 'r', 'i', 'h')\n",
      "('a', 'i', 'n', 'i', 'h', 'r')\n",
      "('a', 'i', 'n', 'i', 'r', 'h')\n",
      "('a', 'i', 'i', 'h', 'r', 'n')\n",
      "('a', 'i', 'i', 'h', 'n', 'r')\n",
      "('a', 'i', 'i', 'r', 'h', 'n')\n",
      "('a', 'i', 'i', 'r', 'n', 'h')\n",
      "('a', 'i', 'i', 'n', 'h', 'r')\n",
      "('a', 'i', 'i', 'n', 'r', 'h')\n",
      "('a', 'n', 'h', 'r', 'i', 'i')\n",
      "('a', 'n', 'h', 'r', 'i', 'i')\n",
      "('a', 'n', 'h', 'i', 'r', 'i')\n",
      "('a', 'n', 'h', 'i', 'i', 'r')\n",
      "('a', 'n', 'h', 'i', 'r', 'i')\n",
      "('a', 'n', 'h', 'i', 'i', 'r')\n",
      "('a', 'n', 'r', 'h', 'i', 'i')\n",
      "('a', 'n', 'r', 'h', 'i', 'i')\n",
      "('a', 'n', 'r', 'i', 'h', 'i')\n",
      "('a', 'n', 'r', 'i', 'i', 'h')\n",
      "('a', 'n', 'r', 'i', 'h', 'i')\n",
      "('a', 'n', 'r', 'i', 'i', 'h')\n",
      "('a', 'n', 'i', 'h', 'r', 'i')\n",
      "('a', 'n', 'i', 'h', 'i', 'r')\n",
      "('a', 'n', 'i', 'r', 'h', 'i')\n",
      "('a', 'n', 'i', 'r', 'i', 'h')\n",
      "('a', 'n', 'i', 'i', 'h', 'r')\n",
      "('a', 'n', 'i', 'i', 'r', 'h')\n",
      "('a', 'n', 'i', 'h', 'r', 'i')\n",
      "('a', 'n', 'i', 'h', 'i', 'r')\n",
      "('a', 'n', 'i', 'r', 'h', 'i')\n",
      "('a', 'n', 'i', 'r', 'i', 'h')\n",
      "('a', 'n', 'i', 'i', 'h', 'r')\n",
      "('a', 'n', 'i', 'i', 'r', 'h')\n",
      "('a', 'i', 'h', 'r', 'i', 'n')\n",
      "('a', 'i', 'h', 'r', 'n', 'i')\n",
      "('a', 'i', 'h', 'i', 'r', 'n')\n",
      "('a', 'i', 'h', 'i', 'n', 'r')\n",
      "('a', 'i', 'h', 'n', 'r', 'i')\n",
      "('a', 'i', 'h', 'n', 'i', 'r')\n",
      "('a', 'i', 'r', 'h', 'i', 'n')\n",
      "('a', 'i', 'r', 'h', 'n', 'i')\n",
      "('a', 'i', 'r', 'i', 'h', 'n')\n",
      "('a', 'i', 'r', 'i', 'n', 'h')\n",
      "('a', 'i', 'r', 'n', 'h', 'i')\n",
      "('a', 'i', 'r', 'n', 'i', 'h')\n",
      "('a', 'i', 'i', 'h', 'r', 'n')\n",
      "('a', 'i', 'i', 'h', 'n', 'r')\n",
      "('a', 'i', 'i', 'r', 'h', 'n')\n",
      "('a', 'i', 'i', 'r', 'n', 'h')\n",
      "('a', 'i', 'i', 'n', 'h', 'r')\n",
      "('a', 'i', 'i', 'n', 'r', 'h')\n",
      "('a', 'i', 'n', 'h', 'r', 'i')\n",
      "('a', 'i', 'n', 'h', 'i', 'r')\n",
      "('a', 'i', 'n', 'r', 'h', 'i')\n",
      "('a', 'i', 'n', 'r', 'i', 'h')\n",
      "('a', 'i', 'n', 'i', 'h', 'r')\n",
      "('a', 'i', 'n', 'i', 'r', 'h')\n",
      "('r', 'h', 'a', 'i', 'n', 'i')\n",
      "('r', 'h', 'a', 'i', 'i', 'n')\n",
      "('r', 'h', 'a', 'n', 'i', 'i')\n",
      "('r', 'h', 'a', 'n', 'i', 'i')\n",
      "('r', 'h', 'a', 'i', 'i', 'n')\n",
      "('r', 'h', 'a', 'i', 'n', 'i')\n",
      "('r', 'h', 'i', 'a', 'n', 'i')\n",
      "('r', 'h', 'i', 'a', 'i', 'n')\n",
      "('r', 'h', 'i', 'n', 'a', 'i')\n",
      "('r', 'h', 'i', 'n', 'i', 'a')\n",
      "('r', 'h', 'i', 'i', 'a', 'n')\n",
      "('r', 'h', 'i', 'i', 'n', 'a')\n",
      "('r', 'h', 'n', 'a', 'i', 'i')\n",
      "('r', 'h', 'n', 'a', 'i', 'i')\n",
      "('r', 'h', 'n', 'i', 'a', 'i')\n",
      "('r', 'h', 'n', 'i', 'i', 'a')\n",
      "('r', 'h', 'n', 'i', 'a', 'i')\n",
      "('r', 'h', 'n', 'i', 'i', 'a')\n",
      "('r', 'h', 'i', 'a', 'i', 'n')\n",
      "('r', 'h', 'i', 'a', 'n', 'i')\n",
      "('r', 'h', 'i', 'i', 'a', 'n')\n",
      "('r', 'h', 'i', 'i', 'n', 'a')\n",
      "('r', 'h', 'i', 'n', 'a', 'i')\n",
      "('r', 'h', 'i', 'n', 'i', 'a')\n",
      "('r', 'a', 'h', 'i', 'n', 'i')\n",
      "('r', 'a', 'h', 'i', 'i', 'n')\n",
      "('r', 'a', 'h', 'n', 'i', 'i')\n",
      "('r', 'a', 'h', 'n', 'i', 'i')\n",
      "('r', 'a', 'h', 'i', 'i', 'n')\n",
      "('r', 'a', 'h', 'i', 'n', 'i')\n",
      "('r', 'a', 'i', 'h', 'n', 'i')\n",
      "('r', 'a', 'i', 'h', 'i', 'n')\n",
      "('r', 'a', 'i', 'n', 'h', 'i')\n",
      "('r', 'a', 'i', 'n', 'i', 'h')\n",
      "('r', 'a', 'i', 'i', 'h', 'n')\n",
      "('r', 'a', 'i', 'i', 'n', 'h')\n",
      "('r', 'a', 'n', 'h', 'i', 'i')\n",
      "('r', 'a', 'n', 'h', 'i', 'i')\n",
      "('r', 'a', 'n', 'i', 'h', 'i')\n",
      "('r', 'a', 'n', 'i', 'i', 'h')\n",
      "('r', 'a', 'n', 'i', 'h', 'i')\n",
      "('r', 'a', 'n', 'i', 'i', 'h')\n",
      "('r', 'a', 'i', 'h', 'i', 'n')\n",
      "('r', 'a', 'i', 'h', 'n', 'i')\n",
      "('r', 'a', 'i', 'i', 'h', 'n')\n",
      "('r', 'a', 'i', 'i', 'n', 'h')\n",
      "('r', 'a', 'i', 'n', 'h', 'i')\n",
      "('r', 'a', 'i', 'n', 'i', 'h')\n",
      "('r', 'i', 'h', 'a', 'n', 'i')\n",
      "('r', 'i', 'h', 'a', 'i', 'n')\n",
      "('r', 'i', 'h', 'n', 'a', 'i')\n",
      "('r', 'i', 'h', 'n', 'i', 'a')\n",
      "('r', 'i', 'h', 'i', 'a', 'n')\n",
      "('r', 'i', 'h', 'i', 'n', 'a')\n",
      "('r', 'i', 'a', 'h', 'n', 'i')\n",
      "('r', 'i', 'a', 'h', 'i', 'n')\n",
      "('r', 'i', 'a', 'n', 'h', 'i')\n",
      "('r', 'i', 'a', 'n', 'i', 'h')\n",
      "('r', 'i', 'a', 'i', 'h', 'n')\n",
      "('r', 'i', 'a', 'i', 'n', 'h')\n",
      "('r', 'i', 'n', 'h', 'a', 'i')\n",
      "('r', 'i', 'n', 'h', 'i', 'a')\n",
      "('r', 'i', 'n', 'a', 'h', 'i')\n",
      "('r', 'i', 'n', 'a', 'i', 'h')\n",
      "('r', 'i', 'n', 'i', 'h', 'a')\n",
      "('r', 'i', 'n', 'i', 'a', 'h')\n",
      "('r', 'i', 'i', 'h', 'a', 'n')\n",
      "('r', 'i', 'i', 'h', 'n', 'a')\n",
      "('r', 'i', 'i', 'a', 'h', 'n')\n",
      "('r', 'i', 'i', 'a', 'n', 'h')\n",
      "('r', 'i', 'i', 'n', 'h', 'a')\n",
      "('r', 'i', 'i', 'n', 'a', 'h')\n",
      "('r', 'n', 'h', 'a', 'i', 'i')\n",
      "('r', 'n', 'h', 'a', 'i', 'i')\n",
      "('r', 'n', 'h', 'i', 'a', 'i')\n",
      "('r', 'n', 'h', 'i', 'i', 'a')\n",
      "('r', 'n', 'h', 'i', 'a', 'i')\n",
      "('r', 'n', 'h', 'i', 'i', 'a')\n",
      "('r', 'n', 'a', 'h', 'i', 'i')\n",
      "('r', 'n', 'a', 'h', 'i', 'i')\n",
      "('r', 'n', 'a', 'i', 'h', 'i')\n",
      "('r', 'n', 'a', 'i', 'i', 'h')\n",
      "('r', 'n', 'a', 'i', 'h', 'i')\n",
      "('r', 'n', 'a', 'i', 'i', 'h')\n",
      "('r', 'n', 'i', 'h', 'a', 'i')\n",
      "('r', 'n', 'i', 'h', 'i', 'a')\n",
      "('r', 'n', 'i', 'a', 'h', 'i')\n",
      "('r', 'n', 'i', 'a', 'i', 'h')\n",
      "('r', 'n', 'i', 'i', 'h', 'a')\n",
      "('r', 'n', 'i', 'i', 'a', 'h')\n",
      "('r', 'n', 'i', 'h', 'a', 'i')\n",
      "('r', 'n', 'i', 'h', 'i', 'a')\n",
      "('r', 'n', 'i', 'a', 'h', 'i')\n",
      "('r', 'n', 'i', 'a', 'i', 'h')\n",
      "('r', 'n', 'i', 'i', 'h', 'a')\n",
      "('r', 'n', 'i', 'i', 'a', 'h')\n",
      "('r', 'i', 'h', 'a', 'i', 'n')\n",
      "('r', 'i', 'h', 'a', 'n', 'i')\n",
      "('r', 'i', 'h', 'i', 'a', 'n')\n",
      "('r', 'i', 'h', 'i', 'n', 'a')\n",
      "('r', 'i', 'h', 'n', 'a', 'i')\n",
      "('r', 'i', 'h', 'n', 'i', 'a')\n",
      "('r', 'i', 'a', 'h', 'i', 'n')\n",
      "('r', 'i', 'a', 'h', 'n', 'i')\n",
      "('r', 'i', 'a', 'i', 'h', 'n')\n",
      "('r', 'i', 'a', 'i', 'n', 'h')\n",
      "('r', 'i', 'a', 'n', 'h', 'i')\n",
      "('r', 'i', 'a', 'n', 'i', 'h')\n",
      "('r', 'i', 'i', 'h', 'a', 'n')\n",
      "('r', 'i', 'i', 'h', 'n', 'a')\n",
      "('r', 'i', 'i', 'a', 'h', 'n')\n",
      "('r', 'i', 'i', 'a', 'n', 'h')\n",
      "('r', 'i', 'i', 'n', 'h', 'a')\n",
      "('r', 'i', 'i', 'n', 'a', 'h')\n",
      "('r', 'i', 'n', 'h', 'a', 'i')\n",
      "('r', 'i', 'n', 'h', 'i', 'a')\n",
      "('r', 'i', 'n', 'a', 'h', 'i')\n",
      "('r', 'i', 'n', 'a', 'i', 'h')\n",
      "('r', 'i', 'n', 'i', 'h', 'a')\n",
      "('r', 'i', 'n', 'i', 'a', 'h')\n",
      "('i', 'h', 'a', 'r', 'n', 'i')\n",
      "('i', 'h', 'a', 'r', 'i', 'n')\n",
      "('i', 'h', 'a', 'n', 'r', 'i')\n",
      "('i', 'h', 'a', 'n', 'i', 'r')\n",
      "('i', 'h', 'a', 'i', 'r', 'n')\n",
      "('i', 'h', 'a', 'i', 'n', 'r')\n",
      "('i', 'h', 'r', 'a', 'n', 'i')\n",
      "('i', 'h', 'r', 'a', 'i', 'n')\n",
      "('i', 'h', 'r', 'n', 'a', 'i')\n",
      "('i', 'h', 'r', 'n', 'i', 'a')\n",
      "('i', 'h', 'r', 'i', 'a', 'n')\n",
      "('i', 'h', 'r', 'i', 'n', 'a')\n",
      "('i', 'h', 'n', 'a', 'r', 'i')\n",
      "('i', 'h', 'n', 'a', 'i', 'r')\n",
      "('i', 'h', 'n', 'r', 'a', 'i')\n",
      "('i', 'h', 'n', 'r', 'i', 'a')\n",
      "('i', 'h', 'n', 'i', 'a', 'r')\n",
      "('i', 'h', 'n', 'i', 'r', 'a')\n",
      "('i', 'h', 'i', 'a', 'r', 'n')\n",
      "('i', 'h', 'i', 'a', 'n', 'r')\n",
      "('i', 'h', 'i', 'r', 'a', 'n')\n",
      "('i', 'h', 'i', 'r', 'n', 'a')\n",
      "('i', 'h', 'i', 'n', 'a', 'r')\n",
      "('i', 'h', 'i', 'n', 'r', 'a')\n",
      "('i', 'a', 'h', 'r', 'n', 'i')\n",
      "('i', 'a', 'h', 'r', 'i', 'n')\n",
      "('i', 'a', 'h', 'n', 'r', 'i')\n",
      "('i', 'a', 'h', 'n', 'i', 'r')\n",
      "('i', 'a', 'h', 'i', 'r', 'n')\n",
      "('i', 'a', 'h', 'i', 'n', 'r')\n",
      "('i', 'a', 'r', 'h', 'n', 'i')\n",
      "('i', 'a', 'r', 'h', 'i', 'n')\n",
      "('i', 'a', 'r', 'n', 'h', 'i')\n",
      "('i', 'a', 'r', 'n', 'i', 'h')\n",
      "('i', 'a', 'r', 'i', 'h', 'n')\n",
      "('i', 'a', 'r', 'i', 'n', 'h')\n",
      "('i', 'a', 'n', 'h', 'r', 'i')\n",
      "('i', 'a', 'n', 'h', 'i', 'r')\n",
      "('i', 'a', 'n', 'r', 'h', 'i')\n",
      "('i', 'a', 'n', 'r', 'i', 'h')\n",
      "('i', 'a', 'n', 'i', 'h', 'r')\n",
      "('i', 'a', 'n', 'i', 'r', 'h')\n",
      "('i', 'a', 'i', 'h', 'r', 'n')\n",
      "('i', 'a', 'i', 'h', 'n', 'r')\n",
      "('i', 'a', 'i', 'r', 'h', 'n')\n",
      "('i', 'a', 'i', 'r', 'n', 'h')\n",
      "('i', 'a', 'i', 'n', 'h', 'r')\n",
      "('i', 'a', 'i', 'n', 'r', 'h')\n",
      "('i', 'r', 'h', 'a', 'n', 'i')\n",
      "('i', 'r', 'h', 'a', 'i', 'n')\n",
      "('i', 'r', 'h', 'n', 'a', 'i')\n",
      "('i', 'r', 'h', 'n', 'i', 'a')\n",
      "('i', 'r', 'h', 'i', 'a', 'n')\n",
      "('i', 'r', 'h', 'i', 'n', 'a')\n",
      "('i', 'r', 'a', 'h', 'n', 'i')\n",
      "('i', 'r', 'a', 'h', 'i', 'n')\n",
      "('i', 'r', 'a', 'n', 'h', 'i')\n",
      "('i', 'r', 'a', 'n', 'i', 'h')\n",
      "('i', 'r', 'a', 'i', 'h', 'n')\n",
      "('i', 'r', 'a', 'i', 'n', 'h')\n",
      "('i', 'r', 'n', 'h', 'a', 'i')\n",
      "('i', 'r', 'n', 'h', 'i', 'a')\n",
      "('i', 'r', 'n', 'a', 'h', 'i')\n",
      "('i', 'r', 'n', 'a', 'i', 'h')\n",
      "('i', 'r', 'n', 'i', 'h', 'a')\n",
      "('i', 'r', 'n', 'i', 'a', 'h')\n",
      "('i', 'r', 'i', 'h', 'a', 'n')\n",
      "('i', 'r', 'i', 'h', 'n', 'a')\n",
      "('i', 'r', 'i', 'a', 'h', 'n')\n",
      "('i', 'r', 'i', 'a', 'n', 'h')\n",
      "('i', 'r', 'i', 'n', 'h', 'a')\n",
      "('i', 'r', 'i', 'n', 'a', 'h')\n",
      "('i', 'n', 'h', 'a', 'r', 'i')\n",
      "('i', 'n', 'h', 'a', 'i', 'r')\n",
      "('i', 'n', 'h', 'r', 'a', 'i')\n",
      "('i', 'n', 'h', 'r', 'i', 'a')\n",
      "('i', 'n', 'h', 'i', 'a', 'r')\n",
      "('i', 'n', 'h', 'i', 'r', 'a')\n",
      "('i', 'n', 'a', 'h', 'r', 'i')\n",
      "('i', 'n', 'a', 'h', 'i', 'r')\n",
      "('i', 'n', 'a', 'r', 'h', 'i')\n",
      "('i', 'n', 'a', 'r', 'i', 'h')\n",
      "('i', 'n', 'a', 'i', 'h', 'r')\n",
      "('i', 'n', 'a', 'i', 'r', 'h')\n",
      "('i', 'n', 'r', 'h', 'a', 'i')\n",
      "('i', 'n', 'r', 'h', 'i', 'a')\n",
      "('i', 'n', 'r', 'a', 'h', 'i')\n",
      "('i', 'n', 'r', 'a', 'i', 'h')\n",
      "('i', 'n', 'r', 'i', 'h', 'a')\n",
      "('i', 'n', 'r', 'i', 'a', 'h')\n",
      "('i', 'n', 'i', 'h', 'a', 'r')\n",
      "('i', 'n', 'i', 'h', 'r', 'a')\n",
      "('i', 'n', 'i', 'a', 'h', 'r')\n",
      "('i', 'n', 'i', 'a', 'r', 'h')\n",
      "('i', 'n', 'i', 'r', 'h', 'a')\n",
      "('i', 'n', 'i', 'r', 'a', 'h')\n",
      "('i', 'i', 'h', 'a', 'r', 'n')\n",
      "('i', 'i', 'h', 'a', 'n', 'r')\n",
      "('i', 'i', 'h', 'r', 'a', 'n')\n",
      "('i', 'i', 'h', 'r', 'n', 'a')\n",
      "('i', 'i', 'h', 'n', 'a', 'r')\n",
      "('i', 'i', 'h', 'n', 'r', 'a')\n",
      "('i', 'i', 'a', 'h', 'r', 'n')\n",
      "('i', 'i', 'a', 'h', 'n', 'r')\n",
      "('i', 'i', 'a', 'r', 'h', 'n')\n",
      "('i', 'i', 'a', 'r', 'n', 'h')\n",
      "('i', 'i', 'a', 'n', 'h', 'r')\n",
      "('i', 'i', 'a', 'n', 'r', 'h')\n",
      "('i', 'i', 'r', 'h', 'a', 'n')\n",
      "('i', 'i', 'r', 'h', 'n', 'a')\n",
      "('i', 'i', 'r', 'a', 'h', 'n')\n",
      "('i', 'i', 'r', 'a', 'n', 'h')\n",
      "('i', 'i', 'r', 'n', 'h', 'a')\n",
      "('i', 'i', 'r', 'n', 'a', 'h')\n",
      "('i', 'i', 'n', 'h', 'a', 'r')\n",
      "('i', 'i', 'n', 'h', 'r', 'a')\n",
      "('i', 'i', 'n', 'a', 'h', 'r')\n",
      "('i', 'i', 'n', 'a', 'r', 'h')\n",
      "('i', 'i', 'n', 'r', 'h', 'a')\n",
      "('i', 'i', 'n', 'r', 'a', 'h')\n",
      "('n', 'h', 'a', 'r', 'i', 'i')\n",
      "('n', 'h', 'a', 'r', 'i', 'i')\n",
      "('n', 'h', 'a', 'i', 'r', 'i')\n",
      "('n', 'h', 'a', 'i', 'i', 'r')\n",
      "('n', 'h', 'a', 'i', 'r', 'i')\n",
      "('n', 'h', 'a', 'i', 'i', 'r')\n",
      "('n', 'h', 'r', 'a', 'i', 'i')\n",
      "('n', 'h', 'r', 'a', 'i', 'i')\n",
      "('n', 'h', 'r', 'i', 'a', 'i')\n",
      "('n', 'h', 'r', 'i', 'i', 'a')\n",
      "('n', 'h', 'r', 'i', 'a', 'i')\n",
      "('n', 'h', 'r', 'i', 'i', 'a')\n",
      "('n', 'h', 'i', 'a', 'r', 'i')\n",
      "('n', 'h', 'i', 'a', 'i', 'r')\n",
      "('n', 'h', 'i', 'r', 'a', 'i')\n",
      "('n', 'h', 'i', 'r', 'i', 'a')\n",
      "('n', 'h', 'i', 'i', 'a', 'r')\n",
      "('n', 'h', 'i', 'i', 'r', 'a')\n",
      "('n', 'h', 'i', 'a', 'r', 'i')\n",
      "('n', 'h', 'i', 'a', 'i', 'r')\n",
      "('n', 'h', 'i', 'r', 'a', 'i')\n",
      "('n', 'h', 'i', 'r', 'i', 'a')\n",
      "('n', 'h', 'i', 'i', 'a', 'r')\n",
      "('n', 'h', 'i', 'i', 'r', 'a')\n",
      "('n', 'a', 'h', 'r', 'i', 'i')\n",
      "('n', 'a', 'h', 'r', 'i', 'i')\n",
      "('n', 'a', 'h', 'i', 'r', 'i')\n",
      "('n', 'a', 'h', 'i', 'i', 'r')\n",
      "('n', 'a', 'h', 'i', 'r', 'i')\n",
      "('n', 'a', 'h', 'i', 'i', 'r')\n",
      "('n', 'a', 'r', 'h', 'i', 'i')\n",
      "('n', 'a', 'r', 'h', 'i', 'i')\n",
      "('n', 'a', 'r', 'i', 'h', 'i')\n",
      "('n', 'a', 'r', 'i', 'i', 'h')\n",
      "('n', 'a', 'r', 'i', 'h', 'i')\n",
      "('n', 'a', 'r', 'i', 'i', 'h')\n",
      "('n', 'a', 'i', 'h', 'r', 'i')\n",
      "('n', 'a', 'i', 'h', 'i', 'r')\n",
      "('n', 'a', 'i', 'r', 'h', 'i')\n",
      "('n', 'a', 'i', 'r', 'i', 'h')\n",
      "('n', 'a', 'i', 'i', 'h', 'r')\n",
      "('n', 'a', 'i', 'i', 'r', 'h')\n",
      "('n', 'a', 'i', 'h', 'r', 'i')\n",
      "('n', 'a', 'i', 'h', 'i', 'r')\n",
      "('n', 'a', 'i', 'r', 'h', 'i')\n",
      "('n', 'a', 'i', 'r', 'i', 'h')\n",
      "('n', 'a', 'i', 'i', 'h', 'r')\n",
      "('n', 'a', 'i', 'i', 'r', 'h')\n",
      "('n', 'r', 'h', 'a', 'i', 'i')\n",
      "('n', 'r', 'h', 'a', 'i', 'i')\n",
      "('n', 'r', 'h', 'i', 'a', 'i')\n",
      "('n', 'r', 'h', 'i', 'i', 'a')\n",
      "('n', 'r', 'h', 'i', 'a', 'i')\n",
      "('n', 'r', 'h', 'i', 'i', 'a')\n",
      "('n', 'r', 'a', 'h', 'i', 'i')\n",
      "('n', 'r', 'a', 'h', 'i', 'i')\n",
      "('n', 'r', 'a', 'i', 'h', 'i')\n",
      "('n', 'r', 'a', 'i', 'i', 'h')\n",
      "('n', 'r', 'a', 'i', 'h', 'i')\n",
      "('n', 'r', 'a', 'i', 'i', 'h')\n",
      "('n', 'r', 'i', 'h', 'a', 'i')\n",
      "('n', 'r', 'i', 'h', 'i', 'a')\n",
      "('n', 'r', 'i', 'a', 'h', 'i')\n",
      "('n', 'r', 'i', 'a', 'i', 'h')\n",
      "('n', 'r', 'i', 'i', 'h', 'a')\n",
      "('n', 'r', 'i', 'i', 'a', 'h')\n",
      "('n', 'r', 'i', 'h', 'a', 'i')\n",
      "('n', 'r', 'i', 'h', 'i', 'a')\n",
      "('n', 'r', 'i', 'a', 'h', 'i')\n",
      "('n', 'r', 'i', 'a', 'i', 'h')\n",
      "('n', 'r', 'i', 'i', 'h', 'a')\n",
      "('n', 'r', 'i', 'i', 'a', 'h')\n",
      "('n', 'i', 'h', 'a', 'r', 'i')\n",
      "('n', 'i', 'h', 'a', 'i', 'r')\n",
      "('n', 'i', 'h', 'r', 'a', 'i')\n",
      "('n', 'i', 'h', 'r', 'i', 'a')\n",
      "('n', 'i', 'h', 'i', 'a', 'r')\n",
      "('n', 'i', 'h', 'i', 'r', 'a')\n",
      "('n', 'i', 'a', 'h', 'r', 'i')\n",
      "('n', 'i', 'a', 'h', 'i', 'r')\n",
      "('n', 'i', 'a', 'r', 'h', 'i')\n",
      "('n', 'i', 'a', 'r', 'i', 'h')\n",
      "('n', 'i', 'a', 'i', 'h', 'r')\n",
      "('n', 'i', 'a', 'i', 'r', 'h')\n",
      "('n', 'i', 'r', 'h', 'a', 'i')\n",
      "('n', 'i', 'r', 'h', 'i', 'a')\n",
      "('n', 'i', 'r', 'a', 'h', 'i')\n",
      "('n', 'i', 'r', 'a', 'i', 'h')\n",
      "('n', 'i', 'r', 'i', 'h', 'a')\n",
      "('n', 'i', 'r', 'i', 'a', 'h')\n",
      "('n', 'i', 'i', 'h', 'a', 'r')\n",
      "('n', 'i', 'i', 'h', 'r', 'a')\n",
      "('n', 'i', 'i', 'a', 'h', 'r')\n",
      "('n', 'i', 'i', 'a', 'r', 'h')\n",
      "('n', 'i', 'i', 'r', 'h', 'a')\n",
      "('n', 'i', 'i', 'r', 'a', 'h')\n",
      "('n', 'i', 'h', 'a', 'r', 'i')\n",
      "('n', 'i', 'h', 'a', 'i', 'r')\n",
      "('n', 'i', 'h', 'r', 'a', 'i')\n",
      "('n', 'i', 'h', 'r', 'i', 'a')\n",
      "('n', 'i', 'h', 'i', 'a', 'r')\n",
      "('n', 'i', 'h', 'i', 'r', 'a')\n",
      "('n', 'i', 'a', 'h', 'r', 'i')\n",
      "('n', 'i', 'a', 'h', 'i', 'r')\n",
      "('n', 'i', 'a', 'r', 'h', 'i')\n",
      "('n', 'i', 'a', 'r', 'i', 'h')\n",
      "('n', 'i', 'a', 'i', 'h', 'r')\n",
      "('n', 'i', 'a', 'i', 'r', 'h')\n",
      "('n', 'i', 'r', 'h', 'a', 'i')\n",
      "('n', 'i', 'r', 'h', 'i', 'a')\n",
      "('n', 'i', 'r', 'a', 'h', 'i')\n",
      "('n', 'i', 'r', 'a', 'i', 'h')\n",
      "('n', 'i', 'r', 'i', 'h', 'a')\n",
      "('n', 'i', 'r', 'i', 'a', 'h')\n",
      "('n', 'i', 'i', 'h', 'a', 'r')\n",
      "('n', 'i', 'i', 'h', 'r', 'a')\n",
      "('n', 'i', 'i', 'a', 'h', 'r')\n",
      "('n', 'i', 'i', 'a', 'r', 'h')\n",
      "('n', 'i', 'i', 'r', 'h', 'a')\n",
      "('n', 'i', 'i', 'r', 'a', 'h')\n",
      "('i', 'h', 'a', 'r', 'i', 'n')\n",
      "('i', 'h', 'a', 'r', 'n', 'i')\n",
      "('i', 'h', 'a', 'i', 'r', 'n')\n",
      "('i', 'h', 'a', 'i', 'n', 'r')\n",
      "('i', 'h', 'a', 'n', 'r', 'i')\n",
      "('i', 'h', 'a', 'n', 'i', 'r')\n",
      "('i', 'h', 'r', 'a', 'i', 'n')\n",
      "('i', 'h', 'r', 'a', 'n', 'i')\n",
      "('i', 'h', 'r', 'i', 'a', 'n')\n",
      "('i', 'h', 'r', 'i', 'n', 'a')\n",
      "('i', 'h', 'r', 'n', 'a', 'i')\n",
      "('i', 'h', 'r', 'n', 'i', 'a')\n",
      "('i', 'h', 'i', 'a', 'r', 'n')\n",
      "('i', 'h', 'i', 'a', 'n', 'r')\n",
      "('i', 'h', 'i', 'r', 'a', 'n')\n",
      "('i', 'h', 'i', 'r', 'n', 'a')\n",
      "('i', 'h', 'i', 'n', 'a', 'r')\n",
      "('i', 'h', 'i', 'n', 'r', 'a')\n",
      "('i', 'h', 'n', 'a', 'r', 'i')\n",
      "('i', 'h', 'n', 'a', 'i', 'r')\n",
      "('i', 'h', 'n', 'r', 'a', 'i')\n",
      "('i', 'h', 'n', 'r', 'i', 'a')\n",
      "('i', 'h', 'n', 'i', 'a', 'r')\n",
      "('i', 'h', 'n', 'i', 'r', 'a')\n",
      "('i', 'a', 'h', 'r', 'i', 'n')\n",
      "('i', 'a', 'h', 'r', 'n', 'i')\n",
      "('i', 'a', 'h', 'i', 'r', 'n')\n",
      "('i', 'a', 'h', 'i', 'n', 'r')\n",
      "('i', 'a', 'h', 'n', 'r', 'i')\n",
      "('i', 'a', 'h', 'n', 'i', 'r')\n",
      "('i', 'a', 'r', 'h', 'i', 'n')\n",
      "('i', 'a', 'r', 'h', 'n', 'i')\n",
      "('i', 'a', 'r', 'i', 'h', 'n')\n",
      "('i', 'a', 'r', 'i', 'n', 'h')\n",
      "('i', 'a', 'r', 'n', 'h', 'i')\n",
      "('i', 'a', 'r', 'n', 'i', 'h')\n",
      "('i', 'a', 'i', 'h', 'r', 'n')\n",
      "('i', 'a', 'i', 'h', 'n', 'r')\n",
      "('i', 'a', 'i', 'r', 'h', 'n')\n",
      "('i', 'a', 'i', 'r', 'n', 'h')\n",
      "('i', 'a', 'i', 'n', 'h', 'r')\n",
      "('i', 'a', 'i', 'n', 'r', 'h')\n",
      "('i', 'a', 'n', 'h', 'r', 'i')\n",
      "('i', 'a', 'n', 'h', 'i', 'r')\n",
      "('i', 'a', 'n', 'r', 'h', 'i')\n",
      "('i', 'a', 'n', 'r', 'i', 'h')\n",
      "('i', 'a', 'n', 'i', 'h', 'r')\n",
      "('i', 'a', 'n', 'i', 'r', 'h')\n",
      "('i', 'r', 'h', 'a', 'i', 'n')\n",
      "('i', 'r', 'h', 'a', 'n', 'i')\n",
      "('i', 'r', 'h', 'i', 'a', 'n')\n",
      "('i', 'r', 'h', 'i', 'n', 'a')\n",
      "('i', 'r', 'h', 'n', 'a', 'i')\n",
      "('i', 'r', 'h', 'n', 'i', 'a')\n",
      "('i', 'r', 'a', 'h', 'i', 'n')\n",
      "('i', 'r', 'a', 'h', 'n', 'i')\n",
      "('i', 'r', 'a', 'i', 'h', 'n')\n",
      "('i', 'r', 'a', 'i', 'n', 'h')\n",
      "('i', 'r', 'a', 'n', 'h', 'i')\n",
      "('i', 'r', 'a', 'n', 'i', 'h')\n",
      "('i', 'r', 'i', 'h', 'a', 'n')\n",
      "('i', 'r', 'i', 'h', 'n', 'a')\n",
      "('i', 'r', 'i', 'a', 'h', 'n')\n",
      "('i', 'r', 'i', 'a', 'n', 'h')\n",
      "('i', 'r', 'i', 'n', 'h', 'a')\n",
      "('i', 'r', 'i', 'n', 'a', 'h')\n",
      "('i', 'r', 'n', 'h', 'a', 'i')\n",
      "('i', 'r', 'n', 'h', 'i', 'a')\n",
      "('i', 'r', 'n', 'a', 'h', 'i')\n",
      "('i', 'r', 'n', 'a', 'i', 'h')\n",
      "('i', 'r', 'n', 'i', 'h', 'a')\n",
      "('i', 'r', 'n', 'i', 'a', 'h')\n",
      "('i', 'i', 'h', 'a', 'r', 'n')\n",
      "('i', 'i', 'h', 'a', 'n', 'r')\n",
      "('i', 'i', 'h', 'r', 'a', 'n')\n",
      "('i', 'i', 'h', 'r', 'n', 'a')\n",
      "('i', 'i', 'h', 'n', 'a', 'r')\n",
      "('i', 'i', 'h', 'n', 'r', 'a')\n",
      "('i', 'i', 'a', 'h', 'r', 'n')\n",
      "('i', 'i', 'a', 'h', 'n', 'r')\n",
      "('i', 'i', 'a', 'r', 'h', 'n')\n",
      "('i', 'i', 'a', 'r', 'n', 'h')\n",
      "('i', 'i', 'a', 'n', 'h', 'r')\n",
      "('i', 'i', 'a', 'n', 'r', 'h')\n",
      "('i', 'i', 'r', 'h', 'a', 'n')\n",
      "('i', 'i', 'r', 'h', 'n', 'a')\n",
      "('i', 'i', 'r', 'a', 'h', 'n')\n",
      "('i', 'i', 'r', 'a', 'n', 'h')\n",
      "('i', 'i', 'r', 'n', 'h', 'a')\n",
      "('i', 'i', 'r', 'n', 'a', 'h')\n",
      "('i', 'i', 'n', 'h', 'a', 'r')\n",
      "('i', 'i', 'n', 'h', 'r', 'a')\n",
      "('i', 'i', 'n', 'a', 'h', 'r')\n",
      "('i', 'i', 'n', 'a', 'r', 'h')\n",
      "('i', 'i', 'n', 'r', 'h', 'a')\n",
      "('i', 'i', 'n', 'r', 'a', 'h')\n",
      "('i', 'n', 'h', 'a', 'r', 'i')\n",
      "('i', 'n', 'h', 'a', 'i', 'r')\n",
      "('i', 'n', 'h', 'r', 'a', 'i')\n",
      "('i', 'n', 'h', 'r', 'i', 'a')\n",
      "('i', 'n', 'h', 'i', 'a', 'r')\n",
      "('i', 'n', 'h', 'i', 'r', 'a')\n",
      "('i', 'n', 'a', 'h', 'r', 'i')\n",
      "('i', 'n', 'a', 'h', 'i', 'r')\n",
      "('i', 'n', 'a', 'r', 'h', 'i')\n",
      "('i', 'n', 'a', 'r', 'i', 'h')\n",
      "('i', 'n', 'a', 'i', 'h', 'r')\n",
      "('i', 'n', 'a', 'i', 'r', 'h')\n",
      "('i', 'n', 'r', 'h', 'a', 'i')\n",
      "('i', 'n', 'r', 'h', 'i', 'a')\n",
      "('i', 'n', 'r', 'a', 'h', 'i')\n",
      "('i', 'n', 'r', 'a', 'i', 'h')\n",
      "('i', 'n', 'r', 'i', 'h', 'a')\n",
      "('i', 'n', 'r', 'i', 'a', 'h')\n",
      "('i', 'n', 'i', 'h', 'a', 'r')\n",
      "('i', 'n', 'i', 'h', 'r', 'a')\n",
      "('i', 'n', 'i', 'a', 'h', 'r')\n",
      "('i', 'n', 'i', 'a', 'r', 'h')\n",
      "('i', 'n', 'i', 'r', 'h', 'a')\n",
      "('i', 'n', 'i', 'r', 'a', 'h')\n",
      "The number of permutations are 720\n"
     ]
    }
   ],
   "source": [
    "#93. write a function to get all the permutation of the string\n",
    "from itertools import permutations\n",
    "\n",
    "permu = permutations('harini')\n",
    "count = 0\n",
    "for item in (permu):\n",
    "    print(item)\n",
    "    count+=1\n",
    "print('The number of permutations are' ,count)"
   ]
  },
  {
   "cell_type": "code",
   "execution_count": 95,
   "id": "9f49946c",
   "metadata": {
    "ExecuteTime": {
     "end_time": "2022-03-21T10:28:46.423907Z",
     "start_time": "2022-03-21T10:28:46.411652Z"
    }
   },
   "outputs": [
    {
     "name": "stdout",
     "output_type": "stream",
     "text": [
      "('h', 'a')\n",
      "('h', 'r')\n",
      "('h', 'i')\n",
      "('h', 'n')\n",
      "('h', 'i')\n",
      "('a', 'r')\n",
      "('a', 'i')\n",
      "('a', 'n')\n",
      "('a', 'i')\n",
      "('r', 'i')\n",
      "('r', 'n')\n",
      "('r', 'i')\n",
      "('i', 'n')\n",
      "('i', 'i')\n",
      "('n', 'i')\n",
      "('h', 'a', 'r')\n",
      "('h', 'a', 'i')\n",
      "('h', 'a', 'n')\n",
      "('h', 'a', 'i')\n",
      "('h', 'r', 'i')\n",
      "('h', 'r', 'n')\n",
      "('h', 'r', 'i')\n",
      "('h', 'i', 'n')\n",
      "('h', 'i', 'i')\n",
      "('h', 'n', 'i')\n",
      "('a', 'r', 'i')\n",
      "('a', 'r', 'n')\n",
      "('a', 'r', 'i')\n",
      "('a', 'i', 'n')\n",
      "('a', 'i', 'i')\n",
      "('a', 'n', 'i')\n",
      "('r', 'i', 'n')\n",
      "('r', 'i', 'i')\n",
      "('r', 'n', 'i')\n",
      "('i', 'n', 'i')\n",
      "('h', 'a', 'r', 'i')\n",
      "('h', 'a', 'r', 'n')\n",
      "('h', 'a', 'r', 'i')\n",
      "('h', 'a', 'i', 'n')\n",
      "('h', 'a', 'i', 'i')\n",
      "('h', 'a', 'n', 'i')\n",
      "('h', 'r', 'i', 'n')\n",
      "('h', 'r', 'i', 'i')\n",
      "('h', 'r', 'n', 'i')\n",
      "('h', 'i', 'n', 'i')\n",
      "('a', 'r', 'i', 'n')\n",
      "('a', 'r', 'i', 'i')\n",
      "('a', 'r', 'n', 'i')\n",
      "('a', 'i', 'n', 'i')\n",
      "('r', 'i', 'n', 'i')\n",
      "('h', 'a', 'r', 'i', 'n')\n",
      "('h', 'a', 'r', 'i', 'i')\n",
      "('h', 'a', 'r', 'n', 'i')\n",
      "('h', 'a', 'i', 'n', 'i')\n",
      "('h', 'r', 'i', 'n', 'i')\n",
      "('a', 'r', 'i', 'n', 'i')\n",
      "The number of combinations are 56\n"
     ]
    }
   ],
   "source": [
    "#94. write a function to get all the possible subset of a string in a list\n",
    "\n",
    "from itertools import combinations\n",
    "\n",
    "instring = 'harini'\n",
    "count = 0\n",
    "for i in range(2,len(instring)):\n",
    "    subset = combinations('harini',i)\n",
    "    for item in (subset):\n",
    "        print(item)\n",
    "        count+=1\n",
    "print('The number of combinations are' ,count)"
   ]
  },
  {
   "cell_type": "code",
   "execution_count": 96,
   "id": "1280266e",
   "metadata": {
    "ExecuteTime": {
     "end_time": "2022-03-21T10:30:08.984094Z",
     "start_time": "2022-03-21T10:29:53.305729Z"
    }
   },
   "outputs": [
    {
     "name": "stdout",
     "output_type": "stream",
     "text": [
      "Enter the stringThis is the longest python assignment\n",
      "The length of the last word assignment is\n"
     ]
    },
    {
     "data": {
      "text/plain": [
       "10"
      ]
     },
     "execution_count": 96,
     "metadata": {},
     "output_type": "execute_result"
    }
   ],
   "source": [
    "#95. write a function to get the length of the last word only from a string seperated by space ex:('string of words') == 5 ex:('adasd ')=5\n",
    "def last_word_length():\n",
    "    instring1 = [str(x) for x in input('Enter the string').split()]\n",
    "    last_word = instring1.pop()\n",
    "    print(f'The length of the last word {last_word} is')\n",
    "    return len(last_word)\n",
    "    \n",
    "last_word_length()"
   ]
  },
  {
   "cell_type": "code",
   "execution_count": 97,
   "id": "d8e65b74",
   "metadata": {
    "ExecuteTime": {
     "end_time": "2022-03-21T10:30:18.435313Z",
     "start_time": "2022-03-21T10:30:18.422531Z"
    }
   },
   "outputs": [
    {
     "name": "stdout",
     "output_type": "stream",
     "text": [
      "Move disk 1 from source A to destination C\n",
      "Move disk 2 from source A to destination B\n",
      "Move disk 1 from source C to destination B\n",
      "Move disk 3 from source A to destination C\n",
      "Move disk 1 from source B to destination A\n",
      "Move disk 2 from source B to destination C\n",
      "Move disk 1 from source A to destination C\n",
      "Move disk 4 from source A to destination B\n",
      "Move disk 1 from source C to destination B\n",
      "Move disk 2 from source C to destination A\n",
      "Move disk 1 from source B to destination A\n",
      "Move disk 3 from source C to destination B\n",
      "Move disk 1 from source A to destination C\n",
      "Move disk 2 from source A to destination B\n",
      "Move disk 1 from source C to destination B\n"
     ]
    }
   ],
   "source": [
    "#96. write a program for a tower of hanoi puzzle\n",
    "\n",
    "def TowerOfHanoi(n , source, destination, auxiliary):\n",
    "    if n==1:\n",
    "        print (\"Move disk 1 from source\",source,\"to destination\",destination)\n",
    "        return\n",
    "    TowerOfHanoi(n-1, source, auxiliary, destination)\n",
    "    print (\"Move disk\",n,\"from source\",source,\"to destination\",destination)\n",
    "    TowerOfHanoi(n-1, auxiliary, destination, source)\n",
    "         \n",
    "n = 4\n",
    "TowerOfHanoi(n,'A','B','C')"
   ]
  },
  {
   "cell_type": "code",
   "execution_count": 98,
   "id": "c0b0dd94",
   "metadata": {
    "ExecuteTime": {
     "end_time": "2022-03-21T10:31:00.701626Z",
     "start_time": "2022-03-21T10:31:00.695052Z"
    }
   },
   "outputs": [
    {
     "name": "stdout",
     "output_type": "stream",
     "text": [
      "pi = 3.1416\n"
     ]
    }
   ],
   "source": [
    "#97. Use a for loop to estimate π from the first 20 terms of the Madhava series:\n",
    "import math\n",
    "pi = 0\n",
    "for k in range(20):\n",
    "    pi +=(pow(-3, -k) / (2*k+1))\n",
    "    \n",
    "pi *= math.sqrt(12)\n",
    "print(f'pi = %.4f' %pi)"
   ]
  },
  {
   "cell_type": "code",
   "execution_count": 99,
   "id": "d2e67725",
   "metadata": {
    "ExecuteTime": {
     "end_time": "2022-03-21T10:31:26.054536Z",
     "start_time": "2022-03-21T10:31:24.451823Z"
    }
   },
   "outputs": [
    {
     "name": "stdout",
     "output_type": "stream",
     "text": [
      "Enter a number21\n",
      "the number 21 is a harshad number\n"
     ]
    }
   ],
   "source": [
    "#98. write a function to check if the number is harshad or not A Harshad number is an integer that is divisible by the sum of its digits (for example, 21 is divisible by 2+1=3 and so is a Harshad number).\n",
    "def harshad_num():\n",
    "    num = [int(x) for x in input('Enter a number')]\n",
    "    s = sum(num)\n",
    "    num1 = one_number(num)\n",
    "    if (num1%s==0):\n",
    "        print(f'the number {num1} is a harshad number')\n",
    "    else:\n",
    "        print(f'{num1} not a harshad number' )\n",
    "    \n",
    "def one_number(numlist):\n",
    "    n = map(str, numlist)\n",
    "    n= ''.join(n)\n",
    "    n = int(n)\n",
    "    return n\n",
    "\n",
    "harshad_num()"
   ]
  },
  {
   "cell_type": "code",
   "execution_count": 100,
   "id": "a45c655f",
   "metadata": {
    "ExecuteTime": {
     "end_time": "2022-03-21T10:31:42.230054Z",
     "start_time": "2022-03-21T10:31:29.469674Z"
    }
   },
   "outputs": [
    {
     "name": "stdout",
     "output_type": "stream",
     "text": [
      "Enter the words separated by commaapple,mango,fence,jug\n"
     ]
    },
    {
     "data": {
      "text/plain": [
       "'jug'"
      ]
     },
     "execution_count": 100,
     "metadata": {},
     "output_type": "execute_result"
    }
   ],
   "source": [
    "#99. write a function select_word(): to get a random word from a list of words use module random and call random.randint() to chose random\n",
    "from random import randint\n",
    "\n",
    "def select_word():\n",
    "    word = [str(x) for x in input('Enter the words separated by comma').split(',')]\n",
    "    choice = randint(0,len(word))\n",
    "    return word[choice]\n",
    "\n",
    "select_word()"
   ]
  },
  {
   "cell_type": "code",
   "execution_count": 101,
   "id": "e3f4e768",
   "metadata": {
    "ExecuteTime": {
     "end_time": "2022-03-21T10:31:51.786846Z",
     "start_time": "2022-03-21T10:31:47.840862Z"
    }
   },
   "outputs": [
    {
     "name": "stdout",
     "output_type": "stream",
     "text": [
      "enter the wordrooster\n"
     ]
    },
    {
     "data": {
      "text/plain": [
       "'r_ _ _ _ _ _ '"
      ]
     },
     "execution_count": 101,
     "metadata": {},
     "output_type": "execute_result"
    }
   ],
   "source": [
    "#100. write a function blank(word): where it should print _ after first letter to the range of length of word i.e apple= a _ _ _ _\n",
    "def blank():\n",
    "    word = input('enter the word')\n",
    "    n= len(word)-1\n",
    "    blank_ = word[0]+(\"_ \")*n\n",
    "    return blank_\n",
    "\n",
    "blank()"
   ]
  },
  {
   "cell_type": "code",
   "execution_count": 102,
   "id": "95aa23c9",
   "metadata": {
    "ExecuteTime": {
     "end_time": "2022-03-21T10:33:26.332830Z",
     "start_time": "2022-03-21T10:31:58.168675Z"
    }
   },
   "outputs": [
    {
     "name": "stdout",
     "output_type": "stream",
     "text": [
      "you got so far c_______\n",
      "enter the next letter: h\n",
      "wrong try 4\n",
      "you got so far c_______\n",
      "enter the next letter: a\n",
      "you got so far ca_____a\n",
      "enter the next letter: l\n",
      "wrong try 3\n",
      "you got so far ca_____a\n",
      "enter the next letter: r\n",
      "you got so far ca_r___a\n",
      "enter the next letter: e\n",
      "you got so far ca_re__a\n",
      "enter the next letter: i\n",
      "wrong try 2\n",
      "you got so far ca_re__a\n",
      "enter the next letter: s\n",
      "wrong try 1\n",
      "you got so far ca_re__a\n",
      "enter the next letter: t\n",
      "you got so far ca_retta\n",
      "enter the next letter: p\n",
      "wrong try 0\n",
      "you got so far ca_retta\n",
      "you lost, it was cabretta\n"
     ]
    }
   ],
   "source": [
    "from random_word import RandomWords\n",
    "r = RandomWords()\n",
    "clue = \"\"\n",
    "\n",
    "def hang_man(word,clue,letter,try_left):\n",
    "    # create a variable \"try\" and set it to True\n",
    "    Try = True\n",
    "    #--------------------------------\n",
    "    # loop through the length of the word,\n",
    "    for i in range(len(word)):\n",
    "        # check condition if word is equal to letter\n",
    "        #the set clue= clue from 0 to current index of loop + letter + clue from current index +1 to last\n",
    "        if(word[i] == letter):\n",
    "            clue = clue[:i] + letter + clue[i+1:]\n",
    "            #set try to false\n",
    "            Try = False\n",
    "    #---------------------------------------------------\n",
    "    # check condition if try is true then decrease the try_left by 1\n",
    "    if(Try):\n",
    "        try_left -= 1\n",
    "        print(\"wrong try\", try_left)\n",
    "    print(\"you got so far\",clue)\n",
    "    \n",
    "    # check if word is equal to clue:\n",
    "    if(word == clue):\n",
    "        print(\"you win\")\n",
    "    # check is try_left is 0:\n",
    "    elif(not try_left):\n",
    "        print(\"you lost, it was\", word)\n",
    "    else:\n",
    "        # ask user to input next letter\n",
    "        next_letter=input(\"enter the next letter: \")\n",
    "        # call the recursive function of itself\n",
    "        hang_man(word,clue,next_letter,try_left)\n",
    "\n",
    "word = r.get_random_word()\n",
    "clue = ''.join([\"_\" for i in range(0,len(word))])\n",
    "hang_man(word,clue,word[0],5)"
   ]
  },
  {
   "cell_type": "code",
   "execution_count": null,
   "id": "76c49e40",
   "metadata": {
    "ExecuteTime": {
     "end_time": "2022-03-20T09:49:56.707737Z",
     "start_time": "2022-03-20T09:39:07.048Z"
    }
   },
   "outputs": [],
   "source": [
    "#!pip install random-word"
   ]
  },
  {
   "cell_type": "code",
   "execution_count": 1,
   "id": "3481e895",
   "metadata": {
    "ExecuteTime": {
     "end_time": "2022-03-21T10:35:13.803436Z",
     "start_time": "2022-03-21T10:35:13.797292Z"
    }
   },
   "outputs": [
    {
     "name": "stdout",
     "output_type": "stream",
     "text": [
      "[10, 15, 20, 25, 30]\n"
     ]
    }
   ],
   "source": [
    "#102. write a map function which calculate the list multiple of 5: eg: x == [ 2, 3, 4, 5, 6] y == [10, 15, 20, 25, 30]\n",
    "\n",
    "x = [2,3,4,5,6]    \n",
    "y = map(lambda x:x*5,x)\n",
    "print(list(y))\n"
   ]
  },
  {
   "cell_type": "code",
   "execution_count": 2,
   "id": "22c3f0e4",
   "metadata": {
    "ExecuteTime": {
     "end_time": "2022-03-21T10:35:20.509748Z",
     "start_time": "2022-03-21T10:35:20.502888Z"
    }
   },
   "outputs": [
    {
     "name": "stdout",
     "output_type": "stream",
     "text": [
      "[15, 25, 35]\n"
     ]
    }
   ],
   "source": [
    "#103. write a map function which multiply the odd values by 5 and add them to the list\n",
    "x = [2,3,4,5,6,7,8]\n",
    "\n",
    "y = map(lambda x:x*5 if (x%2!=0) else x == None,x)\n",
    "print([item for item in list(y) if item!=False])"
   ]
  },
  {
   "cell_type": "code",
   "execution_count": 3,
   "id": "05f46378",
   "metadata": {
    "ExecuteTime": {
     "end_time": "2022-03-21T10:35:27.687388Z",
     "start_time": "2022-03-21T10:35:27.682027Z"
    }
   },
   "outputs": [
    {
     "name": "stdout",
     "output_type": "stream",
     "text": [
      "[[6, 7], [7, 8], [8, 9]]\n"
     ]
    }
   ],
   "source": [
    "#104. write a map function to get: x=[2,3,4] y=[4,5] ans: z=[[6,7],[7,8],[8,9]]\n",
    "\n",
    "x = [2,3,4]\n",
    "y =[4,5]\n",
    "z = [[x[i]+y[j] for j in range(len(y))] for i in range(len(x))]\n",
    "print(z)\n",
    "\n",
    "        "
   ]
  },
  {
   "cell_type": "code",
   "execution_count": 4,
   "id": "e79a7104",
   "metadata": {
    "ExecuteTime": {
     "end_time": "2022-03-21T10:35:29.726865Z",
     "start_time": "2022-03-21T10:35:29.720597Z"
    }
   },
   "outputs": [
    {
     "name": "stdout",
     "output_type": "stream",
     "text": [
      "[1, 2, 3, 4, 5, 6, 7, 8, 9]\n"
     ]
    }
   ],
   "source": [
    "#105 & 106. write a function to convert a z list to 1d list : use reduce\n",
    "from functools import reduce\n",
    "z_list = [[1, 2, 3],\n",
    "            [4, 5, 6],\n",
    "            [7, 8, 9]]\n",
    "\n",
    "oned_list = reduce(lambda a,b:a+b,z_list)\n",
    "print(oned_list)"
   ]
  },
  {
   "cell_type": "code",
   "execution_count": 25,
   "id": "3d2b0b13",
   "metadata": {
    "ExecuteTime": {
     "end_time": "2022-03-21T20:42:13.981401Z",
     "start_time": "2022-03-21T20:42:13.974160Z"
    }
   },
   "outputs": [
    {
     "name": "stdout",
     "output_type": "stream",
     "text": [
      "[5, 7, 9]\n"
     ]
    }
   ],
   "source": [
    "#107. write a function using a type annotations which take a two vector a and b which calculate the vector sum eg: [1,2,3]+[4,5,6]=[5,7,9]\n",
    "a = [1,2,3]\n",
    "b= [4,5,6]\n",
    "def add(a : list,b : list) ->list:\n",
    "    c :list = map(sum,zip(a,b))\n",
    "    print(list(c))\n",
    "\n",
    "add(a,b)\n"
   ]
  },
  {
   "cell_type": "code",
   "execution_count": 26,
   "id": "1c912d2f",
   "metadata": {
    "ExecuteTime": {
     "end_time": "2022-03-21T20:42:23.357237Z",
     "start_time": "2022-03-21T20:42:23.351554Z"
    }
   },
   "outputs": [
    {
     "name": "stdout",
     "output_type": "stream",
     "text": [
      "32\n"
     ]
    }
   ],
   "source": [
    "#108. write a function which using a type annotation to calculate te dot product of two vector\n",
    "a= [1,2,3]\n",
    "b=[4,5,6]\n",
    "\n",
    "def dotprd(a:list,b:list)->list:\n",
    "    c:list = sum([x*y for x,y in zip(a,b)])\n",
    "    print(c)\n",
    "\n",
    "dotprd(a,b)"
   ]
  },
  {
   "cell_type": "code",
   "execution_count": 34,
   "id": "18f0caa2",
   "metadata": {
    "ExecuteTime": {
     "end_time": "2022-03-21T21:14:42.869328Z",
     "start_time": "2022-03-21T21:14:42.860609Z"
    }
   },
   "outputs": [
    {
     "data": {
      "text/plain": [
       "[9, 12]"
      ]
     },
     "execution_count": 34,
     "metadata": {},
     "output_type": "execute_result"
    }
   ],
   "source": [
    "#109. write a function to calculate the sum of vector which take a list of vector using type annotation eg:[1,2],[3,4],[5,6]=[9,12]\n",
    "from typing import List\n",
    "\n",
    "x = [1,2]\n",
    "y =[3,4]\n",
    "z=[5,6]\n",
    "\n",
    "def sumofvectors(lists : List[list]) ->list:\n",
    "    res =[0]*len(lists[0])\n",
    "    for l in lists:\n",
    "        res = [item1+item2 for item1,item2 in zip(res,l)]\n",
    "    return res\n",
    "\n",
    "    \n",
    "sumofvectors([x,y,z])\n"
   ]
  },
  {
   "cell_type": "code",
   "execution_count": 30,
   "id": "670de6be",
   "metadata": {
    "ExecuteTime": {
     "end_time": "2022-03-21T21:13:09.561912Z",
     "start_time": "2022-03-21T21:13:09.558662Z"
    }
   },
   "outputs": [],
   "source": [
    "#!pip install typing"
   ]
  },
  {
   "cell_type": "code",
   "execution_count": 39,
   "id": "1b604934",
   "metadata": {
    "ExecuteTime": {
     "end_time": "2022-03-21T21:35:10.250202Z",
     "start_time": "2022-03-21T21:35:10.241667Z"
    }
   },
   "outputs": [
    {
     "data": {
      "text/plain": [
       "(2, 2)"
      ]
     },
     "execution_count": 39,
     "metadata": {},
     "output_type": "execute_result"
    }
   ],
   "source": [
    "#110. write a function to get the shape of a matrix also use type annotation: eg:`[[1,2],[2,3]]`=`(2,2)`\n",
    "from typing import Tuple\n",
    "Matrix =List[list[float]]\n",
    "\n",
    "x = [[1,2],[2,3]]\n",
    "\n",
    "\n",
    "def shapeOfMatrix(M:Matrix)->Tuple[int,int]:\n",
    "    return (len(M),len(M[0]))\n",
    "\n",
    "shapeOfMatrix(x)"
   ]
  },
  {
   "cell_type": "code",
   "execution_count": 38,
   "id": "ee79ee11",
   "metadata": {
    "ExecuteTime": {
     "end_time": "2022-03-21T21:31:38.960343Z",
     "start_time": "2022-03-21T21:31:38.947090Z"
    }
   },
   "outputs": [
    {
     "data": {
      "text/plain": [
       "[[1, 0, 0], [0, 1, 0], [0, 0, 1]]"
      ]
     },
     "execution_count": 38,
     "metadata": {},
     "output_type": "execute_result"
    }
   ],
   "source": [
    "#111. write a functions to create a matrix and used function to crete a 3*3 identity matrix : hint:use a Callable from typing\n",
    "\n",
    "from typing import Callable\n",
    "# Creating type alias for a matrix\n",
    "Matrix = List[List[float]]\n",
    "\n",
    "def matrixer(num_rows: int, num_cols: int, entry_fn: Callable[[int, int], float]) -> Matrix:\n",
    "    return [[entry_fn(i, j) for j in range(num_cols)] for i in range(num_rows)]\n",
    "\n",
    "def identity_matrix(n: int) -> Matrix:\n",
    "    return matrixer(n, n, lambda i, j: 1 if i == j else 0)\n",
    "\n",
    "identity_matrix(3)\n",
    "\n"
   ]
  },
  {
   "cell_type": "markdown",
   "id": "ffaf6fcd",
   "metadata": {},
   "source": [
    "[callable from typing](https://www.humaneer.org/blog/creating-matrices-in-python-tutorial/)"
   ]
  },
  {
   "cell_type": "code",
   "execution_count": 41,
   "id": "ae60efd9",
   "metadata": {
    "ExecuteTime": {
     "end_time": "2022-03-21T22:19:14.700893Z",
     "start_time": "2022-03-21T22:19:14.695273Z"
    }
   },
   "outputs": [],
   "source": [
    "#112. reber_ grammar\n",
    "\n",
    "reber_grammar = [[(\"B\",1)], [(\"T\",2),(\"P\",3),(\"S\",2),(\"X\",4),\n",
    "                        (\"T\",3),(\"V\",5),(\"X\",3),(\"S\",6),(\"P\",4),(\"V\",6),(\"E\",None)]]"
   ]
  },
  {
   "cell_type": "code",
   "execution_count": 87,
   "id": "c581e960",
   "metadata": {
    "ExecuteTime": {
     "end_time": "2022-03-25T13:36:50.301468Z",
     "start_time": "2022-03-25T13:36:47.119542Z"
    }
   },
   "outputs": [
    {
     "name": "stdout",
     "output_type": "stream",
     "text": [
      "Enter the length of password: 20\n"
     ]
    },
    {
     "data": {
      "text/plain": [
       "'V8jbq1}=K<0l4CP^IX>Xz0'"
      ]
     },
     "execution_count": 87,
     "metadata": {},
     "output_type": "execute_result"
    }
   ],
   "source": [
    "#113 write a function to generate a password :\n",
    "#password should have a number,special_char,alphabet(both capital and small)\n",
    "#allow user to input the length of password\n",
    "\n",
    "import string\n",
    "import random\n",
    "\n",
    "\n",
    "def password():\n",
    "    pwd_len = int(input('Enter the length of password: '))\n",
    "    Bchar_len = int(0.35*pwd_len)\n",
    "    Schar_len = int(0.25*pwd_len)\n",
    "    numb_len = int(0.25*pwd_len)\n",
    "    splchar_len = int(0.25*pwd_len)\n",
    "    Bchar = [random.choice(string.ascii_uppercase) for i in range(Bchar_len) ]\n",
    "    Schar = [random.choice(string.ascii_lowercase) for i in range(Schar_len) ]\n",
    "    numb = [random.choice(string.digits) for i in range(numb_len) ]\n",
    "    splchar = [random.choice(string.punctuation) for i in range(splchar_len) ]\n",
    "    pwd = Bchar+Schar+numb+splchar   \n",
    "    random.shuffle(pwd)\n",
    "    return ''.join(pwd)\n",
    "   \n",
    "\n",
    "password()\n",
    "\n",
    "    "
   ]
  },
  {
   "cell_type": "code",
   "execution_count": 86,
   "id": "832034ce",
   "metadata": {
    "ExecuteTime": {
     "end_time": "2022-03-25T13:32:38.229010Z",
     "start_time": "2022-03-25T13:32:36.477481Z"
    }
   },
   "outputs": [
    {
     "name": "stdout",
     "output_type": "stream",
     "text": [
      "Enter a maximal number5\n",
      "The values satisfying pythagorean to target 5  is  (3, 4)\n"
     ]
    }
   ],
   "source": [
    "#114. write a function to get the integers satisfying a2+b2=c2 called Pythagorean numbers.\n",
    "#the function take a input from a user with a maximal number: eg: if user give: 5 it should print (3,4) similarly:10 3 ,4 6,8\n",
    "\n",
    "def pythagorean(lst,c):\n",
    "    n = len(lst)\n",
    "    for a in range(1,n):\n",
    "        for b in range(a+1,n):\n",
    "            if (lst[a]**2+lst[b]**2 == c**2):\n",
    "                print('The values satisfying pythagorean to target',c,' is ',(lst[a],lst[b]))\n",
    "                \n",
    "\n",
    "c = int(input('Enter a maximal number'))\n",
    "lst = list(range(1,(c**2)+1))\n",
    "pythagorean(lst,c)\n"
   ]
  },
  {
   "cell_type": "markdown",
   "id": "1d2e86f4",
   "metadata": {},
   "source": [
    "115: write a program to guess a random number between range 1 to n\n",
    "\n",
    "hint use random.randit() to generate a random number\n",
    "the program should have upper bound and lower bound eg(1-30)\n",
    "if user give 0 should exit the program\n",
    "if the guess is less thean lower or grater than upper (\"not in boundary)"
   ]
  },
  {
   "cell_type": "code",
   "execution_count": 120,
   "id": "141c556f",
   "metadata": {
    "ExecuteTime": {
     "end_time": "2022-03-25T20:21:32.182596Z",
     "start_time": "2022-03-25T20:21:16.945736Z"
    }
   },
   "outputs": [
    {
     "name": "stdout",
     "output_type": "stream",
     "text": [
      "Enter upper limit30\n",
      "Enter lower limit1\n",
      "Enter a number5\n",
      "wrong, try again\n",
      "try remaining 3\n",
      "Enter a number again7\n",
      "wrong, try again\n",
      "try remaining 2\n",
      "Enter a number again3\n",
      "wrong, try again\n",
      "try remaining 1\n",
      "Enter a number again6\n",
      "wrong, try again\n",
      "try remaining 0\n",
      "Enter a number again8\n",
      "You lost. The number is  4\n"
     ]
    }
   ],
   "source": [
    "def random_guess(n,guess,try_left):\n",
    "            if guess==0:\n",
    "                return 'Program exitted'\n",
    "            elif guess>upper and guess<lower:\n",
    "                print('Checking the boundry..')\n",
    "                return 'not in boundary'\n",
    "            else:\n",
    "                if guess == n:\n",
    "                    print('Number correct',guess,'\\nThe computer generated: ',n)\n",
    "                    \n",
    "                elif(not try_left):\n",
    "                    print('You lost. The number is ',n)\n",
    "                \n",
    "                else:\n",
    "                    print('wrong, try again')\n",
    "                    try_left-=1\n",
    "                    print('try remaining',try_left)\n",
    "                    guess = int(input('Enter a number again'))\n",
    "                    random_guess(n,guess,try_left)\n",
    "\n",
    "\n",
    "\n",
    "upper = int(input('Enter upper limit'))\n",
    "lower = int(input('Enter lower limit'))\n",
    "n=random.randint(lower,upper)\n",
    "guess = int(input('Enter a number'))\n",
    "random_guess(n,guess,4)\n",
    "    "
   ]
  },
  {
   "cell_type": "markdown",
   "id": "7890461a",
   "metadata": {},
   "source": [
    "116: Write a function which takes a text and encrypts it with a Caesar cipher as well as decrypt.(https://en.wikipedia.org/wiki/Caesar_cipher) .\n",
    "\n",
    "input:\"hello\",\n",
    "output: encrypt:EBIIL\n",
    "decyprt: HELLO"
   ]
  },
  {
   "cell_type": "code",
   "execution_count": 147,
   "id": "7f8d74d4",
   "metadata": {
    "ExecuteTime": {
     "end_time": "2022-03-25T21:19:47.188984Z",
     "start_time": "2022-03-25T21:19:41.813207Z"
    }
   },
   "outputs": [
    {
     "name": "stdout",
     "output_type": "stream",
     "text": [
      "Enter the message to be encrpytedHello\n",
      "Enter the shift value3\n",
      "The encrpyted message:  Ebiil\n",
      "The decrpyted message:  Hello\n"
     ]
    }
   ],
   "source": [
    "def encrpyt(word,shift):    #ord returns the unicode of the character\n",
    "    cipher=[]               #chr returns the character corresponding to the unicode. lower and uppercase letters have the same unicode\n",
    "    for ch in word:\n",
    "        n = ord(ch)\n",
    "        n=n-shift\n",
    "        if n>ord('z'):\n",
    "            n=n+26\n",
    "        cipher_letter = chr(n)\n",
    "        cipher.append(cipher_letter)\n",
    "    return ''.join(cipher)\n",
    "\n",
    "def decrpyt(word,shift):\n",
    "    decipher=[]\n",
    "    for ch in word:\n",
    "        n = ord(ch)\n",
    "        n=n+shift\n",
    "        if n>ord('z'):\n",
    "            n=n+26\n",
    "        decipher_letter = chr(n)\n",
    "        decipher.append(decipher_letter)\n",
    "    return ''.join(decipher)\n",
    "\n",
    "\n",
    "message = str(input(\"Enter the message to be encrpyted\"))\n",
    "shift = int(input('Enter the shift value'))\n",
    "encrpyted = encrpyt(message,shift)\n",
    "decrpyted = decrpyt(encrpyted,shift)\n",
    "print('The encrpyted message: ',encrpyted)\n",
    "print('The decrpyted message: ',decrpyted)\n",
    "\n"
   ]
  },
  {
   "cell_type": "code",
   "execution_count": null,
   "id": "05813715",
   "metadata": {},
   "outputs": [],
   "source": [
    "new_dict = dict([(value, key) for key, value in old_dict.items()])"
   ]
  },
  {
   "cell_type": "code",
   "execution_count": 95,
   "id": "48120dee",
   "metadata": {},
   "outputs": [
    {
     "name": "stdout",
     "output_type": "stream",
     "text": [
      "Python --> .--. -.-- - .... --- -. --> PYTHON\n"
     ]
    }
   ],
   "source": [
    "#118: Write a function which translates a text to morse code\n",
    "morse_dict = {'A':'.-', 'B':'-...', 'C':'-.-.', 'D':'-..', \n",
    "      'E':'.', 'F':'..-.', 'G':'--.','H':'....', 'I':'..','J':'.---','K':'-.-','L':'.-..','M':'--','N':'-.','O':'---',\n",
    "      'P':'.--.','Q':'--.-','R':'.-.','S':'...','T':'-','U':'..-','V':'...-','W':'.--','X':'-..-','Y':'-.--','Z':'--..',\n",
    "      1:'.----',2:'..---',3:'...--',4:'....-',5:'.....',6:'-....',7:'--...',8:'---..',9:'----.',0:'-----'}\n",
    "\n",
    "string_dict = dict([(value,key) for key,value in morse_dict.items()])\n",
    "\n",
    "def morse_code(morse_dict,text):\n",
    "    text=text.upper()\n",
    "    return ' '.join([morse_dict[ch] for ch in text])\n",
    "\n",
    "def message(string_dict,code):\n",
    "    code = code.split()\n",
    "    return ''.join([string_dict[chr] for chr in code])\n",
    "\n",
    "text = 'Python'\n",
    "enc = morse_code(morse_dict,text)\n",
    "dec= message(string_dict,enc)\n",
    "print(text,'-->',enc,'-->',dec)"
   ]
  },
  {
   "cell_type": "code",
   "execution_count": 151,
   "id": "dad067c1",
   "metadata": {
    "ExecuteTime": {
     "end_time": "2022-03-25T22:06:56.422943Z",
     "start_time": "2022-03-25T22:06:49.290020Z"
    }
   },
   "outputs": [
    {
     "name": "stdout",
     "output_type": "stream",
     "text": [
      "Enter the number to find the squareroot: 125678\n",
      "Enter the first guess400\n",
      "Difference : Squareroot\n",
      "34322.0 : 400.0\n",
      "1840.6245 : 357.0975\n",
      "6.642 : 354.5203\n",
      "0.0001 : 354.5109\n"
     ]
    }
   ],
   "source": [
    "#118. Write a program to calculate the square root of a number by using the Babylonian method.(https://en.wikipedia.org/wiki/Methods_of_computing_square_roots)\n",
    "number = abs(float(input('Enter the number to find the squareroot: ')))\n",
    "guess = abs(float(input('Enter the first guess')))\n",
    "epsilon = 0.001\n",
    "print('Difference : Squareroot')\n",
    "while(True):\n",
    "    difference = guess**2 - number\n",
    "    print('{} : {}'.format(round(difference,4),round(guess,4)))\n",
    "    if abs(difference)<=epsilon:\n",
    "        break\n",
    "    guess = (guess + number/guess)/2.0\n",
    "    \n",
    "    \n"
   ]
  },
  {
   "cell_type": "markdown",
   "id": "68c03b74",
   "metadata": {},
   "source": [
    "The Babylonian Method states that if the previous guess, xn, is an overestimate of the square root of a number, S, then a more precise next guess, xn+1, is the average of the previous guess and the number divided by the previous guess.\n",
    "\n",
    "xn+1 = ( xn + S / xn ) / 2"
   ]
  },
  {
   "cell_type": "code",
   "execution_count": 164,
   "id": "4fd78bc0",
   "metadata": {
    "ExecuteTime": {
     "end_time": "2022-03-26T11:46:34.553666Z",
     "start_time": "2022-03-26T11:46:33.212899Z"
    }
   },
   "outputs": [
    {
     "name": "stdout",
     "output_type": "stream",
     "text": [
      "Enter the number: 7\n",
      "Multiple of  1 = 7\n",
      "Multiple of  2 = 14\n",
      "Multiple of  3 = 21\n",
      "Multiple of  4 = 28\n",
      "Multiple of  5 = 35\n",
      "Multiple of  6 = 42\n",
      "Multiple of  7 = 49\n",
      "Multiple of  8 = 56\n",
      "Multiple of  9 = 63\n",
      "Multiple of  10 = 70\n"
     ]
    }
   ],
   "source": [
    "def multiple(N,n):\n",
    "    if n>10:\n",
    "        return\n",
    "    else:\n",
    "        print('Multiple of ',n,'=', N*n)\n",
    "        return multiple(N,n+1)\n",
    "N=int(input('Enter the number: '))\n",
    "multiple(N,1)"
   ]
  },
  {
   "cell_type": "code",
   "execution_count": 206,
   "id": "f71f8f9b",
   "metadata": {
    "ExecuteTime": {
     "end_time": "2022-03-27T07:56:44.544039Z",
     "start_time": "2022-03-27T07:56:42.369308Z"
    }
   },
   "outputs": [
    {
     "name": "stdout",
     "output_type": "stream",
     "text": [
      "Enter the number of rows in pascal's traingle: 10\n",
      "  1\n",
      "\n",
      "  1  1\n",
      "\n",
      "  1  2  1\n",
      "\n",
      "  1  3  3  1\n",
      "\n",
      "  1  4  6  4  1\n",
      "\n",
      "  1  5  10  10  5  1\n",
      "\n",
      "  1  6  15  20  15  6  1\n",
      "\n",
      "  1  7  21  35  35  21  7  1\n",
      "\n",
      "  1  8  28  56  70  56  28  8  1\n",
      "\n",
      "  1  9  36  84  126  126  84  36  9  1\n",
      "\n"
     ]
    }
   ],
   "source": [
    "#121. Write a function which implements the Pascal's triangle use recursion\n",
    "\n",
    "from math import factorial\n",
    "\n",
    "def pascal(N):\n",
    "    for i in range(N):\n",
    "        for j in range(i+1):\n",
    "            k = factorial(i)/(factorial(j)*factorial(i-j))\n",
    "            print(' ',int(k),end='')\n",
    "        print('\\n')\n",
    "\n",
    "N = int(input(\"Enter the number of rows in pascal's traingle: \"))\n",
    "pascal(N)\n",
    "    \n",
    "\n",
    "    "
   ]
  },
  {
   "cell_type": "code",
   "execution_count": 202,
   "id": "bad195ce",
   "metadata": {
    "ExecuteTime": {
     "end_time": "2022-03-26T21:57:01.405354Z",
     "start_time": "2022-03-26T21:57:01.401672Z"
    }
   },
   "outputs": [],
   "source": [
    "import sys\n",
    "sys.setrecursionlimit(1500)"
   ]
  },
  {
   "cell_type": "code",
   "execution_count": 208,
   "id": "de8f4d1c",
   "metadata": {
    "ExecuteTime": {
     "end_time": "2022-03-27T08:07:03.772213Z",
     "start_time": "2022-03-27T08:07:03.762129Z"
    }
   },
   "outputs": [
    {
     "name": "stdout",
     "output_type": "stream",
     "text": [
      "var1 :\n",
      "Data type is iterable\n",
      "var2 :\n",
      "Data type is iterable\n",
      "var3 :\n",
      "Data type is iterable\n",
      "var4 :\n",
      "Data type not iterable\n"
     ]
    }
   ],
   "source": [
    "#123: write a fuction to check if the given data type are iterable or not ?\n",
    "def checker(target):\n",
    "    try:\n",
    "        iter(target)\n",
    "    except TypeError:\n",
    "        print('Data type not iterable')\n",
    "    else:\n",
    "        print('Data type is iterable')\n",
    "\n",
    "var1 = [1,2,3,4]\n",
    "var2 =(2,5,'var',7)\n",
    "var3 = 'Checking'\n",
    "var4 = 5\n",
    "print('var1 :')\n",
    "checker(var1)\n",
    "print('var2 :')\n",
    "checker(var2)\n",
    "print('var3 :')\n",
    "checker(var3)\n",
    "print('var4 :')\n",
    "checker(var4)\n"
   ]
  },
  {
   "cell_type": "markdown",
   "id": "ad2993f8",
   "metadata": {},
   "source": [
    "124: Write a generator which computes the running average.\n",
    "\n",
    "    eg:[1,2,3,4,5,6]\n",
    "        1-->1\n",
    "        2---->1.50\n",
    "        3----->2\n",
    "        4----->2.50\n",
    "        5---->3\n",
    "        6---->3.50"
   ]
  },
  {
   "cell_type": "code",
   "execution_count": 24,
   "id": "a5c995f3",
   "metadata": {},
   "outputs": [
    {
     "data": {
      "text/plain": [
       "<generator object moving_average at 0x7f8c24316c10>"
      ]
     },
     "execution_count": 24,
     "metadata": {},
     "output_type": "execute_result"
    }
   ],
   "source": [
    "import numpy as np\n",
    "\n",
    "def moving_average(x,N):\n",
    "    yield np.convolve(x, np.ones(N)/N, mode='valid')\n",
    "    \n",
    "arr = [1,2,3,4,5,6]\n",
    "window=2\n",
    "moving_average(arr,window)"
   ]
  },
  {
   "cell_type": "markdown",
   "id": "3a319bde",
   "metadata": {},
   "source": [
    "[moving average in python](https://stackoverflow.com/questions/13728392/moving-average-or-running-mean)"
   ]
  },
  {
   "cell_type": "code",
   "execution_count": 25,
   "id": "4a132a1a",
   "metadata": {},
   "outputs": [
    {
     "data": {
      "text/plain": [
       "[array([1.5, 2.5, 3.5, 4.5, 5.5])]"
      ]
     },
     "execution_count": 25,
     "metadata": {},
     "output_type": "execute_result"
    }
   ],
   "source": [
    "list(moving_average(arr,window))"
   ]
  },
  {
   "cell_type": "markdown",
   "id": "a822ea79",
   "metadata": {},
   "source": [
    "127: Write a generator cycle performing the same task.\n",
    "\n",
    "- cycle('ABCD') --> A B C D A B C D A B C D ..."
   ]
  },
  {
   "cell_type": "code",
   "execution_count": 33,
   "id": "083c54cd",
   "metadata": {},
   "outputs": [],
   "source": [
    "def cycle(word):\n",
    "    count=1\n",
    "    while True:\n",
    "        yield word*count\n",
    "        count+=1"
   ]
  },
  {
   "cell_type": "code",
   "execution_count": 39,
   "id": "4a0cd225",
   "metadata": {},
   "outputs": [
    {
     "data": {
      "text/plain": [
       "'ABCD'"
      ]
     },
     "execution_count": 39,
     "metadata": {},
     "output_type": "execute_result"
    }
   ],
   "source": [
    "gen = cycle('ABCD')"
   ]
  },
  {
   "cell_type": "code",
   "execution_count": 46,
   "id": "a4b903fa",
   "metadata": {},
   "outputs": [
    {
     "data": {
      "text/plain": [
       "'ABCDABCDABCDABCDABCDABCDABCDABCD'"
      ]
     },
     "execution_count": 46,
     "metadata": {},
     "output_type": "execute_result"
    }
   ],
   "source": [
    "next(gen)"
   ]
  },
  {
   "cell_type": "markdown",
   "id": "73070484",
   "metadata": {},
   "source": [
    "126:Write a generator which returns  a zero or a one in every iteration. \n",
    "- The probability p for returning a 1 is defined in a variable p.\n",
    "- default value of probability=0.5. In other words,1 and 0 will be returned with the same probability."
   ]
  },
  {
   "cell_type": "code",
   "execution_count": 52,
   "id": "69c97bbb",
   "metadata": {},
   "outputs": [],
   "source": [
    "import random\n",
    "def proba(data,probability):\n",
    "    count=1\n",
    "    while True:\n",
    "     num = random.choices(data,probability)\n",
    "     yield num\n",
    "     count+=1\n",
    "\n",
    "\n",
    "gen2= proba([0,1],[0.5,0.5])"
   ]
  },
  {
   "cell_type": "code",
   "execution_count": 56,
   "id": "0b8e28cd",
   "metadata": {},
   "outputs": [
    {
     "data": {
      "text/plain": [
       "[0]"
      ]
     },
     "execution_count": 56,
     "metadata": {},
     "output_type": "execute_result"
    }
   ],
   "source": [
    "#first generation\n",
    "next(gen2)"
   ]
  },
  {
   "cell_type": "code",
   "execution_count": 57,
   "id": "5f878bbd",
   "metadata": {},
   "outputs": [
    {
     "data": {
      "text/plain": [
       "[1]"
      ]
     },
     "execution_count": 57,
     "metadata": {},
     "output_type": "execute_result"
    }
   ],
   "source": [
    "#second generation\n",
    "next(gen2)"
   ]
  },
  {
   "cell_type": "code",
   "execution_count": 58,
   "id": "60d4bacb",
   "metadata": {},
   "outputs": [
    {
     "data": {
      "text/plain": [
       "[0]"
      ]
     },
     "execution_count": 58,
     "metadata": {},
     "output_type": "execute_result"
    }
   ],
   "source": [
    "#third generation\n",
    "next(gen2)"
   ]
  },
  {
   "cell_type": "code",
   "execution_count": 59,
   "id": "b9037472",
   "metadata": {},
   "outputs": [
    {
     "data": {
      "text/plain": [
       "[1]"
      ]
     },
     "execution_count": 59,
     "metadata": {},
     "output_type": "execute_result"
    }
   ],
   "source": [
    "next(gen2)"
   ]
  },
  {
   "cell_type": "code",
   "execution_count": 68,
   "id": "9a94e93d",
   "metadata": {},
   "outputs": [
    {
     "name": "stdout",
     "output_type": "stream",
     "text": [
      "Temp in Farahenheit : 89.60\n"
     ]
    }
   ],
   "source": [
    "#130: write a nested function to calulate the temp from celcius to farhen\n",
    "def outer(C):\n",
    "    def inner():\n",
    "        f = (C*1.8)+32\n",
    "        print(f'Temp in Farahenheit : %.2f' %f)\n",
    "    inner()\n",
    "\n",
    "C = float(input('Enter the temperature in celcius'))\n",
    "outer(C)"
   ]
  },
  {
   "cell_type": "markdown",
   "id": "11eb0a0d",
   "metadata": {},
   "source": [
    "131:Write a nested  function so that it can work for polynomials of arbitrary degree:\n",
    "\n",
    "\\begin{equation}\n",
    "\\sum_{k=0}^{n} a_{k} \\cdot x^{k}=a_{n} \\cdot x^{n}+a_{n-1} \\cdot x^{n-1}+\\ldots+a_{2} \\cdot x^{2}+a_{1} \\cdot x+a_{0}\n",
    "\\end{equation}"
   ]
  },
  {
   "cell_type": "code",
   "execution_count": 71,
   "id": "9193cab7",
   "metadata": {},
   "outputs": [
    {
     "data": {
      "text/plain": [
       "49"
      ]
     },
     "execution_count": 71,
     "metadata": {},
     "output_type": "execute_result"
    }
   ],
   "source": [
    "def equation(a,x):\n",
    "    def calculation(const,x,k):\n",
    "        return const*(x**k)\n",
    "    summation=0\n",
    "    for k in range(len(a)):\n",
    "        summation +=calculation(a[k],x,k)   \n",
    "    return summation\n",
    "\n",
    "equation([1,2,3,4],2)     "
   ]
  },
  {
   "cell_type": "code",
   "execution_count": 74,
   "id": "37665044",
   "metadata": {},
   "outputs": [
    {
     "name": "stdout",
     "output_type": "stream",
     "text": [
      "Enter a positive number\n",
      "The factorial is  None\n"
     ]
    }
   ],
   "source": [
    "#132:write a decorator so that the argument passed is. positive integer for a function factorial that you have created before\n",
    "def positive_checker(num):\n",
    "    def wrapper(num):\n",
    "        if num>0:\n",
    "            return num\n",
    "        else:\n",
    "            print('Enter a positive number')\n",
    "    return wrapper\n",
    "    \n",
    "@positive_checker        \n",
    "def recursive(num):\n",
    "    if num==1:\n",
    "        return num\n",
    "    else:\n",
    "        return num*recursive(num-1)\n",
    "\n",
    "num = int(input('Enter a number: '))\n",
    "print('The factorial is ',recursive(num))\n"
   ]
  },
  {
   "cell_type": "code",
   "execution_count": 87,
   "id": "3b3f78df",
   "metadata": {},
   "outputs": [
    {
     "name": "stdout",
     "output_type": "stream",
     "text": [
      "round  0\n",
      "round  1\n",
      "round  2\n",
      "round  3\n",
      "round  4\n",
      "round  5\n",
      "round  6\n",
      "round  7\n",
      "round  8\n",
      "round  9\n",
      "counted successfully\n"
     ]
    }
   ],
   "source": [
    "#133:write a decorator to count the number of times a function has beeen called . eg\n",
    "#define a add function and loop it for 10 time and check\n",
    "\n",
    "def call_checker(f):\n",
    "    def inner_wrap(*args,**kwargs):\n",
    "        inner_wrap.count+=1\n",
    "        return f(*args,**kwargs)\n",
    "    inner_wrap.count=0\n",
    "    return inner_wrap()\n",
    "\n",
    "@call_checker\n",
    "def call_function():\n",
    "    for i in range(10):\n",
    "        print('round ',i)\n",
    "        \n",
    "try:\n",
    "    call_function()\n",
    "except TypeError:\n",
    "    print('Ignored.counted successfully')        "
   ]
  },
  {
   "cell_type": "code",
   "execution_count": null,
   "id": "7e28514c",
   "metadata": {},
   "outputs": [],
   "source": []
  }
 ],
 "metadata": {
  "kernelspec": {
   "display_name": "Python 3",
   "language": "python",
   "name": "python3"
  },
  "language_info": {
   "codemirror_mode": {
    "name": "ipython",
    "version": 3
   },
   "file_extension": ".py",
   "mimetype": "text/x-python",
   "name": "python",
   "nbconvert_exporter": "python",
   "pygments_lexer": "ipython3",
   "version": "3.9.7"
  },
  "toc": {
   "base_numbering": 1,
   "nav_menu": {},
   "number_sections": true,
   "sideBar": true,
   "skip_h1_title": false,
   "title_cell": "Table of Contents",
   "title_sidebar": "Contents",
   "toc_cell": false,
   "toc_position": {},
   "toc_section_display": true,
   "toc_window_display": false
  },
  "varInspector": {
   "cols": {
    "lenName": 16,
    "lenType": 16,
    "lenVar": 40
   },
   "kernels_config": {
    "python": {
     "delete_cmd_postfix": "",
     "delete_cmd_prefix": "del ",
     "library": "var_list.py",
     "varRefreshCmd": "print(var_dic_list())"
    },
    "r": {
     "delete_cmd_postfix": ") ",
     "delete_cmd_prefix": "rm(",
     "library": "var_list.r",
     "varRefreshCmd": "cat(var_dic_list()) "
    }
   },
   "types_to_exclude": [
    "module",
    "function",
    "builtin_function_or_method",
    "instance",
    "_Feature"
   ],
   "window_display": false
  }
 },
 "nbformat": 4,
 "nbformat_minor": 5
}
