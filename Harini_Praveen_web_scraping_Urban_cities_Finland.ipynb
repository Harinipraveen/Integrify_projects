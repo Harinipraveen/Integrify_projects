{
 "cells": [
  {
   "cell_type": "markdown",
   "id": "4f80f35b",
   "metadata": {},
   "source": [
    "## Importing necessary libraries"
   ]
  },
  {
   "cell_type": "code",
   "execution_count": 1,
   "id": "c9c77947",
   "metadata": {
    "ExecuteTime": {
     "end_time": "2022-05-04T19:30:28.807774Z",
     "start_time": "2022-05-04T19:30:20.147220Z"
    }
   },
   "outputs": [],
   "source": [
    "import pandas as pd\n",
    "import numpy as np\n",
    "import requests\n",
    "from bs4 import BeautifulSoup\n",
    "import warnings\n",
    "warnings.simplefilter('ignore',FutureWarning)"
   ]
  },
  {
   "cell_type": "code",
   "execution_count": 2,
   "id": "af9e973f",
   "metadata": {
    "ExecuteTime": {
     "end_time": "2022-05-04T19:30:41.513311Z",
     "start_time": "2022-05-04T19:30:28.810762Z"
    }
   },
   "outputs": [],
   "source": [
    "import matplotlib.pyplot as plt\n",
    "import seaborn as sns\n",
    "sns.set_theme(style=\"whitegrid\")\n",
    "#%matplotlib nbagg\n",
    "#%matplotlib widget"
   ]
  },
  {
   "cell_type": "markdown",
   "id": "e71bfbf1",
   "metadata": {},
   "source": [
    "## Web scraping the wikipedia page for list of urban areas in Finland by population"
   ]
  },
  {
   "cell_type": "code",
   "execution_count": 3,
   "id": "c400467b",
   "metadata": {
    "ExecuteTime": {
     "end_time": "2022-05-04T19:30:42.510108Z",
     "start_time": "2022-05-04T19:30:41.517035Z"
    }
   },
   "outputs": [],
   "source": [
    "html = requests.get('https://en.wikipedia.org/wiki/List_of_urban_areas_in_Finland_by_population')"
   ]
  },
  {
   "cell_type": "code",
   "execution_count": 4,
   "id": "89f6d7e7",
   "metadata": {
    "ExecuteTime": {
     "end_time": "2022-05-04T19:30:42.519291Z",
     "start_time": "2022-05-04T19:30:42.514102Z"
    }
   },
   "outputs": [
    {
     "name": "stdout",
     "output_type": "stream",
     "text": [
      "<Response [200]>\n"
     ]
    }
   ],
   "source": [
    "#request successful\n",
    "print(html)"
   ]
  },
  {
   "cell_type": "code",
   "execution_count": 5,
   "id": "6d473300",
   "metadata": {
    "ExecuteTime": {
     "end_time": "2022-05-04T19:30:42.776869Z",
     "start_time": "2022-05-04T19:30:42.522335Z"
    }
   },
   "outputs": [],
   "source": [
    "# creating a instance of beautiful soup\n",
    "soup = BeautifulSoup(html.text,'html.parser')"
   ]
  },
  {
   "cell_type": "code",
   "execution_count": 6,
   "id": "588035cd",
   "metadata": {
    "ExecuteTime": {
     "end_time": "2022-05-04T19:30:42.862330Z",
     "start_time": "2022-05-04T19:30:42.779491Z"
    }
   },
   "outputs": [],
   "source": [
    "#print(soup.prettify())"
   ]
  },
  {
   "cell_type": "markdown",
   "id": "e9a4f6b9",
   "metadata": {},
   "source": [
    "## Creating dataframe from the urban cities table"
   ]
  },
  {
   "cell_type": "code",
   "execution_count": 7,
   "id": "0a90e044",
   "metadata": {
    "ExecuteTime": {
     "end_time": "2022-05-04T19:30:42.990968Z",
     "start_time": "2022-05-04T19:30:42.865125Z"
    }
   },
   "outputs": [],
   "source": [
    "# selecting all the available tables from the web page\n",
    "urban_cities_finland=soup.select('table', class_= 'wikitable sortable')"
   ]
  },
  {
   "cell_type": "code",
   "execution_count": 8,
   "id": "b8959a86",
   "metadata": {
    "ExecuteTime": {
     "end_time": "2022-05-04T19:30:43.189171Z",
     "start_time": "2022-05-04T19:30:42.995067Z"
    }
   },
   "outputs": [
    {
     "data": {
      "text/plain": [
       "8"
      ]
     },
     "execution_count": 8,
     "metadata": {},
     "output_type": "execute_result"
    }
   ],
   "source": [
    "# number of tables available\n",
    "len(urban_cities_finland)"
   ]
  },
  {
   "cell_type": "code",
   "execution_count": 9,
   "id": "0f9eab3b",
   "metadata": {
    "ExecuteTime": {
     "end_time": "2022-05-04T19:30:43.307621Z",
     "start_time": "2022-05-04T19:30:43.193076Z"
    }
   },
   "outputs": [],
   "source": [
    "# We are interested in the first table which is the list of urban cities in finland\n",
    "urban_table = urban_cities_finland[0]"
   ]
  },
  {
   "cell_type": "code",
   "execution_count": 10,
   "id": "cfa7b4fb",
   "metadata": {
    "ExecuteTime": {
     "end_time": "2022-05-04T19:30:43.519912Z",
     "start_time": "2022-05-04T19:30:43.310503Z"
    }
   },
   "outputs": [],
   "source": [
    "#extracting the headers of the table as columns of the data frame\n",
    "headers = urban_table.find_all('th')\n",
    "columnnames = [h.get_text().replace('\\n','') for h in headers]"
   ]
  },
  {
   "cell_type": "code",
   "execution_count": 11,
   "id": "ef1a7938",
   "metadata": {
    "ExecuteTime": {
     "end_time": "2022-05-04T19:30:43.748867Z",
     "start_time": "2022-05-04T19:30:43.523165Z"
    }
   },
   "outputs": [],
   "source": [
    "# Creating an empty dataframe with the columns extracted from the table headers\n",
    "urban_data = pd.DataFrame(columns=columnnames)"
   ]
  },
  {
   "cell_type": "code",
   "execution_count": 12,
   "id": "6668d020",
   "metadata": {
    "ExecuteTime": {
     "end_time": "2022-05-04T19:30:43.854285Z",
     "start_time": "2022-05-04T19:30:43.753290Z"
    }
   },
   "outputs": [],
   "source": [
    "#finding all the table rows\n",
    "rows = urban_table.find_all('tr')"
   ]
  },
  {
   "cell_type": "code",
   "execution_count": 13,
   "id": "84f2495e",
   "metadata": {
    "ExecuteTime": {
     "end_time": "2022-05-04T19:30:45.683578Z",
     "start_time": "2022-05-04T19:30:43.861884Z"
    }
   },
   "outputs": [],
   "source": [
    "#for each of the table row, we will extract the table data, convert to the pandas series and append to our dataframe\n",
    "for i in range(len(rows)):\n",
    "    tds = rows[i].find_all('td')\n",
    "    \n",
    "# checking if the number of cell data is same as number of columns.. i.e checking and omitting missing data \n",
    "\n",
    "    if len(tds) == len(columnnames):\n",
    "        values = [td.get_text().replace('\\n','').replace('\\xa0', ' ') for td in tds]\n",
    "        urban_data = urban_data.append(pd.Series(values,index=columnnames), ignore_index=True)"
   ]
  },
  {
   "cell_type": "markdown",
   "id": "4a3d72e1",
   "metadata": {},
   "source": [
    "## Saving it as CSV file"
   ]
  },
  {
   "cell_type": "code",
   "execution_count": 14,
   "id": "8730591b",
   "metadata": {
    "ExecuteTime": {
     "end_time": "2022-05-04T19:30:45.797734Z",
     "start_time": "2022-05-04T19:30:45.686187Z"
    }
   },
   "outputs": [
    {
     "data": {
      "text/html": [
       "<div>\n",
       "<style scoped>\n",
       "    .dataframe tbody tr th:only-of-type {\n",
       "        vertical-align: middle;\n",
       "    }\n",
       "\n",
       "    .dataframe tbody tr th {\n",
       "        vertical-align: top;\n",
       "    }\n",
       "\n",
       "    .dataframe thead th {\n",
       "        text-align: right;\n",
       "    }\n",
       "</style>\n",
       "<table border=\"1\" class=\"dataframe\">\n",
       "  <thead>\n",
       "    <tr style=\"text-align: right;\">\n",
       "      <th></th>\n",
       "      <th>Rank</th>\n",
       "      <th>Urban area</th>\n",
       "      <th>Population</th>\n",
       "      <th>Area (km²)</th>\n",
       "      <th>Density (pop. per km²)</th>\n",
       "    </tr>\n",
       "  </thead>\n",
       "  <tbody>\n",
       "    <tr>\n",
       "      <th>0</th>\n",
       "      <td>1</td>\n",
       "      <td>Helsinki</td>\n",
       "      <td>1,305,893</td>\n",
       "      <td>682.91</td>\n",
       "      <td>1,912.2</td>\n",
       "    </tr>\n",
       "    <tr>\n",
       "      <th>1</th>\n",
       "      <td>2</td>\n",
       "      <td>Tampere</td>\n",
       "      <td>341,696</td>\n",
       "      <td>279.37</td>\n",
       "      <td>1,223.1</td>\n",
       "    </tr>\n",
       "    <tr>\n",
       "      <th>2</th>\n",
       "      <td>3</td>\n",
       "      <td>Turku</td>\n",
       "      <td>277,677</td>\n",
       "      <td>283.27</td>\n",
       "      <td>980.3</td>\n",
       "    </tr>\n",
       "    <tr>\n",
       "      <th>3</th>\n",
       "      <td>4</td>\n",
       "      <td>Oulu</td>\n",
       "      <td>205,137</td>\n",
       "      <td>203.25</td>\n",
       "      <td>1,009.3</td>\n",
       "    </tr>\n",
       "    <tr>\n",
       "      <th>4</th>\n",
       "      <td>5</td>\n",
       "      <td>Jyväskylä</td>\n",
       "      <td>128,911</td>\n",
       "      <td>111.22</td>\n",
       "      <td>1,159.1</td>\n",
       "    </tr>\n",
       "  </tbody>\n",
       "</table>\n",
       "</div>"
      ],
      "text/plain": [
       "  Rank Urban area Population Area (km²) Density (pop. per km²)\n",
       "0    1   Helsinki  1,305,893     682.91                1,912.2\n",
       "1    2    Tampere    341,696     279.37                1,223.1\n",
       "2    3      Turku    277,677     283.27                  980.3\n",
       "3    4       Oulu    205,137     203.25                1,009.3\n",
       "4    5  Jyväskylä    128,911     111.22                1,159.1"
      ]
     },
     "execution_count": 14,
     "metadata": {},
     "output_type": "execute_result"
    }
   ],
   "source": [
    "#printing the head of dataframe\n",
    "urban_data.head()"
   ]
  },
  {
   "cell_type": "code",
   "execution_count": 15,
   "id": "86ec2720",
   "metadata": {
    "ExecuteTime": {
     "end_time": "2022-05-04T19:30:45.891929Z",
     "start_time": "2022-05-04T19:30:45.800516Z"
    }
   },
   "outputs": [],
   "source": [
    "#saving it to csv file locally\n",
    "urban_data.to_csv('urban_data.csv')"
   ]
  },
  {
   "cell_type": "markdown",
   "id": "09acd21c",
   "metadata": {},
   "source": [
    "## Importing csv file created and perfoming basic data processing"
   ]
  },
  {
   "cell_type": "code",
   "execution_count": 16,
   "id": "77df2ee8",
   "metadata": {
    "ExecuteTime": {
     "end_time": "2022-05-04T19:30:46.107362Z",
     "start_time": "2022-05-04T19:30:45.895223Z"
    }
   },
   "outputs": [],
   "source": [
    "#importing the csv file\n",
    "df = pd.read_csv('urban_data.csv')"
   ]
  },
  {
   "cell_type": "code",
   "execution_count": 17,
   "id": "eb992c08",
   "metadata": {
    "ExecuteTime": {
     "end_time": "2022-05-04T19:30:46.242492Z",
     "start_time": "2022-05-04T19:30:46.122258Z"
    }
   },
   "outputs": [
    {
     "data": {
      "text/html": [
       "<div>\n",
       "<style scoped>\n",
       "    .dataframe tbody tr th:only-of-type {\n",
       "        vertical-align: middle;\n",
       "    }\n",
       "\n",
       "    .dataframe tbody tr th {\n",
       "        vertical-align: top;\n",
       "    }\n",
       "\n",
       "    .dataframe thead th {\n",
       "        text-align: right;\n",
       "    }\n",
       "</style>\n",
       "<table border=\"1\" class=\"dataframe\">\n",
       "  <thead>\n",
       "    <tr style=\"text-align: right;\">\n",
       "      <th></th>\n",
       "      <th>Unnamed: 0</th>\n",
       "      <th>Rank</th>\n",
       "      <th>Urban area</th>\n",
       "      <th>Population</th>\n",
       "      <th>Area (km²)</th>\n",
       "      <th>Density (pop. per km²)</th>\n",
       "    </tr>\n",
       "  </thead>\n",
       "  <tbody>\n",
       "    <tr>\n",
       "      <th>0</th>\n",
       "      <td>0</td>\n",
       "      <td>1</td>\n",
       "      <td>Helsinki</td>\n",
       "      <td>1,305,893</td>\n",
       "      <td>682.91</td>\n",
       "      <td>1,912.2</td>\n",
       "    </tr>\n",
       "    <tr>\n",
       "      <th>1</th>\n",
       "      <td>1</td>\n",
       "      <td>2</td>\n",
       "      <td>Tampere</td>\n",
       "      <td>341,696</td>\n",
       "      <td>279.37</td>\n",
       "      <td>1,223.1</td>\n",
       "    </tr>\n",
       "    <tr>\n",
       "      <th>2</th>\n",
       "      <td>2</td>\n",
       "      <td>3</td>\n",
       "      <td>Turku</td>\n",
       "      <td>277,677</td>\n",
       "      <td>283.27</td>\n",
       "      <td>980.3</td>\n",
       "    </tr>\n",
       "    <tr>\n",
       "      <th>3</th>\n",
       "      <td>3</td>\n",
       "      <td>4</td>\n",
       "      <td>Oulu</td>\n",
       "      <td>205,137</td>\n",
       "      <td>203.25</td>\n",
       "      <td>1,009.3</td>\n",
       "    </tr>\n",
       "    <tr>\n",
       "      <th>4</th>\n",
       "      <td>4</td>\n",
       "      <td>5</td>\n",
       "      <td>Jyväskylä</td>\n",
       "      <td>128,911</td>\n",
       "      <td>111.22</td>\n",
       "      <td>1,159.1</td>\n",
       "    </tr>\n",
       "  </tbody>\n",
       "</table>\n",
       "</div>"
      ],
      "text/plain": [
       "   Unnamed: 0  Rank Urban area Population  Area (km²) Density (pop. per km²)\n",
       "0           0     1   Helsinki  1,305,893      682.91                1,912.2\n",
       "1           1     2    Tampere    341,696      279.37                1,223.1\n",
       "2           2     3      Turku    277,677      283.27                  980.3\n",
       "3           3     4       Oulu    205,137      203.25                1,009.3\n",
       "4           4     5  Jyväskylä    128,911      111.22                1,159.1"
      ]
     },
     "execution_count": 17,
     "metadata": {},
     "output_type": "execute_result"
    }
   ],
   "source": [
    "df.head()"
   ]
  },
  {
   "cell_type": "code",
   "execution_count": 18,
   "id": "8996139f",
   "metadata": {
    "ExecuteTime": {
     "end_time": "2022-05-04T19:30:46.431665Z",
     "start_time": "2022-05-04T19:30:46.245587Z"
    }
   },
   "outputs": [
    {
     "data": {
      "text/plain": [
       "Index(['Unnamed: 0', 'Rank', 'Urban area', 'Population', 'Area (km²)',\n",
       "       'Density (pop. per km²)'],\n",
       "      dtype='object')"
      ]
     },
     "execution_count": 18,
     "metadata": {},
     "output_type": "execute_result"
    }
   ],
   "source": [
    "#inspecting names of the columns\n",
    "df.columns"
   ]
  },
  {
   "cell_type": "code",
   "execution_count": 19,
   "id": "2abb802a",
   "metadata": {
    "ExecuteTime": {
     "end_time": "2022-05-04T19:30:46.570890Z",
     "start_time": "2022-05-04T19:30:46.434670Z"
    }
   },
   "outputs": [],
   "source": [
    "#dropping unwanted column\n",
    "df.drop(columns=['Unnamed: 0'],inplace=True)\n",
    "df.rename(columns={'Area (km²)':'Area','Density (pop. per km²)':'Density'},inplace=True)\n",
    "df.columns = df.columns.str.lower()"
   ]
  },
  {
   "cell_type": "code",
   "execution_count": 20,
   "id": "92dbd30a",
   "metadata": {
    "ExecuteTime": {
     "end_time": "2022-05-04T19:30:46.776758Z",
     "start_time": "2022-05-04T19:30:46.573342Z"
    }
   },
   "outputs": [
    {
     "data": {
      "text/html": [
       "<div>\n",
       "<style scoped>\n",
       "    .dataframe tbody tr th:only-of-type {\n",
       "        vertical-align: middle;\n",
       "    }\n",
       "\n",
       "    .dataframe tbody tr th {\n",
       "        vertical-align: top;\n",
       "    }\n",
       "\n",
       "    .dataframe thead th {\n",
       "        text-align: right;\n",
       "    }\n",
       "</style>\n",
       "<table border=\"1\" class=\"dataframe\">\n",
       "  <thead>\n",
       "    <tr style=\"text-align: right;\">\n",
       "      <th></th>\n",
       "      <th>rank</th>\n",
       "      <th>area</th>\n",
       "    </tr>\n",
       "  </thead>\n",
       "  <tbody>\n",
       "    <tr>\n",
       "      <th>count</th>\n",
       "      <td>100.000000</td>\n",
       "      <td>100.000000</td>\n",
       "    </tr>\n",
       "    <tr>\n",
       "      <th>mean</th>\n",
       "      <td>50.500000</td>\n",
       "      <td>43.026600</td>\n",
       "    </tr>\n",
       "    <tr>\n",
       "      <th>std</th>\n",
       "      <td>29.011492</td>\n",
       "      <td>78.747647</td>\n",
       "    </tr>\n",
       "    <tr>\n",
       "      <th>min</th>\n",
       "      <td>1.000000</td>\n",
       "      <td>3.030000</td>\n",
       "    </tr>\n",
       "    <tr>\n",
       "      <th>25%</th>\n",
       "      <td>25.750000</td>\n",
       "      <td>16.065000</td>\n",
       "    </tr>\n",
       "    <tr>\n",
       "      <th>50%</th>\n",
       "      <td>50.500000</td>\n",
       "      <td>21.390000</td>\n",
       "    </tr>\n",
       "    <tr>\n",
       "      <th>75%</th>\n",
       "      <td>75.250000</td>\n",
       "      <td>40.165000</td>\n",
       "    </tr>\n",
       "    <tr>\n",
       "      <th>max</th>\n",
       "      <td>100.000000</td>\n",
       "      <td>682.910000</td>\n",
       "    </tr>\n",
       "  </tbody>\n",
       "</table>\n",
       "</div>"
      ],
      "text/plain": [
       "             rank        area\n",
       "count  100.000000  100.000000\n",
       "mean    50.500000   43.026600\n",
       "std     29.011492   78.747647\n",
       "min      1.000000    3.030000\n",
       "25%     25.750000   16.065000\n",
       "50%     50.500000   21.390000\n",
       "75%     75.250000   40.165000\n",
       "max    100.000000  682.910000"
      ]
     },
     "execution_count": 20,
     "metadata": {},
     "output_type": "execute_result"
    }
   ],
   "source": [
    "df.describe()"
   ]
  },
  {
   "cell_type": "code",
   "execution_count": 21,
   "id": "091eb1ae",
   "metadata": {
    "ExecuteTime": {
     "end_time": "2022-05-04T19:30:47.207377Z",
     "start_time": "2022-05-04T19:30:46.779551Z"
    }
   },
   "outputs": [
    {
     "name": "stdout",
     "output_type": "stream",
     "text": [
      "<class 'pandas.core.frame.DataFrame'>\n",
      "RangeIndex: 100 entries, 0 to 99\n",
      "Data columns (total 5 columns):\n",
      " #   Column      Non-Null Count  Dtype  \n",
      "---  ------      --------------  -----  \n",
      " 0   rank        100 non-null    int64  \n",
      " 1   urban area  100 non-null    object \n",
      " 2   population  100 non-null    object \n",
      " 3   area        100 non-null    float64\n",
      " 4   density     100 non-null    object \n",
      "dtypes: float64(1), int64(1), object(3)\n",
      "memory usage: 4.0+ KB\n"
     ]
    }
   ],
   "source": [
    "# checking the type of all columns. Population and Density are not in correct format.\n",
    "df.info()"
   ]
  },
  {
   "cell_type": "code",
   "execution_count": 22,
   "id": "b37b5610",
   "metadata": {
    "ExecuteTime": {
     "end_time": "2022-05-04T19:30:47.215727Z",
     "start_time": "2022-05-04T19:30:47.210368Z"
    }
   },
   "outputs": [],
   "source": [
    "#converting the data type of the columns to float\n",
    "df['population'] = df['population'].str.replace(',','').astype(float)\n",
    "df['density'] = df['density'].str.replace(',','').astype(float)"
   ]
  },
  {
   "cell_type": "code",
   "execution_count": 23,
   "id": "35a07f34",
   "metadata": {
    "ExecuteTime": {
     "end_time": "2022-05-04T19:30:47.340171Z",
     "start_time": "2022-05-04T19:30:47.225639Z"
    }
   },
   "outputs": [
    {
     "name": "stdout",
     "output_type": "stream",
     "text": [
      "<class 'pandas.core.frame.DataFrame'>\n",
      "RangeIndex: 100 entries, 0 to 99\n",
      "Data columns (total 5 columns):\n",
      " #   Column      Non-Null Count  Dtype  \n",
      "---  ------      --------------  -----  \n",
      " 0   rank        100 non-null    int64  \n",
      " 1   urban area  100 non-null    object \n",
      " 2   population  100 non-null    float64\n",
      " 3   area        100 non-null    float64\n",
      " 4   density     100 non-null    float64\n",
      "dtypes: float64(3), int64(1), object(1)\n",
      "memory usage: 4.0+ KB\n"
     ]
    }
   ],
   "source": [
    "df.info()"
   ]
  },
  {
   "cell_type": "code",
   "execution_count": 24,
   "id": "74ed8913",
   "metadata": {
    "ExecuteTime": {
     "end_time": "2022-05-04T19:30:47.497872Z",
     "start_time": "2022-05-04T19:30:47.345910Z"
    }
   },
   "outputs": [],
   "source": [
    "df.sort_values(by=['population'],ascending=False,inplace=True)"
   ]
  },
  {
   "cell_type": "markdown",
   "id": "fbb2c8b1",
   "metadata": {},
   "source": [
    "## Basic data analysing"
   ]
  },
  {
   "cell_type": "markdown",
   "id": "050c7aad",
   "metadata": {},
   "source": [
    "### Histogram distribution"
   ]
  },
  {
   "cell_type": "code",
   "execution_count": 25,
   "id": "c6199d17",
   "metadata": {
    "ExecuteTime": {
     "end_time": "2022-05-04T19:30:49.032658Z",
     "start_time": "2022-05-04T19:30:47.500267Z"
    },
    "scrolled": true
   },
   "outputs": [
    {
     "data": {
      "image/png": "[encoded data removed]",
      "text/plain": [
       "<Figure size 1080x360 with 3 Axes>"
      ]
     },
     "metadata": {},
     "output_type": "display_data"
    }
   ],
   "source": [
    "f, ax = plt.subplots(figsize=(15, 5),ncols=3)\n",
    "sns.histplot(data=df['population'],bins=25, ax=ax[0])\n",
    "sns.histplot(data=df['density'],bins=25,ax=ax[1])\n",
    "sns.histplot(data=df['area'],bins=25,ax=ax[2])\n",
    "plt.tight_layout()\n",
    "plt.show()"
   ]
  },
  {
   "cell_type": "markdown",
   "id": "b0602c40",
   "metadata": {},
   "source": [
    " * The distribution of values in the density column is better when compared to population and area.\n",
    " * Most of the cities' population are close to zero when compared with densely populated city Helsinki\n",
    " * There is huge difference in population between the less populated and densly populated cities."
   ]
  },
  {
   "cell_type": "markdown",
   "id": "5ed0977c",
   "metadata": {},
   "source": [
    "### Most populous city"
   ]
  },
  {
   "cell_type": "code",
   "execution_count": 26,
   "id": "9aa736c9",
   "metadata": {
    "ExecuteTime": {
     "end_time": "2022-05-04T19:30:49.875228Z",
     "start_time": "2022-05-04T19:30:49.035164Z"
    },
    "scrolled": true
   },
   "outputs": [
    {
     "data": {
      "image/png": "[encoded data removed]",
      "text/plain": [
       "<Figure size 1080x360 with 2 Axes>"
      ]
     },
     "metadata": {},
     "output_type": "display_data"
    }
   ],
   "source": [
    "f, ax = plt.subplots(figsize=(15, 5),ncols=2)\n",
    "sns.barplot(x='urban area',y='density',data=df[:11],ax=ax[0],dodge=False)\n",
    "ax[0].set_xticklabels(df['urban area'][:11],rotation=45)\n",
    "ax[0].set_title('10 most populated cities')\n",
    "\n",
    "sns.barplot(x='urban area',y='density',data=df[90:],ax=ax[1],dodge=True)\n",
    "ax[1].set_xticklabels(df['urban area'][90:],rotation=45)\n",
    "ax[1].set_title('10 least populated cities')\n",
    "plt.show()"
   ]
  },
  {
   "cell_type": "markdown",
   "id": "2117ae6c",
   "metadata": {},
   "source": [
    "* 3/4th of the population dwells in Helsinki, while Suonenjoki has the least population in Finland\n",
    "* Helsinki and Vuores has the same density( pop per sq km) while the square area of vuores (94th rank) is approximately 200 times smaller than Helsinki (1st rank)"
   ]
  },
  {
   "cell_type": "code",
   "execution_count": 27,
   "id": "1d922c75",
   "metadata": {
    "ExecuteTime": {
     "end_time": "2022-05-04T19:30:49.892459Z",
     "start_time": "2022-05-04T19:30:49.877920Z"
    }
   },
   "outputs": [
    {
     "data": {
      "text/html": [
       "<div>\n",
       "<style scoped>\n",
       "    .dataframe tbody tr th:only-of-type {\n",
       "        vertical-align: middle;\n",
       "    }\n",
       "\n",
       "    .dataframe tbody tr th {\n",
       "        vertical-align: top;\n",
       "    }\n",
       "\n",
       "    .dataframe thead th {\n",
       "        text-align: right;\n",
       "    }\n",
       "</style>\n",
       "<table border=\"1\" class=\"dataframe\">\n",
       "  <thead>\n",
       "    <tr style=\"text-align: right;\">\n",
       "      <th></th>\n",
       "      <th>rank</th>\n",
       "      <th>urban area</th>\n",
       "      <th>population</th>\n",
       "      <th>area</th>\n",
       "      <th>density</th>\n",
       "    </tr>\n",
       "  </thead>\n",
       "  <tbody>\n",
       "    <tr>\n",
       "      <th>0</th>\n",
       "      <td>1</td>\n",
       "      <td>Helsinki</td>\n",
       "      <td>1305893.0</td>\n",
       "      <td>682.91</td>\n",
       "      <td>1912.2</td>\n",
       "    </tr>\n",
       "  </tbody>\n",
       "</table>\n",
       "</div>"
      ],
      "text/plain": [
       "   rank urban area  population    area  density\n",
       "0     1   Helsinki   1305893.0  682.91   1912.2"
      ]
     },
     "execution_count": 27,
     "metadata": {},
     "output_type": "execute_result"
    }
   ],
   "source": [
    "df.loc[df['urban area']=='Helsinki']"
   ]
  },
  {
   "cell_type": "code",
   "execution_count": 28,
   "id": "4471847c",
   "metadata": {
    "ExecuteTime": {
     "end_time": "2022-05-04T19:30:50.036972Z",
     "start_time": "2022-05-04T19:30:49.895491Z"
    }
   },
   "outputs": [
    {
     "data": {
      "text/html": [
       "<div>\n",
       "<style scoped>\n",
       "    .dataframe tbody tr th:only-of-type {\n",
       "        vertical-align: middle;\n",
       "    }\n",
       "\n",
       "    .dataframe tbody tr th {\n",
       "        vertical-align: top;\n",
       "    }\n",
       "\n",
       "    .dataframe thead th {\n",
       "        text-align: right;\n",
       "    }\n",
       "</style>\n",
       "<table border=\"1\" class=\"dataframe\">\n",
       "  <thead>\n",
       "    <tr style=\"text-align: right;\">\n",
       "      <th></th>\n",
       "      <th>rank</th>\n",
       "      <th>urban area</th>\n",
       "      <th>population</th>\n",
       "      <th>area</th>\n",
       "      <th>density</th>\n",
       "    </tr>\n",
       "  </thead>\n",
       "  <tbody>\n",
       "    <tr>\n",
       "      <th>93</th>\n",
       "      <td>94</td>\n",
       "      <td>Vuores</td>\n",
       "      <td>5355.0</td>\n",
       "      <td>3.03</td>\n",
       "      <td>1767.3</td>\n",
       "    </tr>\n",
       "  </tbody>\n",
       "</table>\n",
       "</div>"
      ],
      "text/plain": [
       "    rank urban area  population  area  density\n",
       "93    94     Vuores      5355.0  3.03   1767.3"
      ]
     },
     "execution_count": 28,
     "metadata": {},
     "output_type": "execute_result"
    }
   ],
   "source": [
    "df.loc[df['urban area']=='Vuores']"
   ]
  },
  {
   "cell_type": "markdown",
   "id": "26421cf1",
   "metadata": {},
   "source": [
    "### Area (km^2)"
   ]
  },
  {
   "cell_type": "code",
   "execution_count": 29,
   "id": "87879b96",
   "metadata": {
    "ExecuteTime": {
     "end_time": "2022-05-04T19:30:51.594925Z",
     "start_time": "2022-05-04T19:30:50.039856Z"
    }
   },
   "outputs": [
    {
     "data": {
      "image/png": "[encoded data removed]",
      "text/plain": [
       "<Figure size 476.725x360 with 1 Axes>"
      ]
     },
     "metadata": {},
     "output_type": "display_data"
    }
   ],
   "source": [
    "sns.relplot(data = df[:11], x='population',y='area',hue='urban area',size= 'population',sizes=(20,100))\n",
    "plt.show()\n"
   ]
  },
  {
   "cell_type": "markdown",
   "id": "12fd858d",
   "metadata": {},
   "source": [
    "* The above plot shows the top 10 urban areas in relation with population and square area of the city"
   ]
  },
  {
   "cell_type": "code",
   "execution_count": 30,
   "id": "a4397532",
   "metadata": {
    "ExecuteTime": {
     "end_time": "2022-05-04T19:30:51.830095Z",
     "start_time": "2022-05-04T19:30:51.597614Z"
    }
   },
   "outputs": [
    {
     "data": {
      "image/png": "[encoded data removed]",
      "text/plain": [
       "<Figure size 432x288 with 1 Axes>"
      ]
     },
     "metadata": {},
     "output_type": "display_data"
    }
   ],
   "source": [
    "data = df['area'][:10]\n",
    "labels = df['urban area'][:10]\n",
    "colors = sns.color_palette('pastel')[0:10]\n",
    "\n",
    "plt.title('Area in Sq km2 of 10 largest cities in Finland',loc='center',y=1.4)\n",
    "plt.pie(data, labels = labels, colors = colors,radius=2,autopct='%.0f%%',pctdistance=0.8)\n",
    "plt.show()"
   ]
  },
  {
   "cell_type": "markdown",
   "id": "c55d09cf",
   "metadata": {},
   "source": [
    "* Helsinki is the largest city in Finland, followed by Turku,Tampere and Oulu"
   ]
  },
  {
   "cell_type": "markdown",
   "id": "3a38b10e",
   "metadata": {},
   "source": [
    "### correlation matrix"
   ]
  },
  {
   "cell_type": "code",
   "execution_count": 31,
   "id": "1b59030a",
   "metadata": {
    "ExecuteTime": {
     "end_time": "2022-05-04T19:30:52.244269Z",
     "start_time": "2022-05-04T19:30:51.833676Z"
    }
   },
   "outputs": [
    {
     "data": {
      "image/png": "[encoded data removed]",
      "text/plain": [
       "<Figure size 432x288 with 2 Axes>"
      ]
     },
     "metadata": {},
     "output_type": "display_data"
    }
   ],
   "source": [
    "sns.heatmap(df.corr(),annot=True)\n",
    "plt.show()"
   ]
  },
  {
   "cell_type": "markdown",
   "id": "6f4030d5",
   "metadata": {},
   "source": [
    "* There is high correlation between area and population and moderate correlation between density of population per square km and square area of the city."
   ]
  },
  {
   "cell_type": "markdown",
   "id": "77f64cd5",
   "metadata": {},
   "source": [
    "## Conclusion"
   ]
  },
  {
   "cell_type": "markdown",
   "id": "a862f151",
   "metadata": {},
   "source": [
    "* The Highly populated cities are those with larger square area of the city. \n",
    "* Density( pop per sq km) gives a better idea of population than the total population in the city. \n",
    "* While there is huge variation in population between cities, the variation in density (pop per sq km) is evenly distributed. \n",
    "* Vuores and Helsinki have more or less the same density of population. Vuores has only area span of 3 km2 while Helsinki has a span of 682 km2.\n",
    "* Larger the area of the city, greater the population, since there is high correlation between these two variables"
   ]
  },
  {
   "cell_type": "code",
   "execution_count": null,
   "id": "f29a4db9",
   "metadata": {},
   "outputs": [],
   "source": []
  }
 ],
 "metadata": {
  "kernelspec": {
   "display_name": "Python 3",
   "language": "python",
   "name": "python3"
  },
  "language_info": {
   "codemirror_mode": {
    "name": "ipython",
    "version": 3
   },
   "file_extension": ".py",
   "mimetype": "text/x-python",
   "name": "python",
   "nbconvert_exporter": "python",
   "pygments_lexer": "ipython3",
   "version": "3.9.7"
  },
  "toc": {
   "base_numbering": 1,
   "nav_menu": {},
   "number_sections": true,
   "sideBar": true,
   "skip_h1_title": false,
   "title_cell": "Table of Contents",
   "title_sidebar": "Contents",
   "toc_cell": false,
   "toc_position": {},
   "toc_section_display": true,
   "toc_window_display": false
  },
  "varInspector": {
   "cols": {
    "lenName": 16,
    "lenType": 16,
    "lenVar": 40
   },
   "kernels_config": {
    "python": {
     "delete_cmd_postfix": "",
     "delete_cmd_prefix": "del ",
     "library": "var_list.py",
     "varRefreshCmd": "print(var_dic_list())"
    },
    "r": {
     "delete_cmd_postfix": ") ",
     "delete_cmd_prefix": "rm(",
     "library": "var_list.r",
     "varRefreshCmd": "cat(var_dic_list()) "
    }
   },
   "types_to_exclude": [
    "module",
    "function",
    "builtin_function_or_method",
    "instance",
    "_Feature"
   ],
   "window_display": false
  }
 },
 "nbformat": 4,
 "nbformat_minor": 5
}
