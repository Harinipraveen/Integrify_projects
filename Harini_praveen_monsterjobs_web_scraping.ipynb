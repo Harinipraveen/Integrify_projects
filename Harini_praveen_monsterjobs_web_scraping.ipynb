{
 "cells": [
  {
   "cell_type": "code",
   "execution_count": 238,
   "id": "3a770aff",
   "metadata": {
    "ExecuteTime": {
     "end_time": "2022-05-03T20:06:42.395300Z",
     "start_time": "2022-05-03T20:06:42.390610Z"
    }
   },
   "outputs": [],
   "source": [
    "import pandas as pd\n",
    "import numpy as np\n",
    "from bs4 import BeautifulSoup\n",
    "import requests"
   ]
  },
  {
   "cell_type": "code",
   "execution_count": 239,
   "id": "4bc39e09",
   "metadata": {
    "ExecuteTime": {
     "end_time": "2022-05-03T20:06:44.574127Z",
     "start_time": "2022-05-03T20:06:44.570747Z"
    }
   },
   "outputs": [],
   "source": [
    "monster_url = 'https://www.monster.fi/en/jobs?search=Data%20analyst&job_geo_location=Helsinki%2C%20Suomi&radius=50&Find_Jobs=Find%20Jobs&lat=60.16985569999999&lon=24.938379&country=Suomi&administrative_area_level_1=undefined'"
   ]
  },
  {
   "cell_type": "code",
   "execution_count": 240,
   "id": "bfb3585c",
   "metadata": {
    "ExecuteTime": {
     "end_time": "2022-05-03T20:06:46.681981Z",
     "start_time": "2022-05-03T20:06:45.512675Z"
    }
   },
   "outputs": [],
   "source": [
    "html = requests.get(monster_url)"
   ]
  },
  {
   "cell_type": "code",
   "execution_count": 241,
   "id": "796f17f3",
   "metadata": {
    "ExecuteTime": {
     "end_time": "2022-05-03T20:06:52.551503Z",
     "start_time": "2022-05-03T20:06:52.546834Z"
    }
   },
   "outputs": [
    {
     "name": "stdout",
     "output_type": "stream",
     "text": [
      "<Response [200]>\n"
     ]
    }
   ],
   "source": [
    "#response of the html request: 200 - successful, 404- page not found\n",
    "print(html)"
   ]
  },
  {
   "cell_type": "code",
   "execution_count": 242,
   "id": "1afaba32",
   "metadata": {
    "ExecuteTime": {
     "end_time": "2022-05-03T20:06:53.670167Z",
     "start_time": "2022-05-03T20:06:53.545648Z"
    }
   },
   "outputs": [],
   "source": [
    "jobs = BeautifulSoup(html.content,'html.parser')"
   ]
  },
  {
   "cell_type": "code",
   "execution_count": 243,
   "id": "41d2124d",
   "metadata": {
    "ExecuteTime": {
     "end_time": "2022-05-03T20:06:54.401980Z",
     "start_time": "2022-05-03T20:06:54.399085Z"
    }
   },
   "outputs": [],
   "source": [
    "#print(jobs.prettify())"
   ]
  },
  {
   "cell_type": "code",
   "execution_count": 244,
   "id": "0179135c",
   "metadata": {
    "ExecuteTime": {
     "end_time": "2022-05-03T20:06:55.292402Z",
     "start_time": "2022-05-03T20:06:55.275564Z"
    }
   },
   "outputs": [],
   "source": [
    "#using selector to select the page content\n",
    "listings = jobs.select('div.view-content')[0]"
   ]
  },
  {
   "cell_type": "code",
   "execution_count": 245,
   "id": "554f54f7",
   "metadata": {
    "ExecuteTime": {
     "end_time": "2022-05-03T20:06:56.144283Z",
     "start_time": "2022-05-03T20:06:56.135923Z"
    }
   },
   "outputs": [],
   "source": [
    "#extracting the job name:\n",
    "job_listings = listings.find_all('h2',class_='node__title')\n",
    "name = [j.get_text().replace('\\n','') for j in job_listings]"
   ]
  },
  {
   "cell_type": "code",
   "execution_count": 246,
   "id": "561315d5",
   "metadata": {
    "ExecuteTime": {
     "end_time": "2022-05-03T20:06:57.094176Z",
     "start_time": "2022-05-03T20:06:57.084946Z"
    }
   },
   "outputs": [],
   "source": [
    "#extracting the application deadline:\n",
    "job_date = listings.find_all('span',class_='date')\n",
    "deadline = [d.get_text().replace('\\n','').split(',')[0] for d in job_date]"
   ]
  },
  {
   "cell_type": "code",
   "execution_count": 247,
   "id": "2f611316",
   "metadata": {
    "ExecuteTime": {
     "end_time": "2022-05-03T20:06:58.026377Z",
     "start_time": "2022-05-03T20:06:58.017835Z"
    }
   },
   "outputs": [],
   "source": [
    "#extracting the company name\n",
    "job_place = listings.find_all('span',class_='recruiter-company-profile-job-organization')\n",
    "organization = [p.get_text() for p in job_place]"
   ]
  },
  {
   "cell_type": "code",
   "execution_count": 248,
   "id": "2d5bb4f8",
   "metadata": {
    "ExecuteTime": {
     "end_time": "2022-05-03T20:06:58.842272Z",
     "start_time": "2022-05-03T20:06:58.833416Z"
    }
   },
   "outputs": [],
   "source": [
    "#extracting the location of the job:\n",
    "job_area = listings.find_all('div',class_='location')\n",
    "place = [a.get_text().replace('\\n','') for a in job_area]"
   ]
  },
  {
   "cell_type": "code",
   "execution_count": 249,
   "id": "152993a6",
   "metadata": {
    "ExecuteTime": {
     "end_time": "2022-05-03T20:06:59.574941Z",
     "start_time": "2022-05-03T20:06:59.564696Z"
    }
   },
   "outputs": [],
   "source": [
    "#extracting the skills/domain needed for the job:\n",
    "job_skills = listings.find_all('div', class_='terms')\n",
    "expertise = [e.get_text().replace('\\n      ','').split('|') for e in job_skills]"
   ]
  },
  {
   "cell_type": "code",
   "execution_count": 250,
   "id": "07dd83a3",
   "metadata": {
    "ExecuteTime": {
     "end_time": "2022-05-03T20:07:00.382830Z",
     "start_time": "2022-05-03T20:07:00.372389Z"
    }
   },
   "outputs": [],
   "source": [
    "#extracting the job url to apply for the job:\n",
    "links = listings.find_all('a',class_='recruiter-job-link')\n",
    "job_links = [l.get('href') for l in links]\n",
    "#getting the unique job urls:\n",
    "job_links = pd.Series(job_links)\n",
    "job_links = job_links.unique()"
   ]
  },
  {
   "cell_type": "code",
   "execution_count": 251,
   "id": "e0208f05",
   "metadata": {
    "ExecuteTime": {
     "end_time": "2022-05-03T20:07:01.254937Z",
     "start_time": "2022-05-03T20:07:01.250909Z"
    }
   },
   "outputs": [],
   "source": [
    "#creating a pandas dataframe with the attributes extracted from the page:\n",
    "data_jobs = pd.DataFrame({'job_Name': name, 'application_date' : deadline, 'company': organization, 'location': place, 'domain': expertise , 'url': job_links})"
   ]
  },
  {
   "cell_type": "code",
   "execution_count": 252,
   "id": "d402c376",
   "metadata": {
    "ExecuteTime": {
     "end_time": "2022-05-03T20:07:02.165315Z",
     "start_time": "2022-05-03T20:07:02.151985Z"
    }
   },
   "outputs": [
    {
     "data": {
      "text/html": [
       "<div>\n",
       "<style scoped>\n",
       "    .dataframe tbody tr th:only-of-type {\n",
       "        vertical-align: middle;\n",
       "    }\n",
       "\n",
       "    .dataframe tbody tr th {\n",
       "        vertical-align: top;\n",
       "    }\n",
       "\n",
       "    .dataframe thead th {\n",
       "        text-align: right;\n",
       "    }\n",
       "</style>\n",
       "<table border=\"1\" class=\"dataframe\">\n",
       "  <thead>\n",
       "    <tr style=\"text-align: right;\">\n",
       "      <th></th>\n",
       "      <th>job_Name</th>\n",
       "      <th>application_date</th>\n",
       "      <th>company</th>\n",
       "      <th>location</th>\n",
       "      <th>domain</th>\n",
       "      <th>url</th>\n",
       "    </tr>\n",
       "  </thead>\n",
       "  <tbody>\n",
       "    <tr>\n",
       "      <th>0</th>\n",
       "      <td>Data Analyst</td>\n",
       "      <td>29.04.2022</td>\n",
       "      <td>Posti Oy</td>\n",
       "      <td>Helsinki</td>\n",
       "      <td>[Manufacturing ,  Industrial Work ,  Software ...</td>\n",
       "      <td>https://www.monster.fi/en/job/data-analyst-108...</td>\n",
       "    </tr>\n",
       "    <tr>\n",
       "      <th>1</th>\n",
       "      <td>Data Analyst, Konecranes, Espoo + remote</td>\n",
       "      <td>29.04.2022</td>\n",
       "      <td>Academic Work</td>\n",
       "      <td>Espoo - Distance: 16km</td>\n",
       "      <td>[Software Development ,  Information Technolog...</td>\n",
       "      <td>https://www.monster.fi/en/job/data-analyst-kon...</td>\n",
       "    </tr>\n",
       "    <tr>\n",
       "      <th>2</th>\n",
       "      <td>Data Engineer</td>\n",
       "      <td>03.05.2022</td>\n",
       "      <td>Columbia Road</td>\n",
       "      <td>Helsinki</td>\n",
       "      <td>[Engineering ,  Industrial Work ,  Software De...</td>\n",
       "      <td>https://www.monster.fi/en/job/data-engineer-11...</td>\n",
       "    </tr>\n",
       "    <tr>\n",
       "      <th>3</th>\n",
       "      <td>BI Analyst, Group Financial Planning &amp; Analysis</td>\n",
       "      <td>02.05.2022</td>\n",
       "      <td>Normet</td>\n",
       "      <td>Espoo - Distance: 16km</td>\n",
       "      <td>[Finance    ]</td>\n",
       "      <td>https://www.monster.fi/en/job/bi-analyst-group...</td>\n",
       "    </tr>\n",
       "    <tr>\n",
       "      <th>4</th>\n",
       "      <td>Data Scientist for Vattenfall</td>\n",
       "      <td>29.04.2022</td>\n",
       "      <td>Vattenfall Oy</td>\n",
       "      <td>Helsinki</td>\n",
       "      <td>[Software Development ,  Information Technolog...</td>\n",
       "      <td>https://www.monster.fi/en/job/data-scientist-v...</td>\n",
       "    </tr>\n",
       "  </tbody>\n",
       "</table>\n",
       "</div>"
      ],
      "text/plain": [
       "                                          job_Name  \\\n",
       "0                                     Data Analyst   \n",
       "1         Data Analyst, Konecranes, Espoo + remote   \n",
       "2                                    Data Engineer   \n",
       "3  BI Analyst, Group Financial Planning & Analysis   \n",
       "4                    Data Scientist for Vattenfall   \n",
       "\n",
       "               application_date        company                 location  \\\n",
       "0                    29.04.2022       Posti Oy                Helsinki    \n",
       "1                    29.04.2022  Academic Work  Espoo - Distance: 16km    \n",
       "2                    03.05.2022  Columbia Road                Helsinki    \n",
       "3                    02.05.2022         Normet  Espoo - Distance: 16km    \n",
       "4                    29.04.2022  Vattenfall Oy                Helsinki    \n",
       "\n",
       "                                              domain  \\\n",
       "0  [Manufacturing ,  Industrial Work ,  Software ...   \n",
       "1  [Software Development ,  Information Technolog...   \n",
       "2  [Engineering ,  Industrial Work ,  Software De...   \n",
       "3                                      [Finance    ]   \n",
       "4  [Software Development ,  Information Technolog...   \n",
       "\n",
       "                                                 url  \n",
       "0  https://www.monster.fi/en/job/data-analyst-108...  \n",
       "1  https://www.monster.fi/en/job/data-analyst-kon...  \n",
       "2  https://www.monster.fi/en/job/data-engineer-11...  \n",
       "3  https://www.monster.fi/en/job/bi-analyst-group...  \n",
       "4  https://www.monster.fi/en/job/data-scientist-v...  "
      ]
     },
     "execution_count": 252,
     "metadata": {},
     "output_type": "execute_result"
    }
   ],
   "source": [
    "#printing the head\n",
    "data_jobs.head()"
   ]
  },
  {
   "cell_type": "code",
   "execution_count": 253,
   "id": "3d7b2948",
   "metadata": {
    "ExecuteTime": {
     "end_time": "2022-05-03T20:07:03.566548Z",
     "start_time": "2022-05-03T20:07:03.560502Z"
    }
   },
   "outputs": [
    {
     "data": {
      "text/plain": [
       "(20, 6)"
      ]
     },
     "execution_count": 253,
     "metadata": {},
     "output_type": "execute_result"
    }
   ],
   "source": [
    "#inspecting the size of our web scrape\n",
    "data_jobs.shape"
   ]
  },
  {
   "cell_type": "code",
   "execution_count": 255,
   "id": "5af31dfa",
   "metadata": {
    "ExecuteTime": {
     "end_time": "2022-05-03T20:07:19.649039Z",
     "start_time": "2022-05-03T20:07:19.643571Z"
    }
   },
   "outputs": [],
   "source": [
    "#saving it to a csv file locally\n",
    "data_jobs.to_csv('data_jobs.csv')"
   ]
  },
  {
   "cell_type": "code",
   "execution_count": null,
   "id": "b5d36df9",
   "metadata": {},
   "outputs": [],
   "source": []
  }
 ],
 "metadata": {
  "kernelspec": {
   "display_name": "Python 3",
   "language": "python",
   "name": "python3"
  },
  "language_info": {
   "codemirror_mode": {
    "name": "ipython",
    "version": 3
   },
   "file_extension": ".py",
   "mimetype": "text/x-python",
   "name": "python",
   "nbconvert_exporter": "python",
   "pygments_lexer": "ipython3",
   "version": "3.9.7"
  },
  "toc": {
   "base_numbering": 1,
   "nav_menu": {},
   "number_sections": true,
   "sideBar": true,
   "skip_h1_title": false,
   "title_cell": "Table of Contents",
   "title_sidebar": "Contents",
   "toc_cell": false,
   "toc_position": {},
   "toc_section_display": true,
   "toc_window_display": false
  },
  "varInspector": {
   "cols": {
    "lenName": 16,
    "lenType": 16,
    "lenVar": 40
   },
   "kernels_config": {
    "python": {
     "delete_cmd_postfix": "",
     "delete_cmd_prefix": "del ",
     "library": "var_list.py",
     "varRefreshCmd": "print(var_dic_list())"
    },
    "r": {
     "delete_cmd_postfix": ") ",
     "delete_cmd_prefix": "rm(",
     "library": "var_list.r",
     "varRefreshCmd": "cat(var_dic_list()) "
    }
   },
   "types_to_exclude": [
    "module",
    "function",
    "builtin_function_or_method",
    "instance",
    "_Feature"
   ],
   "window_display": false
  }
 },
 "nbformat": 4,
 "nbformat_minor": 5
}
